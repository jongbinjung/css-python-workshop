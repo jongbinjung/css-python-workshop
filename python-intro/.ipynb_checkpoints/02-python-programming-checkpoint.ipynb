{
 "cells": [
  {
   "cell_type": "markdown",
   "metadata": {
    "slideshow": {
     "slide_type": "slide"
    }
   },
   "source": [
    "# 2015 Computational Social Science Workshop"
   ]
  },
  {
   "cell_type": "markdown",
   "metadata": {
    "slideshow": {
     "slide_type": "-"
    }
   },
   "source": [
    "# Day 1 - Introduction to `python` - Part 2 / 3\n",
    "with **Jongbin Jung** (jongbin at stanford.edu)\n",
    "- PhD student. Decision analysis, MS&E\n",
    "\n",
    "\n",
    "All material for days 1 (intro to `python`) and 2 (web scraping with `python`) publicly available at https://github.com/jongbinjung/css-python-workshop"
   ]
  },
  {
   "cell_type": "markdown",
   "metadata": {},
   "source": [
    "## 2. `python` development (with `spyder`)\n",
    "\n",
    "Lines of `python` code can be saved to a plain text file, conventionally appended with a `.py` extension, which can by read by the interpreter to run a `python` program. A common setup for `python` development is to have\n",
    "1. a text editor of choice\n",
    "1. a command line/terminal open to run the `.py` file\n",
    "1. (optionally) a interpreter for testing small pieces of code\n",
    "\n",
    "Having your own setup can be great if you have a favorite text editor and love pushing commands around different windows. Some text editors have pretty good support for `python` development, too. \n",
    "\n",
    "Another option is to use an IDE (**I**ntegrated **D**evelopment **E**nvironment), specifically catered to your `python` development needs. [PyCharm](https://www.jetbrains.com/pycharm/) is a pretty one, and will be familiar if you've worked with IDEA, Android Studio, WebStorm, PhpStorm, etc. (They're all based on the same platform.) Today, we'll be working with `spyder` because\n",
    "\n",
    "1. it's free\n",
    "1. it comes included with Anaconda\n",
    "1. it loads faster (compared to PyCharm)"
   ]
  },
  {
   "cell_type": "markdown",
   "metadata": {},
   "source": [
    "### Launching `spyder`\n",
    "`Spyder` is best launched from Anaconda's launcher. \n",
    "\n",
    "- #### launch the `launcher`\n",
    " - **Windows**\n",
    "   - <kbd>Win</kbd> + <kbd>r</kbd>, type `launcher` and hit <kbd>OK</kbd> (or <kbd>Enter</kbd>)\n",
    "  <img src=img/ss_win_run_launcher.png alt=\"Run command on Windows\" width=300>\n",
    " - **OS X / \\*nix**\n",
    "   - Open a terminal\n",
    "   - type `launcher` and hit <kbd>Enter</kbd>\n",
    "  <img src=img/ss_osx_term_launcher.png alt=\"Run launcher from a terminal\">\n",
    " \n",
    "<img src=img/ss_launcher.png alt=\"Anaconda launcher\" width=600>\n",
    "\n",
    "- #### hit <kbd>Launch</kbd> for `spyder-app`\n",
    "\n",
    "<img src=img/ss_spyder.png alt=\"Jupyter open in a browser\" width=600>"
   ]
  },
  {
   "cell_type": "markdown",
   "metadata": {},
   "source": [
    "By default, `spyder` has a text editor on the left pane, an interactive console (to which you can also send selected commands from the text editor pane with <kbd>Shift</kbd>+<kbd>Enter</kbd>) and object/variable/file browsers on the right side.\n",
    "\n",
    "Feel free to explore and get used to the `spyder` environment before we move on.\n",
    "\n",
    "(One feature I find particularly useful is the <kbd>Ctrl</kbd>+<kbd>i</kbd> shortcut, which displays documentation for the object at my current cursor, whether in the editor or console.)"
   ]
  },
  {
   "cell_type": "markdown",
   "metadata": {},
   "source": [
    "### `if` statements\n",
    "An example should suffice"
   ]
  },
  {
   "cell_type": "code",
   "execution_count": 92,
   "metadata": {
    "collapsed": false
   },
   "outputs": [
    {
     "name": "stdout",
     "output_type": "stream",
     "text": [
      "Give me a BIG number: 1000\n",
      "Nice.\n"
     ]
    }
   ],
   "source": [
    "x = int(raw_input('Give me a BIG number: '))\n",
    "if x < 0:\n",
    "    print 'You\\'re joking, right?'\n",
    "elif x < 1e3:\n",
    "    print 'Try harder ... '\n",
    "else:\n",
    "    print 'Nice.'"
   ]
  },
  {
   "cell_type": "markdown",
   "metadata": {
    "collapsed": false
   },
   "source": [
    "Some notes on the above code:\n",
    "- the `raw_input()` function (as you've now seen), promts the user for an input\n",
    "- the `int()` (tries to) convert string values to integers (`raw_input()` will always return the user's input as a string)\n",
    "- `elif` is short for `else, if`, and there can be none or more than one `elif` sequences\n",
    "- the `else` clause is optional\n",
    "\n",
    "One more thing that's implicit but *__extremely__* important: **Indents.**\n",
    "\n",
    "- `python`, unlike many other languages out there, doesn't use curley brackets {}\n",
    "- instead, blocks of grouped code are identified by the level of indents (this is something to get used to, if you've never seen it before)\n",
    "- word of caution: NEVER USE <kbd>Tab</kbd> (don't worry, `spyder` changes all your <kbd>Tab</kbd>s to four spaces by default, which is the [PEP 8 spec for indentation][pep8] in `python`)\n",
    "\n",
    "[pep8]: https://www.python.org/dev/peps/pep-0008/#indentation"
   ]
  },
  {
   "cell_type": "markdown",
   "metadata": {
    "collapsed": false
   },
   "source": [
    "### `for` statements\n",
    "The `for` statement in `python` iterates over the items of any sequence (e.g., lists and even strings!), in the order that they appear in the sequence."
   ]
  },
  {
   "cell_type": "code",
   "execution_count": 93,
   "metadata": {
    "collapsed": false
   },
   "outputs": [
    {
     "name": "stdout",
     "output_type": "stream",
     "text": [
      "Jamie has 5 characters and starts with a J\n",
      "Cersei has 6 characters and starts with a C\n",
      "Jon has 3 characters and starts with a J\n",
      "Sansa has 5 characters and starts with a S\n"
     ]
    }
   ],
   "source": [
    "names = ['Jamie', 'Cersei', 'Jon', 'Sansa']\n",
    "\n",
    "for name in names:\n",
    "    print name, 'has', len(name), 'characters and starts with a', name[0]"
   ]
  },
  {
   "cell_type": "markdown",
   "metadata": {},
   "source": [
    "The example above introduces a few new concepts:\n",
    "- the variable `name` is defined along with the declaration of the `for` statement. It doesn't need to exist beforehand\n",
    "- the `print` statement can take multiple expressions of different types, (try to) change them to a string, and insert a space between each item (separated by commas)\n",
    "- it's good practice to use plurals for collections (`names` for the list) and singulars for individual items (`name` for each name)"
   ]
  },
  {
   "cell_type": "markdown",
   "metadata": {},
   "source": [
    "You can also loop over a string, one character at a time."
   ]
  },
  {
   "cell_type": "code",
   "execution_count": 94,
   "metadata": {
    "collapsed": false
   },
   "outputs": [
    {
     "name": "stdout",
     "output_type": "stream",
     "text": [
      "Jamie has 3 vowel(s)\n",
      "Cersei has 3 vowel(s)\n",
      "Jon has 1 vowel(s)\n",
      "Sansa has 2 vowel(s)\n"
     ]
    }
   ],
   "source": [
    "vowels = ['a', 'e', 'i', 'o', 'u']  # make a list of vowels\n",
    "for name in names:\n",
    "    vowel_count = 0  # initialize the vowel count\n",
    "    for char in name:\n",
    "        if char in vowels:\n",
    "            vowel_count += 1\n",
    "    print name, 'has', vowel_count, 'vowel(s)'"
   ]
  },
  {
   "cell_type": "markdown",
   "metadata": {},
   "source": [
    "You can use the built-in `range()` function to do a more 'classic' `for` loop over a sequence of numbers."
   ]
  },
  {
   "cell_type": "code",
   "execution_count": 95,
   "metadata": {
    "collapsed": false
   },
   "outputs": [
    {
     "data": {
      "text/plain": [
       "[0, 1, 2, 3, 4, 5, 6, 7, 8, 9]"
      ]
     },
     "execution_count": 95,
     "metadata": {},
     "output_type": "execute_result"
    }
   ],
   "source": [
    "range(10)"
   ]
  },
  {
   "cell_type": "markdown",
   "metadata": {},
   "source": [
    "`range(len)` generates the legal indices (starting from 0) for a sequence of length `len`. You can also use `range(start, stop[, step])` to specify the start, end, and (optionally) step to take.\n",
    "\n",
    "(The `[, step]` notation in the fuction signiture shows that the `step` argument is optional. It's useful to know such conventions when refering to the docs.)"
   ]
  },
  {
   "cell_type": "code",
   "execution_count": 96,
   "metadata": {
    "collapsed": false
   },
   "outputs": [
    {
     "data": {
      "text/plain": [
       "[4, 5, 6, 7, 8, 9, 10, 11, 12, 13, 14, 15, 16, 17, 18, 19]"
      ]
     },
     "execution_count": 96,
     "metadata": {},
     "output_type": "execute_result"
    }
   ],
   "source": [
    "range(4,20)"
   ]
  },
  {
   "cell_type": "code",
   "execution_count": 97,
   "metadata": {
    "collapsed": false
   },
   "outputs": [
    {
     "data": {
      "text/plain": [
       "[4, 11, 18]"
      ]
     },
     "execution_count": 97,
     "metadata": {},
     "output_type": "execute_result"
    }
   ],
   "source": [
    "range(4,20,7)"
   ]
  },
  {
   "cell_type": "code",
   "execution_count": 98,
   "metadata": {
    "collapsed": false
   },
   "outputs": [
    {
     "data": {
      "text/plain": [
       "[20, 17, 14, 11, 8, 5]"
      ]
     },
     "execution_count": 98,
     "metadata": {},
     "output_type": "execute_result"
    }
   ],
   "source": [
    "range(20,4,-3)"
   ]
  },
  {
   "cell_type": "markdown",
   "metadata": {},
   "source": [
    "You can combine `range()` with `len()` to iterate over the indices of a sequence."
   ]
  },
  {
   "cell_type": "code",
   "execution_count": 99,
   "metadata": {
    "collapsed": false
   },
   "outputs": [
    {
     "name": "stdout",
     "output_type": "stream",
     "text": [
      "Name 0 is Jamie\n",
      "Name 1 is Cersei\n",
      "Name 2 is Jon\n",
      "Name 3 is Sansa\n"
     ]
    }
   ],
   "source": [
    "for i in range(len(names)):\n",
    "    print 'Name', i, 'is', names[i]"
   ]
  },
  {
   "cell_type": "markdown",
   "metadata": {},
   "source": [
    "But in such cases, the `enumerate()` function is usually more convenient."
   ]
  },
  {
   "cell_type": "code",
   "execution_count": 100,
   "metadata": {
    "collapsed": false
   },
   "outputs": [
    {
     "name": "stdout",
     "output_type": "stream",
     "text": [
      "Name 0 is Jamie\n",
      "Name 1 is Cersei\n",
      "Name 2 is Jon\n",
      "Name 3 is Sansa\n"
     ]
    }
   ],
   "source": [
    "for i, name in enumerate(names):\n",
    "    print 'Name', i, 'is', name"
   ]
  },
  {
   "cell_type": "markdown",
   "metadata": {},
   "source": [
    "As you might have guessed, the `enumerate()` function takes a sequence, and returns the (index, value) pairs for each item (the 'pairs' are actually called `tuple`s, but more on that later...), and you can assign items from a `tuple` to its own variable in the `for` statement."
   ]
  },
  {
   "cell_type": "code",
   "execution_count": 101,
   "metadata": {
    "collapsed": false
   },
   "outputs": [
    {
     "name": "stdout",
     "output_type": "stream",
     "text": [
      "[(0, 'Jamie'), (1, 'Cersei'), (2, 'Jon'), (3, 'Sansa')]\n"
     ]
    }
   ],
   "source": [
    "print list(enumerate(names))"
   ]
  },
  {
   "cell_type": "markdown",
   "metadata": {},
   "source": [
    "Occasionally, you might want to loop over two or more sequences at a time. You can pair the entries with the `zip()` function."
   ]
  },
  {
   "cell_type": "code",
   "execution_count": 102,
   "metadata": {
    "collapsed": false
   },
   "outputs": [
    {
     "name": "stdout",
     "output_type": "stream",
     "text": [
      "G - Jamie Lannister\n",
      "a - Cersei Lannister\n",
      "m - Jon Snow\n",
      "e - Sansa Stark\n"
     ]
    }
   ],
   "source": [
    "title = 'Game of Thrones'\n",
    "houses = ['Lannister', 'Lannister', 'Snow', 'Stark']\n",
    "for char, house, name in zip(title, houses, names):\n",
    "    print char, '-', name, house"
   ]
  },
  {
   "cell_type": "markdown",
   "metadata": {
    "collapsed": false
   },
   "source": [
    "Note how `zip()` gracefully fits the interator to the length of the shortest sequence, i.e., only the first four characters of the string 'Game of Thrones' were iterated."
   ]
  },
  {
   "cell_type": "markdown",
   "metadata": {},
   "source": [
    "### `break` and `continue` statements\n",
    "You can manage your loops in more detail using `break` and `continue` statements. \n",
    "\n",
    "A `break` statement, as the name implies, will break you out of the smallest enclosing loop."
   ]
  },
  {
   "cell_type": "code",
   "execution_count": 103,
   "metadata": {
    "collapsed": false
   },
   "outputs": [
    {
     "name": "stdout",
     "output_type": "stream",
     "text": [
      "Jamie Lannister\n",
      "Cersei Lannister\n"
     ]
    }
   ],
   "source": [
    "for name, house in zip(names, houses):\n",
    "    if house == 'Snow':\n",
    "        break\n",
    "    else:\n",
    "        print name, house"
   ]
  },
  {
   "cell_type": "markdown",
   "metadata": {},
   "source": [
    "A `continue` statement will simply skip over to the next item in the iterator, instead of breaking out of the loop."
   ]
  },
  {
   "cell_type": "code",
   "execution_count": 104,
   "metadata": {
    "collapsed": false
   },
   "outputs": [
    {
     "name": "stdout",
     "output_type": "stream",
     "text": [
      "Jamie Lannister\n",
      "Cersei Lannister\n",
      "Sansa Stark\n"
     ]
    }
   ],
   "source": [
    "for name, house in zip(names, houses):\n",
    "    if house == 'Snow':\n",
    "        continue  # compare to the previous example where we stopped the loop at Snow, now we simply skip it\n",
    "    else:\n",
    "        print name, house"
   ]
  },
  {
   "cell_type": "markdown",
   "metadata": {
    "collapsed": true
   },
   "source": [
    "### Some more data structures\n",
    "Before we move on, now might be a good time to cover a few more data structures.\n",
    "#### `dict` (dictionary)\n",
    "The most useful data structure in `python` (my very personal opinion)! Also known as *associative arrays* or *hash tables* in other languages, a `python` dictionary maps *hashable* values to *arbitrary* objects. Dictionaries can be created by placing a comma-separated list of `key:value` pairs within curly braces. Just remember that the `key` must be immutable (like a string)."
   ]
  },
  {
   "cell_type": "code",
   "execution_count": 106,
   "metadata": {
    "collapsed": false
   },
   "outputs": [
    {
     "name": "stdout",
     "output_type": "stream",
     "text": [
      "{'name': 'Jongbin', 'email': 'jongbin@stanford.edu'}\n"
     ]
    }
   ],
   "source": [
    "me = {'name':'Jongbin', 'email':'jongbin@stanford.edu'}\n",
    "print me"
   ]
  },
  {
   "cell_type": "markdown",
   "metadata": {},
   "source": [
    "You can assign new keys to existing dictionaries."
   ]
  },
  {
   "cell_type": "code",
   "execution_count": 107,
   "metadata": {
    "collapsed": false,
    "scrolled": true
   },
   "outputs": [
    {
     "name": "stdout",
     "output_type": "stream",
     "text": [
      "{'cel': '650-123-4567', 'name': 'Jongbin', 'email': 'jongbin@stanford.edu'}\n"
     ]
    }
   ],
   "source": [
    "me['cel'] = '650-123-4567'\n",
    "print me"
   ]
  },
  {
   "cell_type": "markdown",
   "metadata": {},
   "source": [
    "Or delete existing `key:value` pairs with the `del` statement."
   ]
  },
  {
   "cell_type": "code",
   "execution_count": 108,
   "metadata": {
    "collapsed": false,
    "scrolled": false
   },
   "outputs": [
    {
     "name": "stdout",
     "output_type": "stream",
     "text": [
      "{'cel': '650-123-4567', 'name': 'Jongbin'}\n"
     ]
    }
   ],
   "source": [
    "del me['email']\n",
    "print me"
   ]
  },
  {
   "cell_type": "markdown",
   "metadata": {},
   "source": [
    "The `key` of a dictionary can't be a list (because lists are mutable), but the `value` sure can!"
   ]
  },
  {
   "cell_type": "code",
   "execution_count": 109,
   "metadata": {
    "collapsed": false
   },
   "outputs": [
    {
     "name": "stdout",
     "output_type": "stream",
     "text": [
      "{'siblings': ['Hanbyul', 'Hansol'], 'cel': '650-123-4567', 'name': 'Jongbin'}\n"
     ]
    }
   ],
   "source": [
    "me['siblings'] = ['Hanbyul', 'Hansol']\n",
    "print me"
   ]
  },
  {
   "cell_type": "markdown",
   "metadata": {},
   "source": [
    "Use the `keys()` method of dictionary objects to get a list of the keys used in the dictionary."
   ]
  },
  {
   "cell_type": "code",
   "execution_count": 110,
   "metadata": {
    "collapsed": false
   },
   "outputs": [
    {
     "data": {
      "text/plain": [
       "['siblings', 'cel', 'name']"
      ]
     },
     "execution_count": 110,
     "metadata": {},
     "output_type": "execute_result"
    }
   ],
   "source": [
    "me.keys()"
   ]
  },
  {
   "cell_type": "markdown",
   "metadata": {},
   "source": [
    "And use the `in` keyword (compatible with all lists) to see if the a certain key exists in the dictionary."
   ]
  },
  {
   "cell_type": "code",
   "execution_count": 111,
   "metadata": {
    "collapsed": false
   },
   "outputs": [
    {
     "data": {
      "text/plain": [
       "True"
      ]
     },
     "execution_count": 111,
     "metadata": {},
     "output_type": "execute_result"
    }
   ],
   "source": [
    "'name' in me.keys()"
   ]
  },
  {
   "cell_type": "code",
   "execution_count": 112,
   "metadata": {
    "collapsed": false
   },
   "outputs": [
    {
     "data": {
      "text/plain": [
       "False"
      ]
     },
     "execution_count": 112,
     "metadata": {},
     "output_type": "execute_result"
    }
   ],
   "source": [
    "'email' in me.keys()"
   ]
  },
  {
   "cell_type": "markdown",
   "metadata": {},
   "source": [
    "When the keys are simple strings, it is sometimes easier to specify pairs using the `dict` constructor."
   ]
  },
  {
   "cell_type": "code",
   "execution_count": 113,
   "metadata": {
    "collapsed": false
   },
   "outputs": [
    {
     "name": "stdout",
     "output_type": "stream",
     "text": [
      "{'siblings': ['Hanbyul', 'Hansol'], 'email': 'jongbin@stanford.edu', 'name': 'Jongbin'}\n"
     ]
    }
   ],
   "source": [
    "me = dict(name='Jongbin', email='jongbin@stanford.edu', siblings=['Hanbyul', 'Hansol'])\n",
    "print me"
   ]
  },
  {
   "cell_type": "markdown",
   "metadata": {},
   "source": [
    "The `iteritems()` method lets you loop over each `key:value` pair."
   ]
  },
  {
   "cell_type": "code",
   "execution_count": 114,
   "metadata": {
    "collapsed": false
   },
   "outputs": [
    {
     "name": "stdout",
     "output_type": "stream",
     "text": [
      "siblings : ['Hanbyul', 'Hansol']\n",
      "email : jongbin@stanford.edu\n",
      "name : Jongbin\n"
     ]
    }
   ],
   "source": [
    "for key, value in me.iteritems():\n",
    "    print key, ':', value"
   ]
  },
  {
   "cell_type": "markdown",
   "metadata": {},
   "source": [
    "#### `tuple`s\n",
    "`Tuple`s are pretty similar to lists, except for the fact that they are immuatable. They consist of a number of values separated by commas (not necessarily, but often, enclosed in parentheses)."
   ]
  },
  {
   "cell_type": "code",
   "execution_count": 115,
   "metadata": {
    "collapsed": false
   },
   "outputs": [
    {
     "name": "stdout",
     "output_type": "stream",
     "text": [
      "('male', 'dark hair')\n"
     ]
    }
   ],
   "source": [
    "description = 'male', 'dark hair'\n",
    "print description"
   ]
  },
  {
   "cell_type": "code",
   "execution_count": 116,
   "metadata": {
    "collapsed": false
   },
   "outputs": [
    {
     "data": {
      "text/plain": [
       "'male'"
      ]
     },
     "execution_count": 116,
     "metadata": {},
     "output_type": "execute_result"
    }
   ],
   "source": [
    "description[0]  # tuples are also sequences, and can be indexed"
   ]
  },
  {
   "cell_type": "code",
   "execution_count": 117,
   "metadata": {
    "collapsed": false
   },
   "outputs": [
    {
     "data": {
      "text/plain": [
       "('dark hair',)"
      ]
     },
     "execution_count": 117,
     "metadata": {},
     "output_type": "execute_result"
    }
   ],
   "source": [
    "description[1:]  # or sliced"
   ]
  },
  {
   "cell_type": "code",
   "execution_count": 118,
   "metadata": {
    "collapsed": false
   },
   "outputs": [
    {
     "ename": "TypeError",
     "evalue": "'tuple' object does not support item assignment",
     "output_type": "error",
     "traceback": [
      "\u001b[1;31m---------------------------------------------------------------------------\u001b[0m",
      "\u001b[1;31mTypeError\u001b[0m                                 Traceback (most recent call last)",
      "\u001b[1;32m<ipython-input-118-193ada17dc41>\u001b[0m in \u001b[0;36m<module>\u001b[1;34m()\u001b[0m\n\u001b[1;32m----> 1\u001b[1;33m \u001b[0mdescription\u001b[0m\u001b[1;33m[\u001b[0m\u001b[1;36m0\u001b[0m\u001b[1;33m]\u001b[0m \u001b[1;33m=\u001b[0m \u001b[1;34m'female'\u001b[0m  \u001b[1;31m# but NOT changed, because they are immutable\u001b[0m\u001b[1;33m\u001b[0m\u001b[0m\n\u001b[0m",
      "\u001b[1;31mTypeError\u001b[0m: 'tuple' object does not support item assignment"
     ]
    }
   ],
   "source": [
    "description[0] = 'female'  # but NOT changed, because they are immutable"
   ]
  },
  {
   "cell_type": "markdown",
   "metadata": {},
   "source": [
    "While being immutable may seem like a minor difference from lists, the implications are quite big, and tuples are generally used for very different purposes compared to lists. For example, tuples can be used as the `key` for dictionaries (think sparse matrices). "
   ]
  },
  {
   "cell_type": "code",
   "execution_count": 119,
   "metadata": {
    "collapsed": false
   },
   "outputs": [
    {
     "name": "stdout",
     "output_type": "stream",
     "text": [
      "{(0, 0): 1, (1000, 1000): 1}\n"
     ]
    }
   ],
   "source": [
    "super_sparse_matrix = {(0, 0):1, (1000, 1000):1}  # a 1000*1000 matrix with only two non-zero elements?\n",
    "print super_sparse_matrix"
   ]
  },
  {
   "cell_type": "code",
   "execution_count": 120,
   "metadata": {
    "collapsed": false
   },
   "outputs": [
    {
     "name": "stdout",
     "output_type": "stream",
     "text": [
      "{('apples', 'pears'): 1, ('apples', 'bananas'): 1}\n"
     ]
    }
   ],
   "source": [
    "word_matrix = {('apples', 'bananas'):1, ('apples', 'pears'):1}  # a matrix indexed by words\n",
    "print word_matrix"
   ]
  },
  {
   "cell_type": "markdown",
   "metadata": {},
   "source": [
    "There are many more data structures commonly used in `python`, but lists, dictionaries, and tuples pretty much cover the basics (not to mention that these three constitute enough to fully represent the [JSON](http://json.org/) format in `python`)"
   ]
  },
  {
   "cell_type": "markdown",
   "metadata": {},
   "source": [
    "### List comprehension\n",
    "List comprehension is `python`'s way of creating lists (and also other data structures) in a concise manner. One way to create a list of squares would be:"
   ]
  },
  {
   "cell_type": "code",
   "execution_count": 121,
   "metadata": {
    "collapsed": false
   },
   "outputs": [
    {
     "name": "stdout",
     "output_type": "stream",
     "text": [
      "[0, 1, 4, 9, 16, 25, 36, 49, 64, 81]\n"
     ]
    }
   ],
   "source": [
    "squares = []  # make an empty list\n",
    "for x in range(10):\n",
    "    squares.append(x**2)\n",
    "    \n",
    "print squares"
   ]
  },
  {
   "cell_type": "markdown",
   "metadata": {},
   "source": [
    "However, the more 'pythonic' way to do this, is to use list comprehension:"
   ]
  },
  {
   "cell_type": "code",
   "execution_count": 122,
   "metadata": {
    "collapsed": false
   },
   "outputs": [
    {
     "data": {
      "text/plain": [
       "[0, 1, 4, 9, 16, 25, 36, 49, 64, 81]"
      ]
     },
     "execution_count": 122,
     "metadata": {},
     "output_type": "execute_result"
    }
   ],
   "source": [
    "[x**2 for x in range(10)]"
   ]
  },
  {
   "cell_type": "markdown",
   "metadata": {},
   "source": [
    "The command reads: \n",
    "> build a list out of the square of x (x\\*\\*2), for the values of x in `range(10)`"
   ]
  },
  {
   "cell_type": "markdown",
   "metadata": {},
   "source": [
    "List comprehension can be used to build a list of tuples too."
   ]
  },
  {
   "cell_type": "code",
   "execution_count": 123,
   "metadata": {
    "collapsed": false
   },
   "outputs": [
    {
     "data": {
      "text/plain": [
       "[(3, 7), (7, 3)]"
      ]
     },
     "execution_count": 123,
     "metadata": {},
     "output_type": "execute_result"
    }
   ],
   "source": [
    "[(x, y) for x in range(10) for y in range(10) if x*y == 21]"
   ]
  },
  {
   "cell_type": "markdown",
   "metadata": {},
   "source": [
    "This is equivalent to the nested `for` loop:"
   ]
  },
  {
   "cell_type": "code",
   "execution_count": 124,
   "metadata": {
    "collapsed": false
   },
   "outputs": [
    {
     "name": "stdout",
     "output_type": "stream",
     "text": [
      "[(3, 7), (7, 3)]\n"
     ]
    }
   ],
   "source": [
    "twenty_one = []\n",
    "for x in range(10):\n",
    "    for y in range(10):\n",
    "        if x*y == 21:\n",
    "            twenty_one.append((x, y))\n",
    "            \n",
    "print twenty_one"
   ]
  },
  {
   "cell_type": "markdown",
   "metadata": {},
   "source": [
    "Just be aware that if the item of the list is a tuple, it must be parenthesized."
   ]
  },
  {
   "cell_type": "code",
   "execution_count": 125,
   "metadata": {
    "collapsed": false
   },
   "outputs": [
    {
     "ename": "SyntaxError",
     "evalue": "invalid syntax (<ipython-input-125-c0af109a84cc>, line 1)",
     "output_type": "error",
     "traceback": [
      "\u001b[1;36m  File \u001b[1;32m\"<ipython-input-125-c0af109a84cc>\"\u001b[1;36m, line \u001b[1;32m1\u001b[0m\n\u001b[1;33m    [x, y for x in range(10) for y in range(10) if x*y == 21]  # this won't work\u001b[0m\n\u001b[1;37m            ^\u001b[0m\n\u001b[1;31mSyntaxError\u001b[0m\u001b[1;31m:\u001b[0m invalid syntax\n"
     ]
    }
   ],
   "source": [
    "[x, y for x in range(10) for y in range(10) if x*y == 21]  # this won't work"
   ]
  },
  {
   "cell_type": "markdown",
   "metadata": {},
   "source": [
    "Let's enhance our list of vowels from the previous exercises, by appending the uppercase letters as well."
   ]
  },
  {
   "cell_type": "code",
   "execution_count": 126,
   "metadata": {
    "collapsed": false
   },
   "outputs": [
    {
     "name": "stdout",
     "output_type": "stream",
     "text": [
      "['a', 'e', 'i', 'o', 'u', 'A', 'E', 'I', 'O', 'U']\n"
     ]
    }
   ],
   "source": [
    "vowels = vowels + [V.upper() for V in vowels]\n",
    "print vowels"
   ]
  },
  {
   "cell_type": "markdown",
   "metadata": {},
   "source": [
    "List comprehension can also be used to build dictionaries.\n",
    "\n",
    "Try building a sparse matrix (represented by a dictionary), where the position is indexed by words $x$ and $y$, and\n",
    "$$(x, y) = \\begin{cases}\n",
    "1 & \\text{if} \\quad y \\quad \\text{is longer than} \\quad x \\\\\n",
    "0 & \\text{otherwise}\n",
    "\\end{cases}$$"
   ]
  },
  {
   "cell_type": "code",
   "execution_count": 127,
   "metadata": {
    "collapsed": false
   },
   "outputs": [
    {
     "data": {
      "text/plain": [
       "{('anti', 'eagles'): 1,\n",
       " ('anti', 'evening'): 1,\n",
       " ('anti', 'happy'): 1,\n",
       " ('anti', 'interior'): 1,\n",
       " ('anti', 'zebra'): 1,\n",
       " ('eagles', 'evening'): 1,\n",
       " ('eagles', 'interior'): 1,\n",
       " ('evening', 'interior'): 1,\n",
       " ('happy', 'eagles'): 1,\n",
       " ('happy', 'evening'): 1,\n",
       " ('happy', 'interior'): 1,\n",
       " ('zebra', 'eagles'): 1,\n",
       " ('zebra', 'evening'): 1,\n",
       " ('zebra', 'interior'): 1}"
      ]
     },
     "execution_count": 127,
     "metadata": {},
     "output_type": "execute_result"
    }
   ],
   "source": [
    "words = ['anti', 'happy', 'evening', 'eagles', 'interior', 'zebra']\n",
    "{(x,y):1 for x in words for y in words if len(y) > len(x)}"
   ]
  },
  {
   "cell_type": "markdown",
   "metadata": {},
   "source": [
    "### Writing functions\n",
    "Let's create a function to count the number of vowels in a given string"
   ]
  },
  {
   "cell_type": "code",
   "execution_count": 128,
   "metadata": {
    "collapsed": false
   },
   "outputs": [
    {
     "data": {
      "text/plain": [
       "12"
      ]
     },
     "execution_count": 128,
     "metadata": {},
     "output_type": "execute_result"
    }
   ],
   "source": [
    "def count_vowels(s):\n",
    "    \"\"\"Count the number of vowels in a string.\"\"\"\n",
    "    vowels = 'aeiouAEIOU'\n",
    "    nvowels = [s.count(v) for v in vowels]  # count the number of each vowel in s\n",
    "    return sum(nvowels)  # return the sum of elements in nvowel\n",
    "\n",
    "# use the new function\n",
    "count_vowels('Eels are delicious animals')"
   ]
  },
  {
   "cell_type": "markdown",
   "metadata": {},
   "source": [
    "- the `def` keyword declares a function **def**inition, followed by a function name and the parenthesized list of formal parameters\n",
    "- the statements that form the body of the function start at the next line, and must be indented\n",
    "- the first statement of the function body can optionally be a string, also known as the [docstring](https://docs.python.org/2/tutorial/controlflow.html#tut-docstrings)\n",
    "- many tools (such as `spyder`) use the docstring to give users meaningful information - so help yourself, make a habit of writing meaningful docstrings\n",
    "- functions that don't finish with a `return` statement return `None` (a special `python` object)"
   ]
  },
  {
   "cell_type": "markdown",
   "metadata": {},
   "source": [
    "Functions can also return more a tuple of values. For example, let's modify our `count_vowels` function to return the number of vowel along with the list specifying the number of *each* vowel."
   ]
  },
  {
   "cell_type": "code",
   "execution_count": 131,
   "metadata": {
    "collapsed": false,
    "scrolled": true
   },
   "outputs": [
    {
     "data": {
      "text/plain": [
       "(12,\n",
       " [('a', 3),\n",
       "  ('e', 3),\n",
       "  ('i', 3),\n",
       "  ('o', 1),\n",
       "  ('u', 1),\n",
       "  ('A', 0),\n",
       "  ('E', 1),\n",
       "  ('I', 0),\n",
       "  ('O', 0),\n",
       "  ('U', 0)])"
      ]
     },
     "execution_count": 131,
     "metadata": {},
     "output_type": "execute_result"
    }
   ],
   "source": [
    "def count_vowels(s):\n",
    "    \"\"\"\n",
    "    Count the number of vowels in a string.\n",
    "    \n",
    "    returns: number of vowels, list containing number of appearance for each vowel \n",
    "    \"\"\"\n",
    "    vowels = 'aeiouAEIOU'\n",
    "    nvowels = [s.count(v) for v in vowels]  # count the number of each vowel in s\n",
    "    return sum(nvowels), list(zip(vowels, nvowels))  # return the sum and a zipped list\n",
    "                              \n",
    "count_vowels('Eels are delicious animals')"
   ]
  },
  {
   "cell_type": "markdown",
   "metadata": {},
   "source": [
    "A returned tuple can also be 'unpacked' into multiple variables."
   ]
  },
  {
   "cell_type": "code",
   "execution_count": 136,
   "metadata": {
    "collapsed": false
   },
   "outputs": [
    {
     "name": "stdout",
     "output_type": "stream",
     "text": [
      "Found total 12 vowels, each vowel as follows:\n",
      "[('a', 3), ('e', 3), ('i', 3), ('o', 1), ('u', 1), ('A', 0), ('E', 1), ('I', 0), ('O', 0), ('U', 0)]\n"
     ]
    }
   ],
   "source": [
    "total_count, individual_count = count_vowels('Eels are delicious animals')\n",
    "print 'Found total', total_count, 'vowels, each vowel as follows:'\n",
    "print individual_count"
   ]
  },
  {
   "cell_type": "markdown",
   "metadata": {},
   "source": [
    "### Functions with optional arguments\n",
    "Let's further enhance the `count_vowels` function by letting the user specify\n",
    "- which vowels to count ('aeiouAEIOU' by default)\n",
    "- whether to return a single sum or a tuple of the sum and list (single sum by default)\n",
    "\n",
    "This can be achieved by specifying default values in the function declaration."
   ]
  },
  {
   "cell_type": "code",
   "execution_count": 137,
   "metadata": {
    "collapsed": false
   },
   "outputs": [
    {
     "data": {
      "text/plain": [
       "12"
      ]
     },
     "execution_count": 137,
     "metadata": {},
     "output_type": "execute_result"
    }
   ],
   "source": [
    "def count_vowels(s, vowels = 'aeiouAEIOU', returnAll = False):\n",
    "    \"\"\"\n",
    "    Count the number of vowels in a string.\n",
    "    \n",
    "    returns: number of vowels, list containing number of appearance for each vowel \n",
    "    \"\"\"\n",
    "    nvowels = [s.count(v) for v in vowels]  # count the number of each vowel in s\n",
    "    if returnAll:\n",
    "        return sum(nvowels), list(zip(vowels, nvowels))  # return the sum and a zipped list\n",
    "    else:\n",
    "        return sum(nvowels)  # return just the sum\n",
    "                              \n",
    "count_vowels('Eels are delicious animals')"
   ]
  },
  {
   "cell_type": "code",
   "execution_count": 138,
   "metadata": {
    "collapsed": false
   },
   "outputs": [
    {
     "data": {
      "text/plain": [
       "11"
      ]
     },
     "execution_count": 138,
     "metadata": {},
     "output_type": "execute_result"
    }
   ],
   "source": [
    "count_vowels('Eels are delicious animals', vowels = 'aeiou')  # no caps"
   ]
  },
  {
   "cell_type": "code",
   "execution_count": 139,
   "metadata": {
    "collapsed": false
   },
   "outputs": [
    {
     "data": {
      "text/plain": [
       "(12,\n",
       " [('a', 3),\n",
       "  ('e', 3),\n",
       "  ('i', 3),\n",
       "  ('o', 1),\n",
       "  ('u', 1),\n",
       "  ('A', 0),\n",
       "  ('E', 1),\n",
       "  ('I', 0),\n",
       "  ('O', 0),\n",
       "  ('U', 0)])"
      ]
     },
     "execution_count": 139,
     "metadata": {},
     "output_type": "execute_result"
    }
   ],
   "source": [
    "count_vowels('Eels are delicious animals', returnAll = True)  # give me EVERYTHING"
   ]
  },
  {
   "cell_type": "markdown",
   "metadata": {},
   "source": [
    "Be careful with having mutable defaults, though. Default values of a function's argument are shared between subsequent calls, and this might cause problems if you're manipulating the argument's value within the function. For example,"
   ]
  },
  {
   "cell_type": "code",
   "execution_count": 140,
   "metadata": {
    "collapsed": false
   },
   "outputs": [
    {
     "name": "stdout",
     "output_type": "stream",
     "text": [
      "[1]\n",
      "[1, 2]\n",
      "[1, 2, 3]\n"
     ]
    }
   ],
   "source": [
    "def fun(n, stuff=[]):\n",
    "    \"\"\"Issues with mutable defaults.\"\"\"\n",
    "    stuff.append(n)\n",
    "    return stuff\n",
    "\n",
    "print fun(1)  # stuff is empty by default\n",
    "print fun(2)  # stuff was manipulated, and is now [1] from the previous call!\n",
    "print fun(3)  # even worse, stuff is now [1, 2] !!!"
   ]
  },
  {
   "cell_type": "markdown",
   "metadata": {},
   "source": [
    "This behavior isn't necessarily a problem, and it might even make sense in some contexts. However, it's definitely worth keeping in mind to avoid being surprised. If you want to prevent such behavior, one simple work-around is to set the default to `None`, and check if it is indeed `None`, before assigning the 'true' default, such as:"
   ]
  },
  {
   "cell_type": "code",
   "execution_count": 141,
   "metadata": {
    "collapsed": false
   },
   "outputs": [
    {
     "name": "stdout",
     "output_type": "stream",
     "text": [
      "[1]\n",
      "[2]\n",
      "[3]\n",
      "[1, 2, 3]\n"
     ]
    }
   ],
   "source": [
    "def fun(n, stuff=None):\n",
    "    \"\"\"Fix for mutable defaults.\"\"\"\n",
    "    if stuff is None:\n",
    "        stuff = []\n",
    "    stuff.append(n)\n",
    "    return stuff\n",
    "\n",
    "print fun(1)  # unspecified argument stuff is None, then set to []\n",
    "print fun(2)  # unspecified argument stuff is None, then set to []\n",
    "print fun(3)  # unspecified argument stuff is None, then set to []\n",
    "print fun(3, [1,2])  # and we can always specify stuff if we need to!"
   ]
  },
  {
   "cell_type": "markdown",
   "metadata": {},
   "source": [
    "You can definitely do more with function arguments, but that might be beyond the scope of today's workshop, and I've found that most of my functioning needs are satisfied by roughly this much detail. Take a look at [The Python Tutorial](https://docs.python.org/2/tutorial/controlflow.html#more-on-defining-functions) at https://docs.python.org/2/tutorial/controlflow.html#more-on-defining-functions if you're interested in more advanced argument handling."
   ]
  },
  {
   "cell_type": "markdown",
   "metadata": {},
   "source": [
    "### Lambda expressions\n",
    "Anonymous one-liner functions can be created with the `lambda` keyword wherever function objects are required, but you don't want or need to define a full function. "
   ]
  },
  {
   "cell_type": "code",
   "execution_count": 149,
   "metadata": {
    "collapsed": false
   },
   "outputs": [
    {
     "name": "stdout",
     "output_type": "stream",
     "text": [
      "['happy', 'anti', 'zebra', 'evening', 'eagles', 'interior']\n"
     ]
    }
   ],
   "source": [
    "# sort the list of words by the number of vowels in each word, \n",
    "# but without defining a separate count_vowel function\n",
    "words.sort(key=lambda word: sum([word.count(v) for v in 'aeiouAEIOU']))\n",
    "print words"
   ]
  },
  {
   "cell_type": "markdown",
   "metadata": {},
   "source": [
    "## Mid-session exercise\n",
    "Hopefully, we've reached this point by the end of the morning session, and now would be a perfect time for an exercise.\n",
    "\n",
    "Problem: define a function to make word count? / N-Gram?\n",
    "TODO: add link to data chuck"
   ]
  }
 ],
 "metadata": {
  "celltoolbar": "Raw Cell Format",
  "kernelspec": {
   "display_name": "Python 2",
   "language": "python",
   "name": "python2"
  },
  "language_info": {
   "codemirror_mode": {
    "name": "ipython",
    "version": 2
   },
   "file_extension": ".py",
   "mimetype": "text/x-python",
   "name": "python",
   "nbconvert_exporter": "python",
   "pygments_lexer": "ipython2",
   "version": "2.7.8"
  }
 },
 "nbformat": 4,
 "nbformat_minor": 0
}
