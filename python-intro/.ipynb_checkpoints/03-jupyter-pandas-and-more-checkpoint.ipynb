{
 "cells": [
  {
   "cell_type": "markdown",
   "metadata": {
    "slideshow": {
     "slide_type": "slide"
    }
   },
   "source": [
    "# 2015 Computational Social Science Workshop\n"
   ]
  },
  {
   "cell_type": "markdown",
   "metadata": {
    "slideshow": {
     "slide_type": "-"
    }
   },
   "source": [
    "## Day 1 - Introduction to `python`\n",
    "with **Jongbin Jung** (jongbin at stanford.edu)\n",
    "- PhD student. Decision analysis, MS&E\n",
    "\n",
    "All material for days 1 (intro to `python`) and 2 (web scraping with `python`) publicly available at https://github.com/jongbinjung/css-python-workshop"
   ]
  },
  {
   "cell_type": "markdown",
   "metadata": {},
   "source": [
    "## Meet `python`\n",
    "### Why `python`?\n",
    "- fast\n",
    "- modular\n",
    "- object oriented\n",
    "- tons of libraries\n",
    "- ...\n",
    "\n",
    "- for us (social science people): *gets the job done*\n",
    "\n",
    "Today, I will try not to cover `python` as a programming language (although it is an awesome one), but as a simple tool to *get the job done*. Instead of going bottom-up (starting with Numbers, Strings, Data types ...), I'll *try* to go top-down-ish, starting with **Jupyter** (aka **iPython Notebook**) and **`pandas`**, introducing basic `python` concepts as we go.\n",
    "\n",
    "There are more than enough resources available if you're interested in the bottom-up approach:\n",
    "- [The official Python tutorial](https://docs.python.org/2/tutorial/index.html)\n",
    "- [Google's Python Course](https://developers.google.com/edu/python/)\n",
    "- ... just to name a few"
   ]
  },
  {
   "cell_type": "markdown",
   "metadata": {},
   "source": [
    "## [Anaconda][anaconda]\n",
    "[anaconda]: https://store.continuum.io/cshop/anaconda/\n",
    "- **[Anaconda][anaconda]** is one of many `python` distributions\n",
    "- it's free (some distributions aren't).\n",
    "- comes pre-installed with a lot of useful libraries\n",
    "- think of it as a **\"`python` starter kit\"**\n",
    "- as far as I've seen, it's the most painless way to get things up-and-running\n",
    "\n",
    "\n",
    "- download/install from https://store.continuum.io/cshop/anaconda/"
   ]
  },
  {
   "cell_type": "markdown",
   "metadata": {},
   "source": [
    "## Jupyter (aka iPython Notebook)\n",
    "- web-based interface to `iPython` (an 'interactive' version of `python`)\n",
    "- fully functional (anything you can do in `python`, you can do in an Jupyter)\n",
    "- your entire project in the form of a blog post\n",
    "\n",
    "\n",
    "- launch the `launcher`\n",
    "<img src=img/ss_launcher.png alt=\"Anaconda launcher\" width=600>"
   ]
  },
  {
   "cell_type": "markdown",
   "metadata": {},
   "source": [
    "- **Windows**\n",
    " - <kbd>Win</kbd> + <kbd>r</kbd>, type `launcher` and hit <kbd>OK</kbd> (or <kbd>Enter</kbd>)\n",
    " <img src=img/ss_win_run_launcher.png alt=\"Run command on Windows\" width=300>\n",
    "- **OS X**"
   ]
  },
  {
   "cell_type": "markdown",
   "metadata": {},
   "source": [
    "- hit <kbd>Launch</kbd> for `ipython-notebook`\n",
    "- Jupyter will launch in your default browser, with the `$HOME` directory open\n",
    "- you can browse the file system, create folders, and create notebooks\n",
    "- create a new `python` notebook in the location of your choice, and open!\n",
    "<img src=img/ss_jupyter.png alt=\"Jupyter open in a browser\" width=600>"
   ]
  },
  {
   "cell_type": "markdown",
   "metadata": {
    "slideshow": {
     "slide_type": "slide"
    }
   },
   "source": [
    "### Basic stuff\n",
    "- an iPython Notebook has two type of \"cells\"\n",
    " - `Code` cell: write and execute `python` code\n",
    " - `Markdown` cell: write notes (in `Markdown` with $\\LaTeX$ support)\n",
    "- the notes/slides for today's workshop is actually all from a single iPython Notebook!\n",
    "- you can be in one of two *modes*\n",
    " - `command` mode: browse through the notebook (using <kbd>UP</kbd> and <kbd>DOWN</kbd> arrows), indicated by grey cell borders\n",
    " - `edit` mode: actually write stuff to the cell, indicated by green cell borders\n",
    "- hit <kbd>Enter</kbd> to enable `edit` mode, and <kbd>ESC</kbd> to enable `command` mode\n",
    "- in any mode, hit <kbd>Ctrl</kbd>+<kbd>Enter</kbd> to run/compile the selected cell\n",
    "- checkout __Help > Keyboard Shortcuts__ for more useful shortcuts\n",
    "<img src=img/ss_jupyter_shortcuts.png alt='shortcuts' width=600>"
   ]
  },
  {
   "cell_type": "markdown",
   "metadata": {},
   "source": [
    "Let's make a `code` cell and write a `python` function!"
   ]
  },
  {
   "cell_type": "code",
   "execution_count": 21,
   "metadata": {
    "collapsed": true,
    "slideshow": {
     "slide_type": "slide"
    }
   },
   "outputs": [],
   "source": [
    "def my_first_function(name):\n",
    "    print 'Hello,', name  # say 'Hello' to the name that the function is called with"
   ]
  },
  {
   "cell_type": "markdown",
   "metadata": {
    "slideshow": {
     "slide_type": "fragment"
    }
   },
   "source": [
    "A few things to note:\n",
    "- a function in python is created with the syntax \n",
    "```python \n",
    "def function_name(arguments):```\n",
    "- white-space (indentation) matters! (no `{curly braces}`)\n",
    " - **NEVER** use <kbd>Tab</kbd> (Jupyter will automatically change all your <kbd>Tab</kbd>s to four spaces, per [PEP8 specs][pep8])\n",
    "- the `#` comments-out anything that comes after it in that line \n",
    "\n",
    "We can load the function by running the cell (<kbd>Ctrl</kbd>+<kbd>Enter</kbd>). Note that nothing happens. The function is simply loaded into memory. Call the function to actually *use* it. i.e.,\n",
    "\n",
    "[pep8]: https://www.python.org/dev/peps/pep-0008/#indentation"
   ]
  },
  {
   "cell_type": "code",
   "execution_count": 22,
   "metadata": {
    "collapsed": false,
    "scrolled": true,
    "slideshow": {
     "slide_type": "fragment"
    }
   },
   "outputs": [
    {
     "name": "stdout",
     "output_type": "stream",
     "text": [
      "Hello, Jongbin\n"
     ]
    }
   ],
   "source": [
    "my_first_function('Jongbin')"
   ]
  },
  {
   "cell_type": "markdown",
   "metadata": {},
   "source": [
    "- Jupyter prints the output of your code right below the code cell\n",
    "- the quotes <kbd>'</kbd> tell `python` that *`Jongbin`* is a string (not a number or variable name etc.)\n",
    "- you can use double quotes <kbd>\"</kbd> too, as long as you're consistent (I just prefer not to hit <kbd>Shift</kbd>)\n",
    "- without any quotes, `python` will tell you something is wrong"
   ]
  },
  {
   "cell_type": "code",
   "execution_count": 23,
   "metadata": {
    "collapsed": false,
    "slideshow": {
     "slide_type": "notes"
    }
   },
   "outputs": [
    {
     "ename": "NameError",
     "evalue": "name 'Jongbin' is not defined",
     "output_type": "error",
     "traceback": [
      "\u001b[1;31m---------------------------------------------------------------------------\u001b[0m",
      "\u001b[1;31mNameError\u001b[0m                                 Traceback (most recent call last)",
      "\u001b[1;32m<ipython-input-23-0e4e32d13f4a>\u001b[0m in \u001b[0;36m<module>\u001b[1;34m()\u001b[0m\n\u001b[1;32m----> 1\u001b[1;33m \u001b[0mmy_first_function\u001b[0m\u001b[1;33m(\u001b[0m\u001b[0mJongbin\u001b[0m\u001b[1;33m)\u001b[0m\u001b[1;33m\u001b[0m\u001b[0m\n\u001b[0m",
      "\u001b[1;31mNameError\u001b[0m: name 'Jongbin' is not defined"
     ]
    }
   ],
   "source": [
    "my_first_function(Jongbin)"
   ]
  },
  {
   "cell_type": "markdown",
   "metadata": {
    "collapsed": false
   },
   "source": [
    "## `pandas`\n",
    "- `pandas` is a `python` library that helps you deal with data\n",
    "- normally, you'd have to install `pandas`, but [Anaconda](https://store.continuum.io/cshop/anaconda/) comes with `pandas` pre-installed, so all you have to do is `import` it in `python`"
   ]
  },
  {
   "cell_type": "code",
   "execution_count": 24,
   "metadata": {
    "collapsed": true
   },
   "outputs": [],
   "source": [
    "import pandas"
   ]
  },
  {
   "cell_type": "markdown",
   "metadata": {},
   "source": [
    "The syntax for importing libraries into `python` is\n",
    "```python\n",
    "import library_name\n",
    "```\n",
    "that is, assuming your `python` interpreter knows where to find all the libraries. Fortunately, [Anaconda](https://store.continuum.io/cshop/anaconda/) is pretty good at taking care of that kind of house-keeping.\n",
    "\n",
    "To use methods (functions) from a library in `python`, you must explicitly tell `python` which library that method comes from by pre-pending the function call with `library_name.', e.g.,\n",
    "```python\n",
    "library_name.some_method()\n",
    "```\n",
    "Jupyter is good at helping you out with method names/documentation. Hit <kbd>Tab</kbd> after the `.` to get a list of methods available, and hit <kbd>Shift</kbd>+<kbd>Tab</kbd> to get documentation for methods."
   ]
  },
  {
   "cell_type": "markdown",
   "metadata": {},
   "source": [
    "### Bring data into `python` with `pandas`\n",
    "Let's go ahead and load some data.\n",
    "There are a series of `read_*` methods (e.g., `read_excel`) in `pandas`. Usually, you can start reading data by giving the `read_*` method an appropriate file path. For example, if there is a `csv` file named `data.csv` in the same directory as your notebook, you can read it like\n",
    "```python\n",
    "panda.read_csv('./data.csv')\n",
    "```\n",
    "Today, we'll play with the [wine quality dataset][wine_quality] from the UCI machine learning database. You can either download it to your machine from [here][wine_quality], or use the URL (http://archive.ics.uci.edu/ml/machine-learning-databases/wine-quality/winequality-red.csv) directly in the `read_csv()` method to have `pandas` load it from the source.\n",
    "\n",
    "[wine_quality]: http://archive.ics.uci.edu/ml/machine-learning-databases/wine-quality/winequality-red.csv"
   ]
  },
  {
   "cell_type": "code",
   "execution_count": 58,
   "metadata": {
    "collapsed": false
   },
   "outputs": [
    {
     "data": {
      "text/html": [
       "<div style=\"max-height:1000px;max-width:1500px;overflow:auto;\">\n",
       "<table border=\"1\" class=\"dataframe\">\n",
       "  <thead>\n",
       "    <tr style=\"text-align: right;\">\n",
       "      <th></th>\n",
       "      <th>fixed acidity;\"volatile acidity\";\"citric acid\";\"residual sugar\";\"chlorides\";\"free sulfur dioxide\";\"total sulfur dioxide\";\"density\";\"pH\";\"sulphates\";\"alcohol\";\"quality\"</th>\n",
       "    </tr>\n",
       "  </thead>\n",
       "  <tbody>\n",
       "    <tr>\n",
       "      <th>0</th>\n",
       "      <td>  7.4;0.7;0;1.9;0.076;11;34;0.9978;3.51;0.56;9.4;5</td>\n",
       "    </tr>\n",
       "    <tr>\n",
       "      <th>1</th>\n",
       "      <td>  7.8;0.88;0;2.6;0.098;25;67;0.9968;3.2;0.68;9.8;5</td>\n",
       "    </tr>\n",
       "    <tr>\n",
       "      <th>2</th>\n",
       "      <td> 7.8;0.76;0.04;2.3;0.092;15;54;0.997;3.26;0.65;...</td>\n",
       "    </tr>\n",
       "    <tr>\n",
       "      <th>3</th>\n",
       "      <td> 11.2;0.28;0.56;1.9;0.075;17;60;0.998;3.16;0.58...</td>\n",
       "    </tr>\n",
       "    <tr>\n",
       "      <th>4</th>\n",
       "      <td>  7.4;0.7;0;1.9;0.076;11;34;0.9978;3.51;0.56;9.4;5</td>\n",
       "    </tr>\n",
       "  </tbody>\n",
       "</table>\n",
       "</div>"
      ],
      "text/plain": [
       "  fixed acidity;\"volatile acidity\";\"citric acid\";\"residual sugar\";\"chlorides\";\"free sulfur dioxide\";\"total sulfur dioxide\";\"density\";\"pH\";\"sulphates\";\"alcohol\";\"quality\"\n",
       "0   7.4;0.7;0;1.9;0.076;11;34;0.9978;3.51;0.56;9.4;5                                                                                                                     \n",
       "1   7.8;0.88;0;2.6;0.098;25;67;0.9968;3.2;0.68;9.8;5                                                                                                                     \n",
       "2  7.8;0.76;0.04;2.3;0.092;15;54;0.997;3.26;0.65;...                                                                                                                     \n",
       "3  11.2;0.28;0.56;1.9;0.075;17;60;0.998;3.16;0.58...                                                                                                                     \n",
       "4   7.4;0.7;0;1.9;0.076;11;34;0.9978;3.51;0.56;9.4;5                                                                                                                     "
      ]
     },
     "execution_count": 58,
     "metadata": {},
     "output_type": "execute_result"
    }
   ],
   "source": [
    "data_src = 'http://archive.ics.uci.edu/ml/machine-learning-databases/wine-quality/winequality-red.csv'\n",
    "wine_data = pandas.read_csv(data_src)\n",
    "wine_data.head()"
   ]
  },
  {
   "cell_type": "markdown",
   "metadata": {},
   "source": [
    "The first line above saves the address to the data in a variable we name `data_src`. We can also write the link directly in the `read_csv` call, i.e.,\n",
    "```python\n",
    "pandas.read_csv('http://archive.ics.uci.edu/ml/machine-learning-databases/wine-quality/winequality-red.csv')\n",
    "```\n",
    "but saving the address in a separate string is generally good practice (and will make your life easier if you decide to change that address some day).\n",
    "\n",
    "The second line loads the data into a variable we named `wine_data`. \n",
    "The third line tells `pandas` to print the first couple lines (`head`) of `wine_data`."
   ]
  },
  {
   "cell_type": "markdown",
   "metadata": {},
   "source": [
    "Notice from the output above that the data seems to be chunked into a single column. This is probably because we used `read_csv`, which expects the data to be separated by commas(,) - hence the name **c**omma **s**eparated **v**alues- but the data (if you look carefully) is actually separated by semi-colons(;).\n",
    "Instead of bloating the library with a `read_semi_colon_separated_value` method, the `read_csv` method in `pandas` let's you specify what the separating charater is, if not the expected comma. The syntax for that looks like\n",
    "```python\n",
    "pandas.read_csv(path_to_data, sep=';')\n",
    "```\n",
    "(`read_csv` actually has a whole lot more options. Read the docs with <kbd>Shift</kbd>+<kbd>Tab</kbd>)"
   ]
  },
  {
   "cell_type": "code",
   "execution_count": 59,
   "metadata": {
    "collapsed": false
   },
   "outputs": [
    {
     "data": {
      "text/html": [
       "<div style=\"max-height:1000px;max-width:1500px;overflow:auto;\">\n",
       "<table border=\"1\" class=\"dataframe\">\n",
       "  <thead>\n",
       "    <tr style=\"text-align: right;\">\n",
       "      <th></th>\n",
       "      <th>fixed acidity</th>\n",
       "      <th>volatile acidity</th>\n",
       "      <th>citric acid</th>\n",
       "      <th>residual sugar</th>\n",
       "      <th>chlorides</th>\n",
       "      <th>free sulfur dioxide</th>\n",
       "      <th>total sulfur dioxide</th>\n",
       "      <th>density</th>\n",
       "      <th>pH</th>\n",
       "      <th>sulphates</th>\n",
       "      <th>alcohol</th>\n",
       "      <th>quality</th>\n",
       "    </tr>\n",
       "  </thead>\n",
       "  <tbody>\n",
       "    <tr>\n",
       "      <th>0</th>\n",
       "      <td>  7.4</td>\n",
       "      <td> 0.70</td>\n",
       "      <td> 0.00</td>\n",
       "      <td> 1.9</td>\n",
       "      <td> 0.076</td>\n",
       "      <td> 11</td>\n",
       "      <td> 34</td>\n",
       "      <td> 0.9978</td>\n",
       "      <td> 3.51</td>\n",
       "      <td> 0.56</td>\n",
       "      <td> 9.4</td>\n",
       "      <td> 5</td>\n",
       "    </tr>\n",
       "    <tr>\n",
       "      <th>1</th>\n",
       "      <td>  7.8</td>\n",
       "      <td> 0.88</td>\n",
       "      <td> 0.00</td>\n",
       "      <td> 2.6</td>\n",
       "      <td> 0.098</td>\n",
       "      <td> 25</td>\n",
       "      <td> 67</td>\n",
       "      <td> 0.9968</td>\n",
       "      <td> 3.20</td>\n",
       "      <td> 0.68</td>\n",
       "      <td> 9.8</td>\n",
       "      <td> 5</td>\n",
       "    </tr>\n",
       "    <tr>\n",
       "      <th>2</th>\n",
       "      <td>  7.8</td>\n",
       "      <td> 0.76</td>\n",
       "      <td> 0.04</td>\n",
       "      <td> 2.3</td>\n",
       "      <td> 0.092</td>\n",
       "      <td> 15</td>\n",
       "      <td> 54</td>\n",
       "      <td> 0.9970</td>\n",
       "      <td> 3.26</td>\n",
       "      <td> 0.65</td>\n",
       "      <td> 9.8</td>\n",
       "      <td> 5</td>\n",
       "    </tr>\n",
       "    <tr>\n",
       "      <th>3</th>\n",
       "      <td> 11.2</td>\n",
       "      <td> 0.28</td>\n",
       "      <td> 0.56</td>\n",
       "      <td> 1.9</td>\n",
       "      <td> 0.075</td>\n",
       "      <td> 17</td>\n",
       "      <td> 60</td>\n",
       "      <td> 0.9980</td>\n",
       "      <td> 3.16</td>\n",
       "      <td> 0.58</td>\n",
       "      <td> 9.8</td>\n",
       "      <td> 6</td>\n",
       "    </tr>\n",
       "    <tr>\n",
       "      <th>4</th>\n",
       "      <td>  7.4</td>\n",
       "      <td> 0.70</td>\n",
       "      <td> 0.00</td>\n",
       "      <td> 1.9</td>\n",
       "      <td> 0.076</td>\n",
       "      <td> 11</td>\n",
       "      <td> 34</td>\n",
       "      <td> 0.9978</td>\n",
       "      <td> 3.51</td>\n",
       "      <td> 0.56</td>\n",
       "      <td> 9.4</td>\n",
       "      <td> 5</td>\n",
       "    </tr>\n",
       "  </tbody>\n",
       "</table>\n",
       "</div>"
      ],
      "text/plain": [
       "   fixed acidity  volatile acidity  citric acid  residual sugar  chlorides  \\\n",
       "0            7.4              0.70         0.00             1.9      0.076   \n",
       "1            7.8              0.88         0.00             2.6      0.098   \n",
       "2            7.8              0.76         0.04             2.3      0.092   \n",
       "3           11.2              0.28         0.56             1.9      0.075   \n",
       "4            7.4              0.70         0.00             1.9      0.076   \n",
       "\n",
       "   free sulfur dioxide  total sulfur dioxide  density    pH  sulphates  \\\n",
       "0                   11                    34   0.9978  3.51       0.56   \n",
       "1                   25                    67   0.9968  3.20       0.68   \n",
       "2                   15                    54   0.9970  3.26       0.65   \n",
       "3                   17                    60   0.9980  3.16       0.58   \n",
       "4                   11                    34   0.9978  3.51       0.56   \n",
       "\n",
       "   alcohol  quality  \n",
       "0      9.4        5  \n",
       "1      9.8        5  \n",
       "2      9.8        5  \n",
       "3      9.8        6  \n",
       "4      9.4        5  "
      ]
     },
     "execution_count": 59,
     "metadata": {},
     "output_type": "execute_result"
    }
   ],
   "source": [
    "wine_data = pandas.read_csv(data_src, sep=';')\n",
    "wine_data.head()"
   ]
  },
  {
   "cell_type": "markdown",
   "metadata": {},
   "source": [
    "That looks much better. Now that we've loaded a proper `pandas` [`DataFrame`](http://pandas.pydata.org/pandas-docs/stable/generated/pandas.DataFrame.html#pandas.DataFrame) we can use methods provided with `pandas` to take a closer look at things. We've already seen `head()`, but we can also see `tail()`. "
   ]
  },
  {
   "cell_type": "code",
   "execution_count": 60,
   "metadata": {
    "collapsed": false,
    "scrolled": false
   },
   "outputs": [
    {
     "data": {
      "text/html": [
       "<div style=\"max-height:1000px;max-width:1500px;overflow:auto;\">\n",
       "<table border=\"1\" class=\"dataframe\">\n",
       "  <thead>\n",
       "    <tr style=\"text-align: right;\">\n",
       "      <th></th>\n",
       "      <th>fixed acidity</th>\n",
       "      <th>volatile acidity</th>\n",
       "      <th>citric acid</th>\n",
       "      <th>residual sugar</th>\n",
       "      <th>chlorides</th>\n",
       "      <th>free sulfur dioxide</th>\n",
       "      <th>total sulfur dioxide</th>\n",
       "      <th>density</th>\n",
       "      <th>pH</th>\n",
       "      <th>sulphates</th>\n",
       "      <th>alcohol</th>\n",
       "      <th>quality</th>\n",
       "    </tr>\n",
       "  </thead>\n",
       "  <tbody>\n",
       "    <tr>\n",
       "      <th>1594</th>\n",
       "      <td> 6.2</td>\n",
       "      <td> 0.600</td>\n",
       "      <td> 0.08</td>\n",
       "      <td> 2.0</td>\n",
       "      <td> 0.090</td>\n",
       "      <td> 32</td>\n",
       "      <td> 44</td>\n",
       "      <td> 0.99490</td>\n",
       "      <td> 3.45</td>\n",
       "      <td> 0.58</td>\n",
       "      <td> 10.5</td>\n",
       "      <td> 5</td>\n",
       "    </tr>\n",
       "    <tr>\n",
       "      <th>1595</th>\n",
       "      <td> 5.9</td>\n",
       "      <td> 0.550</td>\n",
       "      <td> 0.10</td>\n",
       "      <td> 2.2</td>\n",
       "      <td> 0.062</td>\n",
       "      <td> 39</td>\n",
       "      <td> 51</td>\n",
       "      <td> 0.99512</td>\n",
       "      <td> 3.52</td>\n",
       "      <td> 0.76</td>\n",
       "      <td> 11.2</td>\n",
       "      <td> 6</td>\n",
       "    </tr>\n",
       "    <tr>\n",
       "      <th>1596</th>\n",
       "      <td> 6.3</td>\n",
       "      <td> 0.510</td>\n",
       "      <td> 0.13</td>\n",
       "      <td> 2.3</td>\n",
       "      <td> 0.076</td>\n",
       "      <td> 29</td>\n",
       "      <td> 40</td>\n",
       "      <td> 0.99574</td>\n",
       "      <td> 3.42</td>\n",
       "      <td> 0.75</td>\n",
       "      <td> 11.0</td>\n",
       "      <td> 6</td>\n",
       "    </tr>\n",
       "    <tr>\n",
       "      <th>1597</th>\n",
       "      <td> 5.9</td>\n",
       "      <td> 0.645</td>\n",
       "      <td> 0.12</td>\n",
       "      <td> 2.0</td>\n",
       "      <td> 0.075</td>\n",
       "      <td> 32</td>\n",
       "      <td> 44</td>\n",
       "      <td> 0.99547</td>\n",
       "      <td> 3.57</td>\n",
       "      <td> 0.71</td>\n",
       "      <td> 10.2</td>\n",
       "      <td> 5</td>\n",
       "    </tr>\n",
       "    <tr>\n",
       "      <th>1598</th>\n",
       "      <td> 6.0</td>\n",
       "      <td> 0.310</td>\n",
       "      <td> 0.47</td>\n",
       "      <td> 3.6</td>\n",
       "      <td> 0.067</td>\n",
       "      <td> 18</td>\n",
       "      <td> 42</td>\n",
       "      <td> 0.99549</td>\n",
       "      <td> 3.39</td>\n",
       "      <td> 0.66</td>\n",
       "      <td> 11.0</td>\n",
       "      <td> 6</td>\n",
       "    </tr>\n",
       "  </tbody>\n",
       "</table>\n",
       "</div>"
      ],
      "text/plain": [
       "      fixed acidity  volatile acidity  citric acid  residual sugar  chlorides  \\\n",
       "1594            6.2             0.600         0.08             2.0      0.090   \n",
       "1595            5.9             0.550         0.10             2.2      0.062   \n",
       "1596            6.3             0.510         0.13             2.3      0.076   \n",
       "1597            5.9             0.645         0.12             2.0      0.075   \n",
       "1598            6.0             0.310         0.47             3.6      0.067   \n",
       "\n",
       "      free sulfur dioxide  total sulfur dioxide  density    pH  sulphates  \\\n",
       "1594                   32                    44  0.99490  3.45       0.58   \n",
       "1595                   39                    51  0.99512  3.52       0.76   \n",
       "1596                   29                    40  0.99574  3.42       0.75   \n",
       "1597                   32                    44  0.99547  3.57       0.71   \n",
       "1598                   18                    42  0.99549  3.39       0.66   \n",
       "\n",
       "      alcohol  quality  \n",
       "1594     10.5        5  \n",
       "1595     11.2        6  \n",
       "1596     11.0        6  \n",
       "1597     10.2        5  \n",
       "1598     11.0        6  "
      ]
     },
     "execution_count": 60,
     "metadata": {},
     "output_type": "execute_result"
    }
   ],
   "source": [
    "wine_data.tail()"
   ]
  },
  {
   "cell_type": "markdown",
   "metadata": {},
   "source": [
    "Get a quick summary with `describe()`"
   ]
  },
  {
   "cell_type": "code",
   "execution_count": 74,
   "metadata": {
    "collapsed": false
   },
   "outputs": [
    {
     "data": {
      "text/html": [
       "<div style=\"max-height:1000px;max-width:1500px;overflow:auto;\">\n",
       "<table border=\"1\" class=\"dataframe\">\n",
       "  <thead>\n",
       "    <tr style=\"text-align: right;\">\n",
       "      <th></th>\n",
       "      <th>fixed acidity</th>\n",
       "      <th>volatile acidity</th>\n",
       "      <th>citric acid</th>\n",
       "      <th>residual sugar</th>\n",
       "      <th>chlorides</th>\n",
       "      <th>free sulfur dioxide</th>\n",
       "      <th>total sulfur dioxide</th>\n",
       "      <th>density</th>\n",
       "      <th>pH</th>\n",
       "      <th>sulphates</th>\n",
       "      <th>alcohol</th>\n",
       "      <th>quality</th>\n",
       "    </tr>\n",
       "  </thead>\n",
       "  <tbody>\n",
       "    <tr>\n",
       "      <th>count</th>\n",
       "      <td> 1599.000000</td>\n",
       "      <td> 1599.000000</td>\n",
       "      <td> 1599.000000</td>\n",
       "      <td> 1599.000000</td>\n",
       "      <td> 1599.000000</td>\n",
       "      <td> 1599.000000</td>\n",
       "      <td> 1599.000000</td>\n",
       "      <td> 1599.000000</td>\n",
       "      <td> 1599.000000</td>\n",
       "      <td> 1599.000000</td>\n",
       "      <td> 1599.000000</td>\n",
       "      <td> 1599.000000</td>\n",
       "    </tr>\n",
       "    <tr>\n",
       "      <th>mean</th>\n",
       "      <td>    8.319637</td>\n",
       "      <td>    0.527821</td>\n",
       "      <td>    0.270976</td>\n",
       "      <td>    2.538806</td>\n",
       "      <td>    0.087467</td>\n",
       "      <td>   15.874922</td>\n",
       "      <td>   46.467792</td>\n",
       "      <td>    0.996747</td>\n",
       "      <td>    3.311113</td>\n",
       "      <td>    0.658149</td>\n",
       "      <td>   10.422983</td>\n",
       "      <td>    5.636023</td>\n",
       "    </tr>\n",
       "    <tr>\n",
       "      <th>std</th>\n",
       "      <td>    1.741096</td>\n",
       "      <td>    0.179060</td>\n",
       "      <td>    0.194801</td>\n",
       "      <td>    1.409928</td>\n",
       "      <td>    0.047065</td>\n",
       "      <td>   10.460157</td>\n",
       "      <td>   32.895324</td>\n",
       "      <td>    0.001887</td>\n",
       "      <td>    0.154386</td>\n",
       "      <td>    0.169507</td>\n",
       "      <td>    1.065668</td>\n",
       "      <td>    0.807569</td>\n",
       "    </tr>\n",
       "    <tr>\n",
       "      <th>min</th>\n",
       "      <td>    4.600000</td>\n",
       "      <td>    0.120000</td>\n",
       "      <td>    0.000000</td>\n",
       "      <td>    0.900000</td>\n",
       "      <td>    0.012000</td>\n",
       "      <td>    1.000000</td>\n",
       "      <td>    6.000000</td>\n",
       "      <td>    0.990070</td>\n",
       "      <td>    2.740000</td>\n",
       "      <td>    0.330000</td>\n",
       "      <td>    8.400000</td>\n",
       "      <td>    3.000000</td>\n",
       "    </tr>\n",
       "    <tr>\n",
       "      <th>25%</th>\n",
       "      <td>    7.100000</td>\n",
       "      <td>    0.390000</td>\n",
       "      <td>    0.090000</td>\n",
       "      <td>    1.900000</td>\n",
       "      <td>    0.070000</td>\n",
       "      <td>    7.000000</td>\n",
       "      <td>   22.000000</td>\n",
       "      <td>    0.995600</td>\n",
       "      <td>    3.210000</td>\n",
       "      <td>    0.550000</td>\n",
       "      <td>    9.500000</td>\n",
       "      <td>    5.000000</td>\n",
       "    </tr>\n",
       "    <tr>\n",
       "      <th>50%</th>\n",
       "      <td>    7.900000</td>\n",
       "      <td>    0.520000</td>\n",
       "      <td>    0.260000</td>\n",
       "      <td>    2.200000</td>\n",
       "      <td>    0.079000</td>\n",
       "      <td>   14.000000</td>\n",
       "      <td>   38.000000</td>\n",
       "      <td>    0.996750</td>\n",
       "      <td>    3.310000</td>\n",
       "      <td>    0.620000</td>\n",
       "      <td>   10.200000</td>\n",
       "      <td>    6.000000</td>\n",
       "    </tr>\n",
       "    <tr>\n",
       "      <th>75%</th>\n",
       "      <td>    9.200000</td>\n",
       "      <td>    0.640000</td>\n",
       "      <td>    0.420000</td>\n",
       "      <td>    2.600000</td>\n",
       "      <td>    0.090000</td>\n",
       "      <td>   21.000000</td>\n",
       "      <td>   62.000000</td>\n",
       "      <td>    0.997835</td>\n",
       "      <td>    3.400000</td>\n",
       "      <td>    0.730000</td>\n",
       "      <td>   11.100000</td>\n",
       "      <td>    6.000000</td>\n",
       "    </tr>\n",
       "    <tr>\n",
       "      <th>max</th>\n",
       "      <td>   15.900000</td>\n",
       "      <td>    1.580000</td>\n",
       "      <td>    1.000000</td>\n",
       "      <td>   15.500000</td>\n",
       "      <td>    0.611000</td>\n",
       "      <td>   72.000000</td>\n",
       "      <td>  289.000000</td>\n",
       "      <td>    1.003690</td>\n",
       "      <td>    4.010000</td>\n",
       "      <td>    2.000000</td>\n",
       "      <td>   14.900000</td>\n",
       "      <td>    8.000000</td>\n",
       "    </tr>\n",
       "  </tbody>\n",
       "</table>\n",
       "</div>"
      ],
      "text/plain": [
       "       fixed acidity  volatile acidity  citric acid  residual sugar  \\\n",
       "count    1599.000000       1599.000000  1599.000000     1599.000000   \n",
       "mean        8.319637          0.527821     0.270976        2.538806   \n",
       "std         1.741096          0.179060     0.194801        1.409928   \n",
       "min         4.600000          0.120000     0.000000        0.900000   \n",
       "25%         7.100000          0.390000     0.090000        1.900000   \n",
       "50%         7.900000          0.520000     0.260000        2.200000   \n",
       "75%         9.200000          0.640000     0.420000        2.600000   \n",
       "max        15.900000          1.580000     1.000000       15.500000   \n",
       "\n",
       "         chlorides  free sulfur dioxide  total sulfur dioxide      density  \\\n",
       "count  1599.000000          1599.000000           1599.000000  1599.000000   \n",
       "mean      0.087467            15.874922             46.467792     0.996747   \n",
       "std       0.047065            10.460157             32.895324     0.001887   \n",
       "min       0.012000             1.000000              6.000000     0.990070   \n",
       "25%       0.070000             7.000000             22.000000     0.995600   \n",
       "50%       0.079000            14.000000             38.000000     0.996750   \n",
       "75%       0.090000            21.000000             62.000000     0.997835   \n",
       "max       0.611000            72.000000            289.000000     1.003690   \n",
       "\n",
       "                pH    sulphates      alcohol      quality  \n",
       "count  1599.000000  1599.000000  1599.000000  1599.000000  \n",
       "mean      3.311113     0.658149    10.422983     5.636023  \n",
       "std       0.154386     0.169507     1.065668     0.807569  \n",
       "min       2.740000     0.330000     8.400000     3.000000  \n",
       "25%       3.210000     0.550000     9.500000     5.000000  \n",
       "50%       3.310000     0.620000    10.200000     6.000000  \n",
       "75%       3.400000     0.730000    11.100000     6.000000  \n",
       "max       4.010000     2.000000    14.900000     8.000000  "
      ]
     },
     "execution_count": 74,
     "metadata": {},
     "output_type": "execute_result"
    }
   ],
   "source": [
    "wine_data.describe()"
   ]
  },
  {
   "cell_type": "markdown",
   "metadata": {},
   "source": [
    "Or take a look at the column names (more useful if you have a whole lot of columns):"
   ]
  },
  {
   "cell_type": "code",
   "execution_count": 69,
   "metadata": {
    "collapsed": false,
    "scrolled": true
   },
   "outputs": [
    {
     "data": {
      "text/plain": [
       "Index([u'fixed acidity', u'volatile acidity', u'citric acid', u'residual sugar', u'chlorides', u'free sulfur dioxide', u'total sulfur dioxide', u'density', u'pH', u'sulphates', u'alcohol', u'quality'], dtype='object')"
      ]
     },
     "execution_count": 69,
     "metadata": {},
     "output_type": "execute_result"
    }
   ],
   "source": [
    "cols = wine_data.columns\n",
    "cols"
   ]
  },
  {
   "cell_type": "markdown",
   "metadata": {},
   "source": [
    "Taking a closer look at the column names (`cols`, as we've named it) we can see that the actual column names are enclosed in square-brackets []. This is called a `list` in `python`. All `list`s (and in fact, all array-like objects) can be indexed/sliced in `python`. Just keep in mind that all array-like objects start with the index 0. So,"
   ]
  },
  {
   "cell_type": "code",
   "execution_count": 70,
   "metadata": {
    "collapsed": false
   },
   "outputs": [
    {
     "data": {
      "text/plain": [
       "'fixed acidity'"
      ]
     },
     "execution_count": 70,
     "metadata": {},
     "output_type": "execute_result"
    }
   ],
   "source": [
    "cols[0]"
   ]
  },
  {
   "cell_type": "markdown",
   "metadata": {},
   "source": [
    "One useful tool to introduce at this point is 'slicing'. Using `:` notation, 'slicing' is used in `python` to get partial 'slices' of array-like objects. While the standard syntax `a:b` will slice from element `a` (inclusive) to `b` (exclusive), leaving `a` blank (i.e., `:b`) will slice from the beginning up to the `b`-th element, and leaving `b` blank (i.e., `a:`) will slice from `a` up to the last element. \n",
    "\n",
    "It's useful to know that strings are also array-like objects in `python`. \n",
    "We can illustrate this with,"
   ]
  },
  {
   "cell_type": "code",
   "execution_count": 71,
   "metadata": {
    "collapsed": false,
    "scrolled": true
   },
   "outputs": [
    {
     "name": "stdout",
     "output_type": "stream",
     "text": [
      "j\n",
      "ong\n",
      "jong\n",
      "bin\n"
     ]
    }
   ],
   "source": [
    "name = 'jongbin'  # save the String 'jongbin' as name\n",
    "print name[0]  # the first element of name should be 'j'\n",
    "print name[1:4]  # slice from element 1 (inclusive) to element 2 (exclusive), i.e. 'ong'\n",
    "print name[:4]  # slice from the beginning up to element 4 (exclusive), i.e., 'jong'\n",
    "print name[4:]  # slice from element 4 (inclusive) up to the last element, i.e., 'bin'"
   ]
  },
  {
   "cell_type": "markdown",
   "metadata": {},
   "source": [
    "And negative indices count backwards, i.e., element -1 is the *last* element of the object. From the previous column names assigned to `cols`, we can get all the column names but the last one by"
   ]
  },
  {
   "cell_type": "code",
   "execution_count": 126,
   "metadata": {
    "collapsed": false
   },
   "outputs": [
    {
     "data": {
      "text/plain": [
       "Index([u'fixed acidity', u'volatile acidity', u'citric acid', u'residual sugar', u'chlorides', u'free sulfur dioxide', u'total sulfur dioxide', u'density', u'pH', u'sulphates', u'alcohol'], dtype='object')"
      ]
     },
     "execution_count": 126,
     "metadata": {},
     "output_type": "execute_result"
    }
   ],
   "source": [
    "cols[:-1]"
   ]
  },
  {
   "cell_type": "markdown",
   "metadata": {},
   "source": [
    "You can get the `length` of any array-like object in `python` using the global `len()` function."
   ]
  },
  {
   "cell_type": "code",
   "execution_count": 127,
   "metadata": {
    "collapsed": false
   },
   "outputs": [
    {
     "name": "stdout",
     "output_type": "stream",
     "text": [
      "12\n",
      "7\n"
     ]
    }
   ],
   "source": [
    "print len(cols)  # the length of column names, i.e., number of columns = 12\n",
    "print len(name)  # length of the name variable ('jongbin'), i.e., number of characters = 7"
   ]
  },
  {
   "cell_type": "markdown",
   "metadata": {},
   "source": [
    "This notation might seem unnatural if you haven't seen it before (or even if you've seen it in a different language, each language uses them slightly differently). But you'll get used to it in no time. Even if you don't you can always try different things in your notebook until you get it right!\n",
    "\n",
    "Now, let's look at more things you can do with your `pandas` `DataFrame`."
   ]
  },
  {
   "cell_type": "markdown",
   "metadata": {},
   "source": [
    "### Manipulating data\n",
    "Most of your data manipulating needs can be categorized into the following five categories:\n",
    "1. **select**: select a subset of *rows* or *columns* according to certain conditions\n",
    "2. **transform**: add *new columns* to the data (usually as a function of existing columns)\n",
    "3. **sort**: reorder the rows of the data in a specific order\n",
    "4. **summarize**: aggregate values to representative *statistics* (sum, mean, median, etc.)"
   ]
  },
  {
   "cell_type": "markdown",
   "metadata": {},
   "source": [
    "#### 1. select\n",
    "Use the `loc[row_index, col_index]` attribute to select subsets of data. The `row/column_index` can be \n",
    "- a single label (e.g., 'quality')\n",
    "- a `list` or `array` of labels (e.g., ['density', 'pH', 'quality']\n",
    "- slice with **labels** (e.g., 'density':'quality', in this case the slice is *inclusive* on each end)\n",
    "- array of boolean conditions\n",
    "\n",
    "Put a single `:` as an index if you want all rows/columns. For example,\n",
    "```python\n",
    "wine_data.loc[:, 'quality']\n",
    "```\n",
    "will return the entire 'quality' column."
   ]
  },
  {
   "cell_type": "code",
   "execution_count": 82,
   "metadata": {
    "collapsed": true
   },
   "outputs": [
    {
     "data": {
      "text/plain": [
       "0    5\n",
       "1    5\n",
       "2    5\n",
       "3    6\n",
       "4    5\n",
       "5    5\n",
       "Name: quality, dtype: int64"
      ]
     },
     "execution_count": 82,
     "metadata": {},
     "output_type": "execute_result"
    }
   ],
   "source": [
    "wine_data.loc[0:5, 'quality']  # get rows 0:5 and column 'quality'"
   ]
  },
  {
   "cell_type": "code",
   "execution_count": 88,
   "metadata": {
    "collapsed": true
   },
   "outputs": [
    {
     "data": {
      "text/html": [
       "<div style=\"max-height:1000px;max-width:1500px;overflow:auto;\">\n",
       "<table border=\"1\" class=\"dataframe\">\n",
       "  <thead>\n",
       "    <tr style=\"text-align: right;\">\n",
       "      <th></th>\n",
       "      <th>density</th>\n",
       "      <th>quality</th>\n",
       "      <th>pH</th>\n",
       "    </tr>\n",
       "  </thead>\n",
       "  <tbody>\n",
       "    <tr>\n",
       "      <th>495</th>\n",
       "      <td> 0.9972</td>\n",
       "      <td> 8</td>\n",
       "      <td> 3.15</td>\n",
       "    </tr>\n",
       "    <tr>\n",
       "      <th>496</th>\n",
       "      <td> 0.9984</td>\n",
       "      <td> 6</td>\n",
       "      <td> 3.43</td>\n",
       "    </tr>\n",
       "    <tr>\n",
       "      <th>497</th>\n",
       "      <td> 0.9966</td>\n",
       "      <td> 5</td>\n",
       "      <td> 3.32</td>\n",
       "    </tr>\n",
       "    <tr>\n",
       "      <th>498</th>\n",
       "      <td> 0.9972</td>\n",
       "      <td> 8</td>\n",
       "      <td> 3.15</td>\n",
       "    </tr>\n",
       "    <tr>\n",
       "      <th>499</th>\n",
       "      <td> 1.0002</td>\n",
       "      <td> 6</td>\n",
       "      <td> 3.48</td>\n",
       "    </tr>\n",
       "    <tr>\n",
       "      <th>500</th>\n",
       "      <td> 0.9984</td>\n",
       "      <td> 6</td>\n",
       "      <td> 3.43</td>\n",
       "    </tr>\n",
       "  </tbody>\n",
       "</table>\n",
       "</div>"
      ],
      "text/plain": [
       "     density  quality    pH\n",
       "495   0.9972        8  3.15\n",
       "496   0.9984        6  3.43\n",
       "497   0.9966        5  3.32\n",
       "498   0.9972        8  3.15\n",
       "499   1.0002        6  3.48\n",
       "500   0.9984        6  3.43"
      ]
     },
     "execution_count": 88,
     "metadata": {},
     "output_type": "execute_result"
    }
   ],
   "source": [
    "wine_data.loc[ 495:500 , ['density', 'quality', 'pH'] ]  # get rows 495:500 and the three specified columns"
   ]
  },
  {
   "cell_type": "code",
   "execution_count": 90,
   "metadata": {
    "collapsed": true
   },
   "outputs": [
    {
     "data": {
      "text/html": [
       "<div style=\"max-height:1000px;max-width:1500px;overflow:auto;\">\n",
       "<table border=\"1\" class=\"dataframe\">\n",
       "  <thead>\n",
       "    <tr style=\"text-align: right;\">\n",
       "      <th></th>\n",
       "      <th>density</th>\n",
       "      <th>pH</th>\n",
       "      <th>sulphates</th>\n",
       "      <th>alcohol</th>\n",
       "      <th>quality</th>\n",
       "    </tr>\n",
       "  </thead>\n",
       "  <tbody>\n",
       "    <tr>\n",
       "      <th>495</th>\n",
       "      <td> 0.9972</td>\n",
       "      <td> 3.15</td>\n",
       "      <td> 0.65</td>\n",
       "      <td> 11.0</td>\n",
       "      <td> 8</td>\n",
       "    </tr>\n",
       "    <tr>\n",
       "      <th>496</th>\n",
       "      <td> 0.9984</td>\n",
       "      <td> 3.43</td>\n",
       "      <td> 0.65</td>\n",
       "      <td>  9.0</td>\n",
       "      <td> 6</td>\n",
       "    </tr>\n",
       "    <tr>\n",
       "      <th>497</th>\n",
       "      <td> 0.9966</td>\n",
       "      <td> 3.32</td>\n",
       "      <td> 0.79</td>\n",
       "      <td> 11.1</td>\n",
       "      <td> 5</td>\n",
       "    </tr>\n",
       "    <tr>\n",
       "      <th>498</th>\n",
       "      <td> 0.9972</td>\n",
       "      <td> 3.15</td>\n",
       "      <td> 0.65</td>\n",
       "      <td> 11.0</td>\n",
       "      <td> 8</td>\n",
       "    </tr>\n",
       "    <tr>\n",
       "      <th>499</th>\n",
       "      <td> 1.0002</td>\n",
       "      <td> 3.48</td>\n",
       "      <td> 0.74</td>\n",
       "      <td> 11.6</td>\n",
       "      <td> 6</td>\n",
       "    </tr>\n",
       "    <tr>\n",
       "      <th>500</th>\n",
       "      <td> 0.9984</td>\n",
       "      <td> 3.43</td>\n",
       "      <td> 0.65</td>\n",
       "      <td>  9.0</td>\n",
       "      <td> 6</td>\n",
       "    </tr>\n",
       "  </tbody>\n",
       "</table>\n",
       "</div>"
      ],
      "text/plain": [
       "     density    pH  sulphates  alcohol  quality\n",
       "495   0.9972  3.15       0.65     11.0        8\n",
       "496   0.9984  3.43       0.65      9.0        6\n",
       "497   0.9966  3.32       0.79     11.1        5\n",
       "498   0.9972  3.15       0.65     11.0        8\n",
       "499   1.0002  3.48       0.74     11.6        6\n",
       "500   0.9984  3.43       0.65      9.0        6"
      ]
     },
     "execution_count": 90,
     "metadata": {},
     "output_type": "execute_result"
    }
   ],
   "source": [
    "wine_data.loc[ 495:500, 'density':'quality' ]  # get rows 495:500 and all columns between 'density' and 'quality' (inclusive)"
   ]
  },
  {
   "cell_type": "code",
   "execution_count": 106,
   "metadata": {
    "collapsed": true
   },
   "outputs": [
    {
     "data": {
      "text/html": [
       "<div style=\"max-height:1000px;max-width:1500px;overflow:auto;\">\n",
       "<table border=\"1\" class=\"dataframe\">\n",
       "  <thead>\n",
       "    <tr style=\"text-align: right;\">\n",
       "      <th></th>\n",
       "      <th>fixed acidity</th>\n",
       "      <th>volatile acidity</th>\n",
       "      <th>citric acid</th>\n",
       "      <th>residual sugar</th>\n",
       "      <th>chlorides</th>\n",
       "      <th>free sulfur dioxide</th>\n",
       "      <th>total sulfur dioxide</th>\n",
       "      <th>density</th>\n",
       "      <th>pH</th>\n",
       "      <th>sulphates</th>\n",
       "      <th>alcohol</th>\n",
       "      <th>quality</th>\n",
       "    </tr>\n",
       "  </thead>\n",
       "  <tbody>\n",
       "    <tr>\n",
       "      <th>267</th>\n",
       "      <td>  7.9</td>\n",
       "      <td> 0.35</td>\n",
       "      <td> 0.46</td>\n",
       "      <td> 3.6</td>\n",
       "      <td> 0.078</td>\n",
       "      <td> 15</td>\n",
       "      <td> 37</td>\n",
       "      <td> 0.9973</td>\n",
       "      <td> 3.35</td>\n",
       "      <td> 0.86</td>\n",
       "      <td> 12.8</td>\n",
       "      <td> 8</td>\n",
       "    </tr>\n",
       "    <tr>\n",
       "      <th>278</th>\n",
       "      <td> 10.3</td>\n",
       "      <td> 0.32</td>\n",
       "      <td> 0.45</td>\n",
       "      <td> 6.4</td>\n",
       "      <td> 0.073</td>\n",
       "      <td>  5</td>\n",
       "      <td> 13</td>\n",
       "      <td> 0.9976</td>\n",
       "      <td> 3.23</td>\n",
       "      <td> 0.82</td>\n",
       "      <td> 12.6</td>\n",
       "      <td> 8</td>\n",
       "    </tr>\n",
       "    <tr>\n",
       "      <th>390</th>\n",
       "      <td>  5.6</td>\n",
       "      <td> 0.85</td>\n",
       "      <td> 0.05</td>\n",
       "      <td> 1.4</td>\n",
       "      <td> 0.045</td>\n",
       "      <td> 12</td>\n",
       "      <td> 88</td>\n",
       "      <td> 0.9924</td>\n",
       "      <td> 3.56</td>\n",
       "      <td> 0.82</td>\n",
       "      <td> 12.9</td>\n",
       "      <td> 8</td>\n",
       "    </tr>\n",
       "    <tr>\n",
       "      <th>440</th>\n",
       "      <td> 12.6</td>\n",
       "      <td> 0.31</td>\n",
       "      <td> 0.72</td>\n",
       "      <td> 2.2</td>\n",
       "      <td> 0.072</td>\n",
       "      <td>  6</td>\n",
       "      <td> 29</td>\n",
       "      <td> 0.9987</td>\n",
       "      <td> 2.88</td>\n",
       "      <td> 0.82</td>\n",
       "      <td>  9.8</td>\n",
       "      <td> 8</td>\n",
       "    </tr>\n",
       "    <tr>\n",
       "      <th>455</th>\n",
       "      <td> 11.3</td>\n",
       "      <td> 0.62</td>\n",
       "      <td> 0.67</td>\n",
       "      <td> 5.2</td>\n",
       "      <td> 0.086</td>\n",
       "      <td>  6</td>\n",
       "      <td> 19</td>\n",
       "      <td> 0.9988</td>\n",
       "      <td> 3.22</td>\n",
       "      <td> 0.69</td>\n",
       "      <td> 13.4</td>\n",
       "      <td> 8</td>\n",
       "    </tr>\n",
       "  </tbody>\n",
       "</table>\n",
       "</div>"
      ],
      "text/plain": [
       "     fixed acidity  volatile acidity  citric acid  residual sugar  chlorides  \\\n",
       "267            7.9              0.35         0.46             3.6      0.078   \n",
       "278           10.3              0.32         0.45             6.4      0.073   \n",
       "390            5.6              0.85         0.05             1.4      0.045   \n",
       "440           12.6              0.31         0.72             2.2      0.072   \n",
       "455           11.3              0.62         0.67             5.2      0.086   \n",
       "\n",
       "     free sulfur dioxide  total sulfur dioxide  density    pH  sulphates  \\\n",
       "267                   15                    37   0.9973  3.35       0.86   \n",
       "278                    5                    13   0.9976  3.23       0.82   \n",
       "390                   12                    88   0.9924  3.56       0.82   \n",
       "440                    6                    29   0.9987  2.88       0.82   \n",
       "455                    6                    19   0.9988  3.22       0.69   \n",
       "\n",
       "     alcohol  quality  \n",
       "267     12.8        8  \n",
       "278     12.6        8  \n",
       "390     12.9        8  \n",
       "440      9.8        8  \n",
       "455     13.4        8  "
      ]
     },
     "execution_count": 106,
     "metadata": {},
     "output_type": "execute_result"
    }
   ],
   "source": [
    "wine_data.loc[ wine_data.loc[:, 'quality'] == 8, : ].head()  # rows with quality 8"
   ]
  },
  {
   "cell_type": "markdown",
   "metadata": {},
   "source": [
    "That last one might look tricky, but it's actually quite simple.\n",
    "```python\n",
    "wine_data.loc[:, 'quality'] == 8\n",
    "```\n",
    "will give a boolean array that is `True` where the `quality` is 8, and `False` otherwise.\n",
    "Using this boolean array as the `row_index` of the outer `loc[]` we effectively select all rows where quality is 8. \n",
    "\n",
    "Similar conditions can be built using other comparison operators such as `!=`, `>=`, `<=`."
   ]
  },
  {
   "cell_type": "markdown",
   "metadata": {},
   "source": [
    "Use `iloc[row_index, col_index]` if you want to specify the subset by integer position. In this case, slices are treated as regular `python` slices (start inclusive and end exclusive)."
   ]
  },
  {
   "cell_type": "code",
   "execution_count": 108,
   "metadata": {
    "collapsed": true
   },
   "outputs": [
    {
     "data": {
      "text/html": [
       "<div style=\"max-height:1000px;max-width:1500px;overflow:auto;\">\n",
       "<table border=\"1\" class=\"dataframe\">\n",
       "  <thead>\n",
       "    <tr style=\"text-align: right;\">\n",
       "      <th></th>\n",
       "      <th>fixed acidity</th>\n",
       "      <th>volatile acidity</th>\n",
       "      <th>citric acid</th>\n",
       "    </tr>\n",
       "  </thead>\n",
       "  <tbody>\n",
       "    <tr>\n",
       "      <th>0</th>\n",
       "      <td>  7.4</td>\n",
       "      <td> 0.70</td>\n",
       "      <td> 0.00</td>\n",
       "    </tr>\n",
       "    <tr>\n",
       "      <th>1</th>\n",
       "      <td>  7.8</td>\n",
       "      <td> 0.88</td>\n",
       "      <td> 0.00</td>\n",
       "    </tr>\n",
       "    <tr>\n",
       "      <th>2</th>\n",
       "      <td>  7.8</td>\n",
       "      <td> 0.76</td>\n",
       "      <td> 0.04</td>\n",
       "    </tr>\n",
       "    <tr>\n",
       "      <th>3</th>\n",
       "      <td> 11.2</td>\n",
       "      <td> 0.28</td>\n",
       "      <td> 0.56</td>\n",
       "    </tr>\n",
       "    <tr>\n",
       "      <th>4</th>\n",
       "      <td>  7.4</td>\n",
       "      <td> 0.70</td>\n",
       "      <td> 0.00</td>\n",
       "    </tr>\n",
       "  </tbody>\n",
       "</table>\n",
       "</div>"
      ],
      "text/plain": [
       "   fixed acidity  volatile acidity  citric acid\n",
       "0            7.4              0.70         0.00\n",
       "1            7.8              0.88         0.00\n",
       "2            7.8              0.76         0.04\n",
       "3           11.2              0.28         0.56\n",
       "4            7.4              0.70         0.00"
      ]
     },
     "execution_count": 108,
     "metadata": {},
     "output_type": "execute_result"
    }
   ],
   "source": [
    "wine_data.iloc[ 0:5, 0:3 ]"
   ]
  },
  {
   "cell_type": "markdown",
   "metadata": {},
   "source": [
    "Using `iloc[]` with labels will result in a `ValueError`"
   ]
  },
  {
   "cell_type": "code",
   "execution_count": 110,
   "metadata": {
    "collapsed": true
   },
   "outputs": [
    {
     "ename": "ValueError",
     "evalue": "Location based indexing can only have [integer, integer slice (START point is INCLUDED, END point is EXCLUDED), listlike of integers, boolean array] types",
     "output_type": "error",
     "traceback": [
      "\u001b[1;31m---------------------------------------------------------------------------\u001b[0m",
      "\u001b[1;31mValueError\u001b[0m                                Traceback (most recent call last)",
      "\u001b[1;32m<ipython-input-110-a393f445c44b>\u001b[0m in \u001b[0;36m<module>\u001b[1;34m()\u001b[0m\n\u001b[1;32m----> 1\u001b[1;33m \u001b[0mwine_data\u001b[0m\u001b[1;33m.\u001b[0m\u001b[0miloc\u001b[0m\u001b[1;33m[\u001b[0m\u001b[1;33m:\u001b[0m\u001b[1;33m,\u001b[0m \u001b[1;34m'quality'\u001b[0m\u001b[1;33m]\u001b[0m\u001b[1;33m\u001b[0m\u001b[0m\n\u001b[0m",
      "\u001b[1;32mC:\\Users\\Jongbin\\Anaconda\\lib\\site-packages\\pandas\\core\\indexing.pyc\u001b[0m in \u001b[0;36m__getitem__\u001b[1;34m(self, key)\u001b[0m\n\u001b[0;32m   1140\u001b[0m     \u001b[1;32mdef\u001b[0m \u001b[0m__getitem__\u001b[0m\u001b[1;33m(\u001b[0m\u001b[0mself\u001b[0m\u001b[1;33m,\u001b[0m \u001b[0mkey\u001b[0m\u001b[1;33m)\u001b[0m\u001b[1;33m:\u001b[0m\u001b[1;33m\u001b[0m\u001b[0m\n\u001b[0;32m   1141\u001b[0m         \u001b[1;32mif\u001b[0m \u001b[0mtype\u001b[0m\u001b[1;33m(\u001b[0m\u001b[0mkey\u001b[0m\u001b[1;33m)\u001b[0m \u001b[1;32mis\u001b[0m \u001b[0mtuple\u001b[0m\u001b[1;33m:\u001b[0m\u001b[1;33m\u001b[0m\u001b[0m\n\u001b[1;32m-> 1142\u001b[1;33m             \u001b[1;32mreturn\u001b[0m \u001b[0mself\u001b[0m\u001b[1;33m.\u001b[0m\u001b[0m_getitem_tuple\u001b[0m\u001b[1;33m(\u001b[0m\u001b[0mkey\u001b[0m\u001b[1;33m)\u001b[0m\u001b[1;33m\u001b[0m\u001b[0m\n\u001b[0m\u001b[0;32m   1143\u001b[0m         \u001b[1;32melse\u001b[0m\u001b[1;33m:\u001b[0m\u001b[1;33m\u001b[0m\u001b[0m\n\u001b[0;32m   1144\u001b[0m             \u001b[1;32mreturn\u001b[0m \u001b[0mself\u001b[0m\u001b[1;33m.\u001b[0m\u001b[0m_getitem_axis\u001b[0m\u001b[1;33m(\u001b[0m\u001b[0mkey\u001b[0m\u001b[1;33m,\u001b[0m \u001b[0maxis\u001b[0m\u001b[1;33m=\u001b[0m\u001b[1;36m0\u001b[0m\u001b[1;33m)\u001b[0m\u001b[1;33m\u001b[0m\u001b[0m\n",
      "\u001b[1;32mC:\\Users\\Jongbin\\Anaconda\\lib\\site-packages\\pandas\\core\\indexing.pyc\u001b[0m in \u001b[0;36m_getitem_tuple\u001b[1;34m(self, tup)\u001b[0m\n\u001b[0;32m   1345\u001b[0m     \u001b[1;32mdef\u001b[0m \u001b[0m_getitem_tuple\u001b[0m\u001b[1;33m(\u001b[0m\u001b[0mself\u001b[0m\u001b[1;33m,\u001b[0m \u001b[0mtup\u001b[0m\u001b[1;33m)\u001b[0m\u001b[1;33m:\u001b[0m\u001b[1;33m\u001b[0m\u001b[0m\n\u001b[0;32m   1346\u001b[0m \u001b[1;33m\u001b[0m\u001b[0m\n\u001b[1;32m-> 1347\u001b[1;33m         \u001b[0mself\u001b[0m\u001b[1;33m.\u001b[0m\u001b[0m_has_valid_tuple\u001b[0m\u001b[1;33m(\u001b[0m\u001b[0mtup\u001b[0m\u001b[1;33m)\u001b[0m\u001b[1;33m\u001b[0m\u001b[0m\n\u001b[0m\u001b[0;32m   1348\u001b[0m         \u001b[1;32mtry\u001b[0m\u001b[1;33m:\u001b[0m\u001b[1;33m\u001b[0m\u001b[0m\n\u001b[0;32m   1349\u001b[0m             \u001b[1;32mreturn\u001b[0m \u001b[0mself\u001b[0m\u001b[1;33m.\u001b[0m\u001b[0m_getitem_lowerdim\u001b[0m\u001b[1;33m(\u001b[0m\u001b[0mtup\u001b[0m\u001b[1;33m)\u001b[0m\u001b[1;33m\u001b[0m\u001b[0m\n",
      "\u001b[1;32mC:\\Users\\Jongbin\\Anaconda\\lib\\site-packages\\pandas\\core\\indexing.pyc\u001b[0m in \u001b[0;36m_has_valid_tuple\u001b[1;34m(self, key)\u001b[0m\n\u001b[0;32m    130\u001b[0m             \u001b[1;32mif\u001b[0m \u001b[1;32mnot\u001b[0m \u001b[0mself\u001b[0m\u001b[1;33m.\u001b[0m\u001b[0m_has_valid_type\u001b[0m\u001b[1;33m(\u001b[0m\u001b[0mk\u001b[0m\u001b[1;33m,\u001b[0m \u001b[0mi\u001b[0m\u001b[1;33m)\u001b[0m\u001b[1;33m:\u001b[0m\u001b[1;33m\u001b[0m\u001b[0m\n\u001b[0;32m    131\u001b[0m                 raise ValueError(\"Location based indexing can only have [%s] \"\n\u001b[1;32m--> 132\u001b[1;33m                                  \"types\" % self._valid_types)\n\u001b[0m\u001b[0;32m    133\u001b[0m \u001b[1;33m\u001b[0m\u001b[0m\n\u001b[0;32m    134\u001b[0m     \u001b[1;32mdef\u001b[0m \u001b[0m_is_nested_tuple_indexer\u001b[0m\u001b[1;33m(\u001b[0m\u001b[0mself\u001b[0m\u001b[1;33m,\u001b[0m \u001b[0mtup\u001b[0m\u001b[1;33m)\u001b[0m\u001b[1;33m:\u001b[0m\u001b[1;33m\u001b[0m\u001b[0m\n",
      "\u001b[1;31mValueError\u001b[0m: Location based indexing can only have [integer, integer slice (START point is INCLUDED, END point is EXCLUDED), listlike of integers, boolean array] types"
     ]
    }
   ],
   "source": [
    "wine_data.iloc[:, 'quality']"
   ]
  },
  {
   "cell_type": "markdown",
   "metadata": {},
   "source": [
    "#### 2. transform\n",
    "Setting a new column will automatically align the data by the indices."
   ]
  },
  {
   "cell_type": "code",
   "execution_count": 135,
   "metadata": {
    "collapsed": true
   },
   "outputs": [
    {
     "data": {
      "text/html": [
       "<div style=\"max-height:1000px;max-width:1500px;overflow:auto;\">\n",
       "<table border=\"1\" class=\"dataframe\">\n",
       "  <thead>\n",
       "    <tr style=\"text-align: right;\">\n",
       "      <th></th>\n",
       "      <th>fixed acidity</th>\n",
       "      <th>volatile acidity</th>\n",
       "      <th>citric acid</th>\n",
       "      <th>residual sugar</th>\n",
       "      <th>chlorides</th>\n",
       "      <th>free sulfur dioxide</th>\n",
       "      <th>total sulfur dioxide</th>\n",
       "      <th>density</th>\n",
       "      <th>pH</th>\n",
       "      <th>sulphates</th>\n",
       "      <th>alcohol</th>\n",
       "      <th>quality</th>\n",
       "      <th>new_column</th>\n",
       "    </tr>\n",
       "  </thead>\n",
       "  <tbody>\n",
       "    <tr>\n",
       "      <th>0</th>\n",
       "      <td>  7.4</td>\n",
       "      <td> 0.70</td>\n",
       "      <td> 0.00</td>\n",
       "      <td> 1.9</td>\n",
       "      <td> 0.076</td>\n",
       "      <td> 11</td>\n",
       "      <td> 34</td>\n",
       "      <td> 0.9978</td>\n",
       "      <td> 3.51</td>\n",
       "      <td> 0.56</td>\n",
       "      <td> 9.4</td>\n",
       "      <td> 5</td>\n",
       "      <td>NaN</td>\n",
       "    </tr>\n",
       "    <tr>\n",
       "      <th>1</th>\n",
       "      <td>  7.8</td>\n",
       "      <td> 0.88</td>\n",
       "      <td> 0.00</td>\n",
       "      <td> 2.6</td>\n",
       "      <td> 0.098</td>\n",
       "      <td> 25</td>\n",
       "      <td> 67</td>\n",
       "      <td> 0.9968</td>\n",
       "      <td> 3.20</td>\n",
       "      <td> 0.68</td>\n",
       "      <td> 9.8</td>\n",
       "      <td> 5</td>\n",
       "      <td>NaN</td>\n",
       "    </tr>\n",
       "    <tr>\n",
       "      <th>2</th>\n",
       "      <td>  7.8</td>\n",
       "      <td> 0.76</td>\n",
       "      <td> 0.04</td>\n",
       "      <td> 2.3</td>\n",
       "      <td> 0.092</td>\n",
       "      <td> 15</td>\n",
       "      <td> 54</td>\n",
       "      <td> 0.9970</td>\n",
       "      <td> 3.26</td>\n",
       "      <td> 0.65</td>\n",
       "      <td> 9.8</td>\n",
       "      <td> 5</td>\n",
       "      <td>NaN</td>\n",
       "    </tr>\n",
       "    <tr>\n",
       "      <th>3</th>\n",
       "      <td> 11.2</td>\n",
       "      <td> 0.28</td>\n",
       "      <td> 0.56</td>\n",
       "      <td> 1.9</td>\n",
       "      <td> 0.075</td>\n",
       "      <td> 17</td>\n",
       "      <td> 60</td>\n",
       "      <td> 0.9980</td>\n",
       "      <td> 3.16</td>\n",
       "      <td> 0.58</td>\n",
       "      <td> 9.8</td>\n",
       "      <td> 6</td>\n",
       "      <td>NaN</td>\n",
       "    </tr>\n",
       "    <tr>\n",
       "      <th>4</th>\n",
       "      <td>  7.4</td>\n",
       "      <td> 0.70</td>\n",
       "      <td> 0.00</td>\n",
       "      <td> 1.9</td>\n",
       "      <td> 0.076</td>\n",
       "      <td> 11</td>\n",
       "      <td> 34</td>\n",
       "      <td> 0.9978</td>\n",
       "      <td> 3.51</td>\n",
       "      <td> 0.56</td>\n",
       "      <td> 9.4</td>\n",
       "      <td> 5</td>\n",
       "      <td>NaN</td>\n",
       "    </tr>\n",
       "  </tbody>\n",
       "</table>\n",
       "</div>"
      ],
      "text/plain": [
       "   fixed acidity  volatile acidity  citric acid  residual sugar  chlorides  \\\n",
       "0            7.4              0.70         0.00             1.9      0.076   \n",
       "1            7.8              0.88         0.00             2.6      0.098   \n",
       "2            7.8              0.76         0.04             2.3      0.092   \n",
       "3           11.2              0.28         0.56             1.9      0.075   \n",
       "4            7.4              0.70         0.00             1.9      0.076   \n",
       "\n",
       "   free sulfur dioxide  total sulfur dioxide  density    pH  sulphates  \\\n",
       "0                   11                    34   0.9978  3.51       0.56   \n",
       "1                   25                    67   0.9968  3.20       0.68   \n",
       "2                   15                    54   0.9970  3.26       0.65   \n",
       "3                   17                    60   0.9980  3.16       0.58   \n",
       "4                   11                    34   0.9978  3.51       0.56   \n",
       "\n",
       "   alcohol  quality  new_column  \n",
       "0      9.4        5         NaN  \n",
       "1      9.8        5         NaN  \n",
       "2      9.8        5         NaN  \n",
       "3      9.8        6         NaN  \n",
       "4      9.4        5         NaN  "
      ]
     },
     "execution_count": 135,
     "metadata": {},
     "output_type": "execute_result"
    }
   ],
   "source": [
    "import numpy as np\n",
    "wine_data['new_column'] = np.nan\n",
    "wine_data.head()"
   ]
  },
  {
   "cell_type": "markdown",
   "metadata": {},
   "source": [
    "The `nan` object from the library `numpy` is used by `pandas` to specify missing values. Note that we've imported `numpy` using a slightly different syntax, namely\n",
    "```python\n",
    "import numpy as np\n",
    "```\n",
    "The '...`as np`' simply lets us refer to `numpy` as `np`, saving us a few keystrokes in the future. \n",
    "\n",
    "\n",
    "Note that by assigning a single `np.nan` value to a new column (named `new_column`), we've created a column full of `NaN`s. This illustrates the point, but isn't too useful. Let's remove this new column with the `drop(label, axis)` method. The `axis` argument in `drop()` specifies which axis (0 = row, 1 = column) to drop. In this case, we're dropping the entire column, so we specify `axis=1`."
   ]
  },
  {
   "cell_type": "code",
   "execution_count": 136,
   "metadata": {
    "collapsed": false
   },
   "outputs": [
    {
     "data": {
      "text/html": [
       "<div style=\"max-height:1000px;max-width:1500px;overflow:auto;\">\n",
       "<table border=\"1\" class=\"dataframe\">\n",
       "  <thead>\n",
       "    <tr style=\"text-align: right;\">\n",
       "      <th></th>\n",
       "      <th>fixed acidity</th>\n",
       "      <th>volatile acidity</th>\n",
       "      <th>citric acid</th>\n",
       "      <th>residual sugar</th>\n",
       "      <th>chlorides</th>\n",
       "      <th>free sulfur dioxide</th>\n",
       "      <th>total sulfur dioxide</th>\n",
       "      <th>density</th>\n",
       "      <th>pH</th>\n",
       "      <th>sulphates</th>\n",
       "      <th>alcohol</th>\n",
       "      <th>quality</th>\n",
       "    </tr>\n",
       "  </thead>\n",
       "  <tbody>\n",
       "    <tr>\n",
       "      <th>0</th>\n",
       "      <td>  7.4</td>\n",
       "      <td> 0.70</td>\n",
       "      <td> 0.00</td>\n",
       "      <td> 1.9</td>\n",
       "      <td> 0.076</td>\n",
       "      <td> 11</td>\n",
       "      <td> 34</td>\n",
       "      <td> 0.9978</td>\n",
       "      <td> 3.51</td>\n",
       "      <td> 0.56</td>\n",
       "      <td> 9.4</td>\n",
       "      <td> 5</td>\n",
       "    </tr>\n",
       "    <tr>\n",
       "      <th>1</th>\n",
       "      <td>  7.8</td>\n",
       "      <td> 0.88</td>\n",
       "      <td> 0.00</td>\n",
       "      <td> 2.6</td>\n",
       "      <td> 0.098</td>\n",
       "      <td> 25</td>\n",
       "      <td> 67</td>\n",
       "      <td> 0.9968</td>\n",
       "      <td> 3.20</td>\n",
       "      <td> 0.68</td>\n",
       "      <td> 9.8</td>\n",
       "      <td> 5</td>\n",
       "    </tr>\n",
       "    <tr>\n",
       "      <th>2</th>\n",
       "      <td>  7.8</td>\n",
       "      <td> 0.76</td>\n",
       "      <td> 0.04</td>\n",
       "      <td> 2.3</td>\n",
       "      <td> 0.092</td>\n",
       "      <td> 15</td>\n",
       "      <td> 54</td>\n",
       "      <td> 0.9970</td>\n",
       "      <td> 3.26</td>\n",
       "      <td> 0.65</td>\n",
       "      <td> 9.8</td>\n",
       "      <td> 5</td>\n",
       "    </tr>\n",
       "    <tr>\n",
       "      <th>3</th>\n",
       "      <td> 11.2</td>\n",
       "      <td> 0.28</td>\n",
       "      <td> 0.56</td>\n",
       "      <td> 1.9</td>\n",
       "      <td> 0.075</td>\n",
       "      <td> 17</td>\n",
       "      <td> 60</td>\n",
       "      <td> 0.9980</td>\n",
       "      <td> 3.16</td>\n",
       "      <td> 0.58</td>\n",
       "      <td> 9.8</td>\n",
       "      <td> 6</td>\n",
       "    </tr>\n",
       "    <tr>\n",
       "      <th>4</th>\n",
       "      <td>  7.4</td>\n",
       "      <td> 0.70</td>\n",
       "      <td> 0.00</td>\n",
       "      <td> 1.9</td>\n",
       "      <td> 0.076</td>\n",
       "      <td> 11</td>\n",
       "      <td> 34</td>\n",
       "      <td> 0.9978</td>\n",
       "      <td> 3.51</td>\n",
       "      <td> 0.56</td>\n",
       "      <td> 9.4</td>\n",
       "      <td> 5</td>\n",
       "    </tr>\n",
       "  </tbody>\n",
       "</table>\n",
       "</div>"
      ],
      "text/plain": [
       "   fixed acidity  volatile acidity  citric acid  residual sugar  chlorides  \\\n",
       "0            7.4              0.70         0.00             1.9      0.076   \n",
       "1            7.8              0.88         0.00             2.6      0.098   \n",
       "2            7.8              0.76         0.04             2.3      0.092   \n",
       "3           11.2              0.28         0.56             1.9      0.075   \n",
       "4            7.4              0.70         0.00             1.9      0.076   \n",
       "\n",
       "   free sulfur dioxide  total sulfur dioxide  density    pH  sulphates  \\\n",
       "0                   11                    34   0.9978  3.51       0.56   \n",
       "1                   25                    67   0.9968  3.20       0.68   \n",
       "2                   15                    54   0.9970  3.26       0.65   \n",
       "3                   17                    60   0.9980  3.16       0.58   \n",
       "4                   11                    34   0.9978  3.51       0.56   \n",
       "\n",
       "   alcohol  quality  \n",
       "0      9.4        5  \n",
       "1      9.8        5  \n",
       "2      9.8        5  \n",
       "3      9.8        6  \n",
       "4      9.4        5  "
      ]
     },
     "execution_count": 136,
     "metadata": {},
     "output_type": "execute_result"
    }
   ],
   "source": [
    "wine_data.drop('new_column', axis=1).head()"
   ]
  },
  {
   "cell_type": "markdown",
   "metadata": {},
   "source": [
    "Let's try something more useful. We want to change the numeric 'quality' column into a string where values greater than 5 are labeled 'good', greater than 2 are labeled 'not bad', and less than or equal to 2 are labeled 'bad'.\n",
    "\n",
    "To do that, we first define a function that will take "
   ]
  },
  {
   "cell_type": "code",
   "execution_count": 134,
   "metadata": {
    "collapsed": false
   },
   "outputs": [
    {
     "data": {
      "text/plain": [
       "0       not bad\n",
       "1       not bad\n",
       "2       not bad\n",
       "3     excellent\n",
       "4       not bad\n",
       "5       not bad\n",
       "6       not bad\n",
       "7     excellent\n",
       "8     excellent\n",
       "9       not bad\n",
       "10      not bad\n",
       "11      not bad\n",
       "12      not bad\n",
       "13      not bad\n",
       "14      not bad\n",
       "...\n",
       "1584    excellent\n",
       "1585    excellent\n",
       "1586    excellent\n",
       "1587    excellent\n",
       "1588    excellent\n",
       "1589      not bad\n",
       "1590    excellent\n",
       "1591    excellent\n",
       "1592    excellent\n",
       "1593    excellent\n",
       "1594      not bad\n",
       "1595    excellent\n",
       "1596    excellent\n",
       "1597      not bad\n",
       "1598    excellent\n",
       "Name: quality, Length: 1599, dtype: object"
      ]
     },
     "execution_count": 134,
     "metadata": {},
     "output_type": "execute_result"
    }
   ],
   "source": [
    "def quality_to_str(qual):\n",
    "    if qual > 5:\n",
    "        return 'good'\n",
    "    elif qual > 2:\n",
    "        return 'not bad'\n",
    "    else:\n",
    "        return 'bad'\n",
    "    \n",
    "wine_data.loc[:, 'quality'].apply(lambda x: quality_to_str(x))"
   ]
  },
  {
   "cell_type": "markdown",
   "metadata": {},
   "source": [
    "#### 3. sort\n",
    "This is easily achieved using the `sort()` method."
   ]
  },
  {
   "cell_type": "code",
   "execution_count": 77,
   "metadata": {
    "collapsed": true
   },
   "outputs": [
    {
     "data": {
      "text/html": [
       "<div style=\"max-height:1000px;max-width:1500px;overflow:auto;\">\n",
       "<table border=\"1\" class=\"dataframe\">\n",
       "  <thead>\n",
       "    <tr style=\"text-align: right;\">\n",
       "      <th></th>\n",
       "      <th>fixed acidity</th>\n",
       "      <th>volatile acidity</th>\n",
       "      <th>citric acid</th>\n",
       "      <th>residual sugar</th>\n",
       "      <th>chlorides</th>\n",
       "      <th>free sulfur dioxide</th>\n",
       "      <th>total sulfur dioxide</th>\n",
       "      <th>density</th>\n",
       "      <th>pH</th>\n",
       "      <th>sulphates</th>\n",
       "      <th>alcohol</th>\n",
       "      <th>quality</th>\n",
       "    </tr>\n",
       "  </thead>\n",
       "  <tbody>\n",
       "    <tr>\n",
       "      <th>1478</th>\n",
       "      <td>  7.1</td>\n",
       "      <td> 0.875</td>\n",
       "      <td> 0.05</td>\n",
       "      <td> 5.7</td>\n",
       "      <td> 0.082</td>\n",
       "      <td>  3</td>\n",
       "      <td> 14</td>\n",
       "      <td> 0.99808</td>\n",
       "      <td> 3.40</td>\n",
       "      <td> 0.52</td>\n",
       "      <td> 10.2</td>\n",
       "      <td> 3</td>\n",
       "    </tr>\n",
       "    <tr>\n",
       "      <th>832 </th>\n",
       "      <td> 10.4</td>\n",
       "      <td> 0.440</td>\n",
       "      <td> 0.42</td>\n",
       "      <td> 1.5</td>\n",
       "      <td> 0.145</td>\n",
       "      <td> 34</td>\n",
       "      <td> 48</td>\n",
       "      <td> 0.99832</td>\n",
       "      <td> 3.38</td>\n",
       "      <td> 0.86</td>\n",
       "      <td>  9.9</td>\n",
       "      <td> 3</td>\n",
       "    </tr>\n",
       "    <tr>\n",
       "      <th>899 </th>\n",
       "      <td>  8.3</td>\n",
       "      <td> 1.020</td>\n",
       "      <td> 0.02</td>\n",
       "      <td> 3.4</td>\n",
       "      <td> 0.084</td>\n",
       "      <td>  6</td>\n",
       "      <td> 11</td>\n",
       "      <td> 0.99892</td>\n",
       "      <td> 3.48</td>\n",
       "      <td> 0.49</td>\n",
       "      <td> 11.0</td>\n",
       "      <td> 3</td>\n",
       "    </tr>\n",
       "    <tr>\n",
       "      <th>1374</th>\n",
       "      <td>  6.8</td>\n",
       "      <td> 0.815</td>\n",
       "      <td> 0.00</td>\n",
       "      <td> 1.2</td>\n",
       "      <td> 0.267</td>\n",
       "      <td> 16</td>\n",
       "      <td> 29</td>\n",
       "      <td> 0.99471</td>\n",
       "      <td> 3.32</td>\n",
       "      <td> 0.51</td>\n",
       "      <td>  9.8</td>\n",
       "      <td> 3</td>\n",
       "    </tr>\n",
       "    <tr>\n",
       "      <th>459 </th>\n",
       "      <td> 11.6</td>\n",
       "      <td> 0.580</td>\n",
       "      <td> 0.66</td>\n",
       "      <td> 2.2</td>\n",
       "      <td> 0.074</td>\n",
       "      <td> 10</td>\n",
       "      <td> 47</td>\n",
       "      <td> 1.00080</td>\n",
       "      <td> 3.25</td>\n",
       "      <td> 0.57</td>\n",
       "      <td>  9.0</td>\n",
       "      <td> 3</td>\n",
       "    </tr>\n",
       "  </tbody>\n",
       "</table>\n",
       "</div>"
      ],
      "text/plain": [
       "      fixed acidity  volatile acidity  citric acid  residual sugar  chlorides  \\\n",
       "1478            7.1             0.875         0.05             5.7      0.082   \n",
       "832            10.4             0.440         0.42             1.5      0.145   \n",
       "899             8.3             1.020         0.02             3.4      0.084   \n",
       "1374            6.8             0.815         0.00             1.2      0.267   \n",
       "459            11.6             0.580         0.66             2.2      0.074   \n",
       "\n",
       "      free sulfur dioxide  total sulfur dioxide  density    pH  sulphates  \\\n",
       "1478                    3                    14  0.99808  3.40       0.52   \n",
       "832                    34                    48  0.99832  3.38       0.86   \n",
       "899                     6                    11  0.99892  3.48       0.49   \n",
       "1374                   16                    29  0.99471  3.32       0.51   \n",
       "459                    10                    47  1.00080  3.25       0.57   \n",
       "\n",
       "      alcohol  quality  \n",
       "1478     10.2        3  \n",
       "832       9.9        3  \n",
       "899      11.0        3  \n",
       "1374      9.8        3  \n",
       "459       9.0        3  "
      ]
     },
     "execution_count": 77,
     "metadata": {},
     "output_type": "execute_result"
    }
   ],
   "source": [
    "wine_data.sort(columns='quality').head()  # the default is to sort in ascending order"
   ]
  },
  {
   "cell_type": "code",
   "execution_count": 79,
   "metadata": {
    "collapsed": false
   },
   "outputs": [
    {
     "data": {
      "text/html": [
       "<div style=\"max-height:1000px;max-width:1500px;overflow:auto;\">\n",
       "<table border=\"1\" class=\"dataframe\">\n",
       "  <thead>\n",
       "    <tr style=\"text-align: right;\">\n",
       "      <th></th>\n",
       "      <th>fixed acidity</th>\n",
       "      <th>volatile acidity</th>\n",
       "      <th>citric acid</th>\n",
       "      <th>residual sugar</th>\n",
       "      <th>chlorides</th>\n",
       "      <th>free sulfur dioxide</th>\n",
       "      <th>total sulfur dioxide</th>\n",
       "      <th>density</th>\n",
       "      <th>pH</th>\n",
       "      <th>sulphates</th>\n",
       "      <th>alcohol</th>\n",
       "      <th>quality</th>\n",
       "    </tr>\n",
       "  </thead>\n",
       "  <tbody>\n",
       "    <tr>\n",
       "      <th>495 </th>\n",
       "      <td> 10.7</td>\n",
       "      <td> 0.35</td>\n",
       "      <td> 0.53</td>\n",
       "      <td> 2.6</td>\n",
       "      <td> 0.070</td>\n",
       "      <td>  5</td>\n",
       "      <td> 16</td>\n",
       "      <td> 0.99720</td>\n",
       "      <td> 3.15</td>\n",
       "      <td> 0.65</td>\n",
       "      <td> 11.0</td>\n",
       "      <td> 8</td>\n",
       "    </tr>\n",
       "    <tr>\n",
       "      <th>1403</th>\n",
       "      <td>  7.2</td>\n",
       "      <td> 0.33</td>\n",
       "      <td> 0.33</td>\n",
       "      <td> 1.7</td>\n",
       "      <td> 0.061</td>\n",
       "      <td>  3</td>\n",
       "      <td> 13</td>\n",
       "      <td> 0.99600</td>\n",
       "      <td> 3.23</td>\n",
       "      <td> 1.10</td>\n",
       "      <td> 10.0</td>\n",
       "      <td> 8</td>\n",
       "    </tr>\n",
       "    <tr>\n",
       "      <th>390 </th>\n",
       "      <td>  5.6</td>\n",
       "      <td> 0.85</td>\n",
       "      <td> 0.05</td>\n",
       "      <td> 1.4</td>\n",
       "      <td> 0.045</td>\n",
       "      <td> 12</td>\n",
       "      <td> 88</td>\n",
       "      <td> 0.99240</td>\n",
       "      <td> 3.56</td>\n",
       "      <td> 0.82</td>\n",
       "      <td> 12.9</td>\n",
       "      <td> 8</td>\n",
       "    </tr>\n",
       "    <tr>\n",
       "      <th>1061</th>\n",
       "      <td>  9.1</td>\n",
       "      <td> 0.40</td>\n",
       "      <td> 0.50</td>\n",
       "      <td> 1.8</td>\n",
       "      <td> 0.071</td>\n",
       "      <td>  7</td>\n",
       "      <td> 16</td>\n",
       "      <td> 0.99462</td>\n",
       "      <td> 3.21</td>\n",
       "      <td> 0.69</td>\n",
       "      <td> 12.5</td>\n",
       "      <td> 8</td>\n",
       "    </tr>\n",
       "    <tr>\n",
       "      <th>1202</th>\n",
       "      <td>  8.6</td>\n",
       "      <td> 0.42</td>\n",
       "      <td> 0.39</td>\n",
       "      <td> 1.8</td>\n",
       "      <td> 0.068</td>\n",
       "      <td>  6</td>\n",
       "      <td> 12</td>\n",
       "      <td> 0.99516</td>\n",
       "      <td> 3.35</td>\n",
       "      <td> 0.69</td>\n",
       "      <td> 11.7</td>\n",
       "      <td> 8</td>\n",
       "    </tr>\n",
       "  </tbody>\n",
       "</table>\n",
       "</div>"
      ],
      "text/plain": [
       "      fixed acidity  volatile acidity  citric acid  residual sugar  chlorides  \\\n",
       "495            10.7              0.35         0.53             2.6      0.070   \n",
       "1403            7.2              0.33         0.33             1.7      0.061   \n",
       "390             5.6              0.85         0.05             1.4      0.045   \n",
       "1061            9.1              0.40         0.50             1.8      0.071   \n",
       "1202            8.6              0.42         0.39             1.8      0.068   \n",
       "\n",
       "      free sulfur dioxide  total sulfur dioxide  density    pH  sulphates  \\\n",
       "495                     5                    16  0.99720  3.15       0.65   \n",
       "1403                    3                    13  0.99600  3.23       1.10   \n",
       "390                    12                    88  0.99240  3.56       0.82   \n",
       "1061                    7                    16  0.99462  3.21       0.69   \n",
       "1202                    6                    12  0.99516  3.35       0.69   \n",
       "\n",
       "      alcohol  quality  \n",
       "495      11.0        8  \n",
       "1403     10.0        8  \n",
       "390      12.9        8  \n",
       "1061     12.5        8  \n",
       "1202     11.7        8  "
      ]
     },
     "execution_count": 79,
     "metadata": {},
     "output_type": "execute_result"
    }
   ],
   "source": [
    "wine_data.sort(columns='quality', ascending=False).head()  # specify ascending=False to sort in descending order"
   ]
  },
  {
   "cell_type": "markdown",
   "metadata": {},
   "source": [
    "#### 4. summarize"
   ]
  },
  {
   "cell_type": "code",
   "execution_count": 56,
   "metadata": {
    "collapsed": false
   },
   "outputs": [
    {
     "data": {
      "image/png": "[encoded data removed]",
      "text/plain": [
       "<matplotlib.figure.Figure at 0xebd9898>"
      ]
     },
     "metadata": {},
     "output_type": "display_data"
    }
   ],
   "source": [
    "%matplotlib inline\n",
    "import matplotlib\n",
    "plot = wine_data.plot(x='residual sugar', y='alcohol', kind='scatter')\n"
   ]
  },
  {
   "cell_type": "code",
   "execution_count": 50,
   "metadata": {
    "collapsed": false
   },
   "outputs": [
    {
     "data": {
      "text/plain": [
       "Index([u'fixed acidity', u'volatile acidity', u'citric acid', u'residual sugar', u'chlorides', u'free sulfur dioxide', u'total sulfur dioxide', u'density', u'pH', u'sulphates', u'alcohol', u'quality'], dtype='object')"
      ]
     },
     "execution_count": 50,
     "metadata": {},
     "output_type": "execute_result"
    }
   ],
   "source": [
    "wine_data.columns"
   ]
  },
  {
   "cell_type": "code",
   "execution_count": null,
   "metadata": {
    "collapsed": true
   },
   "outputs": [],
   "source": []
  },
  {
   "cell_type": "code",
   "execution_count": null,
   "metadata": {
    "collapsed": true
   },
   "outputs": [],
   "source": []
  },
  {
   "cell_type": "code",
   "execution_count": 47,
   "metadata": {
    "collapsed": false
   },
   "outputs": [
    {
     "data": {
      "text/plain": [
       "<matplotlib.axes._subplots.AxesSubplot at 0xc77b6a0>"
      ]
     },
     "execution_count": 47,
     "metadata": {},
     "output_type": "execute_result"
    }
   ],
   "source": [
    "plot"
   ]
  },
  {
   "cell_type": "code",
   "execution_count": null,
   "metadata": {
    "collapsed": true
   },
   "outputs": [],
   "source": []
  },
  {
   "cell_type": "code",
   "execution_count": 45,
   "metadata": {
    "collapsed": false
   },
   "outputs": [
    {
     "ename": "KeyError",
     "evalue": "True",
     "output_type": "error",
     "traceback": [
      "\u001b[1;31m---------------------------------------------------------------------------\u001b[0m",
      "\u001b[1;31mKeyError\u001b[0m                                  Traceback (most recent call last)",
      "\u001b[1;32m<ipython-input-45-38ee67c3cc1a>\u001b[0m in \u001b[0;36m<module>\u001b[1;34m()\u001b[0m\n\u001b[1;32m----> 1\u001b[1;33m \u001b[0mwine_data\u001b[0m\u001b[1;33m[\u001b[0m\u001b[1;34m'alcohol'\u001b[0m\u001b[1;33m>\u001b[0m\u001b[1;36m9\u001b[0m\u001b[1;33m]\u001b[0m\u001b[1;33m\u001b[0m\u001b[0m\n\u001b[0m",
      "\u001b[1;32mC:\\Users\\Jongbin\\Anaconda\\lib\\site-packages\\pandas\\core\\frame.pyc\u001b[0m in \u001b[0;36m__getitem__\u001b[1;34m(self, key)\u001b[0m\n\u001b[0;32m   1676\u001b[0m             \u001b[1;32mreturn\u001b[0m \u001b[0mself\u001b[0m\u001b[1;33m.\u001b[0m\u001b[0m_getitem_multilevel\u001b[0m\u001b[1;33m(\u001b[0m\u001b[0mkey\u001b[0m\u001b[1;33m)\u001b[0m\u001b[1;33m\u001b[0m\u001b[0m\n\u001b[0;32m   1677\u001b[0m         \u001b[1;32melse\u001b[0m\u001b[1;33m:\u001b[0m\u001b[1;33m\u001b[0m\u001b[0m\n\u001b[1;32m-> 1678\u001b[1;33m             \u001b[1;32mreturn\u001b[0m \u001b[0mself\u001b[0m\u001b[1;33m.\u001b[0m\u001b[0m_getitem_column\u001b[0m\u001b[1;33m(\u001b[0m\u001b[0mkey\u001b[0m\u001b[1;33m)\u001b[0m\u001b[1;33m\u001b[0m\u001b[0m\n\u001b[0m\u001b[0;32m   1679\u001b[0m \u001b[1;33m\u001b[0m\u001b[0m\n\u001b[0;32m   1680\u001b[0m     \u001b[1;32mdef\u001b[0m \u001b[0m_getitem_column\u001b[0m\u001b[1;33m(\u001b[0m\u001b[0mself\u001b[0m\u001b[1;33m,\u001b[0m \u001b[0mkey\u001b[0m\u001b[1;33m)\u001b[0m\u001b[1;33m:\u001b[0m\u001b[1;33m\u001b[0m\u001b[0m\n",
      "\u001b[1;32mC:\\Users\\Jongbin\\Anaconda\\lib\\site-packages\\pandas\\core\\frame.pyc\u001b[0m in \u001b[0;36m_getitem_column\u001b[1;34m(self, key)\u001b[0m\n\u001b[0;32m   1683\u001b[0m         \u001b[1;31m# get column\u001b[0m\u001b[1;33m\u001b[0m\u001b[1;33m\u001b[0m\u001b[0m\n\u001b[0;32m   1684\u001b[0m         \u001b[1;32mif\u001b[0m \u001b[0mself\u001b[0m\u001b[1;33m.\u001b[0m\u001b[0mcolumns\u001b[0m\u001b[1;33m.\u001b[0m\u001b[0mis_unique\u001b[0m\u001b[1;33m:\u001b[0m\u001b[1;33m\u001b[0m\u001b[0m\n\u001b[1;32m-> 1685\u001b[1;33m             \u001b[1;32mreturn\u001b[0m \u001b[0mself\u001b[0m\u001b[1;33m.\u001b[0m\u001b[0m_get_item_cache\u001b[0m\u001b[1;33m(\u001b[0m\u001b[0mkey\u001b[0m\u001b[1;33m)\u001b[0m\u001b[1;33m\u001b[0m\u001b[0m\n\u001b[0m\u001b[0;32m   1686\u001b[0m \u001b[1;33m\u001b[0m\u001b[0m\n\u001b[0;32m   1687\u001b[0m         \u001b[1;31m# duplicate columns & possible reduce dimensionaility\u001b[0m\u001b[1;33m\u001b[0m\u001b[1;33m\u001b[0m\u001b[0m\n",
      "\u001b[1;32mC:\\Users\\Jongbin\\Anaconda\\lib\\site-packages\\pandas\\core\\generic.pyc\u001b[0m in \u001b[0;36m_get_item_cache\u001b[1;34m(self, item)\u001b[0m\n\u001b[0;32m   1050\u001b[0m         \u001b[0mres\u001b[0m \u001b[1;33m=\u001b[0m \u001b[0mcache\u001b[0m\u001b[1;33m.\u001b[0m\u001b[0mget\u001b[0m\u001b[1;33m(\u001b[0m\u001b[0mitem\u001b[0m\u001b[1;33m)\u001b[0m\u001b[1;33m\u001b[0m\u001b[0m\n\u001b[0;32m   1051\u001b[0m         \u001b[1;32mif\u001b[0m \u001b[0mres\u001b[0m \u001b[1;32mis\u001b[0m \u001b[0mNone\u001b[0m\u001b[1;33m:\u001b[0m\u001b[1;33m\u001b[0m\u001b[0m\n\u001b[1;32m-> 1052\u001b[1;33m             \u001b[0mvalues\u001b[0m \u001b[1;33m=\u001b[0m \u001b[0mself\u001b[0m\u001b[1;33m.\u001b[0m\u001b[0m_data\u001b[0m\u001b[1;33m.\u001b[0m\u001b[0mget\u001b[0m\u001b[1;33m(\u001b[0m\u001b[0mitem\u001b[0m\u001b[1;33m)\u001b[0m\u001b[1;33m\u001b[0m\u001b[0m\n\u001b[0m\u001b[0;32m   1053\u001b[0m             \u001b[0mres\u001b[0m \u001b[1;33m=\u001b[0m \u001b[0mself\u001b[0m\u001b[1;33m.\u001b[0m\u001b[0m_box_item_values\u001b[0m\u001b[1;33m(\u001b[0m\u001b[0mitem\u001b[0m\u001b[1;33m,\u001b[0m \u001b[0mvalues\u001b[0m\u001b[1;33m)\u001b[0m\u001b[1;33m\u001b[0m\u001b[0m\n\u001b[0;32m   1054\u001b[0m             \u001b[0mcache\u001b[0m\u001b[1;33m[\u001b[0m\u001b[0mitem\u001b[0m\u001b[1;33m]\u001b[0m \u001b[1;33m=\u001b[0m \u001b[0mres\u001b[0m\u001b[1;33m\u001b[0m\u001b[0m\n",
      "\u001b[1;32mC:\\Users\\Jongbin\\Anaconda\\lib\\site-packages\\pandas\\core\\internals.pyc\u001b[0m in \u001b[0;36mget\u001b[1;34m(self, item, fastpath)\u001b[0m\n\u001b[0;32m   2563\u001b[0m \u001b[1;33m\u001b[0m\u001b[0m\n\u001b[0;32m   2564\u001b[0m             \u001b[1;32mif\u001b[0m \u001b[1;32mnot\u001b[0m \u001b[0misnull\u001b[0m\u001b[1;33m(\u001b[0m\u001b[0mitem\u001b[0m\u001b[1;33m)\u001b[0m\u001b[1;33m:\u001b[0m\u001b[1;33m\u001b[0m\u001b[0m\n\u001b[1;32m-> 2565\u001b[1;33m                 \u001b[0mloc\u001b[0m \u001b[1;33m=\u001b[0m \u001b[0mself\u001b[0m\u001b[1;33m.\u001b[0m\u001b[0mitems\u001b[0m\u001b[1;33m.\u001b[0m\u001b[0mget_loc\u001b[0m\u001b[1;33m(\u001b[0m\u001b[0mitem\u001b[0m\u001b[1;33m)\u001b[0m\u001b[1;33m\u001b[0m\u001b[0m\n\u001b[0m\u001b[0;32m   2566\u001b[0m             \u001b[1;32melse\u001b[0m\u001b[1;33m:\u001b[0m\u001b[1;33m\u001b[0m\u001b[0m\n\u001b[0;32m   2567\u001b[0m                 \u001b[0mindexer\u001b[0m \u001b[1;33m=\u001b[0m \u001b[0mnp\u001b[0m\u001b[1;33m.\u001b[0m\u001b[0marange\u001b[0m\u001b[1;33m(\u001b[0m\u001b[0mlen\u001b[0m\u001b[1;33m(\u001b[0m\u001b[0mself\u001b[0m\u001b[1;33m.\u001b[0m\u001b[0mitems\u001b[0m\u001b[1;33m)\u001b[0m\u001b[1;33m)\u001b[0m\u001b[1;33m[\u001b[0m\u001b[0misnull\u001b[0m\u001b[1;33m(\u001b[0m\u001b[0mself\u001b[0m\u001b[1;33m.\u001b[0m\u001b[0mitems\u001b[0m\u001b[1;33m)\u001b[0m\u001b[1;33m]\u001b[0m\u001b[1;33m\u001b[0m\u001b[0m\n",
      "\u001b[1;32mC:\\Users\\Jongbin\\Anaconda\\lib\\site-packages\\pandas\\core\\index.pyc\u001b[0m in \u001b[0;36mget_loc\u001b[1;34m(self, key)\u001b[0m\n\u001b[0;32m   1179\u001b[0m         \u001b[0mloc\u001b[0m \u001b[1;33m:\u001b[0m \u001b[0mint\u001b[0m \u001b[1;32mif\u001b[0m \u001b[0munique\u001b[0m \u001b[0mindex\u001b[0m\u001b[1;33m,\u001b[0m \u001b[0mpossibly\u001b[0m \u001b[0mslice\u001b[0m \u001b[1;32mor\u001b[0m \u001b[0mmask\u001b[0m \u001b[1;32mif\u001b[0m \u001b[1;32mnot\u001b[0m\u001b[1;33m\u001b[0m\u001b[0m\n\u001b[0;32m   1180\u001b[0m         \"\"\"\n\u001b[1;32m-> 1181\u001b[1;33m         \u001b[1;32mreturn\u001b[0m \u001b[0mself\u001b[0m\u001b[1;33m.\u001b[0m\u001b[0m_engine\u001b[0m\u001b[1;33m.\u001b[0m\u001b[0mget_loc\u001b[0m\u001b[1;33m(\u001b[0m\u001b[0m_values_from_object\u001b[0m\u001b[1;33m(\u001b[0m\u001b[0mkey\u001b[0m\u001b[1;33m)\u001b[0m\u001b[1;33m)\u001b[0m\u001b[1;33m\u001b[0m\u001b[0m\n\u001b[0m\u001b[0;32m   1182\u001b[0m \u001b[1;33m\u001b[0m\u001b[0m\n\u001b[0;32m   1183\u001b[0m     \u001b[1;32mdef\u001b[0m \u001b[0mget_value\u001b[0m\u001b[1;33m(\u001b[0m\u001b[0mself\u001b[0m\u001b[1;33m,\u001b[0m \u001b[0mseries\u001b[0m\u001b[1;33m,\u001b[0m \u001b[0mkey\u001b[0m\u001b[1;33m)\u001b[0m\u001b[1;33m:\u001b[0m\u001b[1;33m\u001b[0m\u001b[0m\n",
      "\u001b[1;32mindex.pyx\u001b[0m in \u001b[0;36mpandas.index.IndexEngine.get_loc (pandas\\index.c:3656)\u001b[1;34m()\u001b[0m\n",
      "\u001b[1;32mindex.pyx\u001b[0m in \u001b[0;36mpandas.index.IndexEngine.get_loc (pandas\\index.c:3534)\u001b[1;34m()\u001b[0m\n",
      "\u001b[1;32mhashtable.pyx\u001b[0m in \u001b[0;36mpandas.hashtable.PyObjectHashTable.get_item (pandas\\hashtable.c:11911)\u001b[1;34m()\u001b[0m\n",
      "\u001b[1;32mhashtable.pyx\u001b[0m in \u001b[0;36mpandas.hashtable.PyObjectHashTable.get_item (pandas\\hashtable.c:11864)\u001b[1;34m()\u001b[0m\n",
      "\u001b[1;31mKeyError\u001b[0m: True"
     ]
    }
   ],
   "source": []
  },
  {
   "cell_type": "code",
   "execution_count": null,
   "metadata": {
    "collapsed": true
   },
   "outputs": [],
   "source": []
  },
  {
   "cell_type": "code",
   "execution_count": null,
   "metadata": {
    "collapsed": true
   },
   "outputs": [],
   "source": []
  },
  {
   "cell_type": "code",
   "execution_count": null,
   "metadata": {
    "collapsed": true
   },
   "outputs": [],
   "source": []
  },
  {
   "cell_type": "code",
   "execution_count": null,
   "metadata": {
    "collapsed": true
   },
   "outputs": [],
   "source": []
  },
  {
   "cell_type": "code",
   "execution_count": null,
   "metadata": {
    "collapsed": true
   },
   "outputs": [],
   "source": []
  }
 ],
 "metadata": {
  "kernelspec": {
   "display_name": "Python 2",
   "language": "python",
   "name": "python2"
  },
  "language_info": {
   "codemirror_mode": {
    "name": "ipython",
    "version": 2
   },
   "file_extension": ".py",
   "mimetype": "text/x-python",
   "name": "python",
   "nbconvert_exporter": "python",
   "pygments_lexer": "ipython2",
   "version": "2.7.8"
  }
 },
 "nbformat": 4,
 "nbformat_minor": 0
}
