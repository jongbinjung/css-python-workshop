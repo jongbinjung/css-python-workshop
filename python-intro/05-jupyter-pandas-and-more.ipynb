{
 "cells": [
  {
   "cell_type": "markdown",
   "metadata": {
    "slideshow": {
     "slide_type": "slide"
    }
   },
   "source": [
    "# 2015 Computational Social Science Workshop\n"
   ]
  },
  {
   "cell_type": "markdown",
   "metadata": {
    "slideshow": {
     "slide_type": "-"
    }
   },
   "source": [
    "# Day 1 - Introduction to `python` - Part 3 / 3\n",
    "with **Jongbin Jung** (jongbin at stanford.edu)\n",
    "- PhD student. Decision analysis, MS&E\n",
    "\n",
    "\n",
    "All material for days 1 (intro to `python`) and 2 (web scraping with `python`) publicly available at https://github.com/jongbinjung/css-python-workshop"
   ]
  },
  {
   "cell_type": "markdown",
   "metadata": {},
   "source": [
    "## 3. Jupyter (aka iPython Notebook)\n",
    "- web-based interface to `iPython` (an 'interactive' version of `python`)\n",
    "- fully functional (anything you can do in `python`, you can do in an Jupyter)\n",
    "- your entire project in the form of a blog post"
   ]
  },
  {
   "cell_type": "markdown",
   "metadata": {},
   "source": [
    "### Launching Jupyter\n",
    "- #### launch the `launcher`\n",
    " - **Windows**\n",
    "   - <kbd>Win</kbd> + <kbd>r</kbd>, type `launcher` and hit <kbd>OK</kbd> (or <kbd>Enter</kbd>)\n",
    "  <img src=img/ss_win_run_launcher.png alt=\"Run command on Windows\" width=300>\n",
    " - **OS X / \\*nix**\n",
    "   - Open a terminal\n",
    "   - type `launcher` and hit <kbd>Enter</kbd>\n",
    "  <img src=img/ss_osx_term_launcher.png alt=\"Run launcher from a terminal\">\n",
    " \n",
    "<img src=img/ss_launcher.png alt=\"Anaconda launcher\" width=600>\n",
    "\n",
    "- hit <kbd>Launch</kbd> for `ipython-notebook`\n",
    "- Jupyter will launch in your default browser, with the `$HOME` directory open\n",
    "- you can browse the file system, create folders, and create notebooks\n",
    "- create a new `python` notebook in the location of your choice, and open!\n",
    "<img src=img/ss_jupyter.png alt=\"Jupyter open in a browser\" width=600>"
   ]
  },
  {
   "cell_type": "markdown",
   "metadata": {
    "slideshow": {
     "slide_type": "slide"
    }
   },
   "source": [
    "### Basic stuff\n",
    "- an iPython Notebook has two type of \"cells\"\n",
    " - `Code` cell: write and execute `python` code\n",
    " - `Markdown` cell: write notes (in `Markdown` with $\\LaTeX$ support)\n",
    "- the notes/slides for today's workshop are all iPython Notebooks!\n",
    "- you can be in one of two *modes*\n",
    " - `command` mode: browse through the notebook (using <kbd>UP</kbd> and <kbd>DOWN</kbd> arrows), indicated by grey cell borders\n",
    " - `edit` mode: actually write stuff to the cell, indicated by green cell borders\n",
    "- hit <kbd>Enter</kbd> to enable `edit` mode, and <kbd>ESC</kbd> to enable `command` mode\n",
    "- in any mode, hit <kbd>Ctrl</kbd>+<kbd>Enter</kbd> to run/compile the selected cell\n",
    "- checkout __Help > Keyboard Shortcuts__ for more useful shortcuts\n",
    "<img src=img/ss_jupyter_shortcuts.png alt='shortcuts' width=600>"
   ]
  },
  {
   "cell_type": "markdown",
   "metadata": {},
   "source": [
    "Let's make a `code` cell and write some `python` code!"
   ]
  },
  {
   "cell_type": "code",
   "execution_count": 1,
   "metadata": {
    "collapsed": false,
    "slideshow": {
     "slide_type": "slide"
    }
   },
   "outputs": [
    {
     "name": "stdout",
     "output_type": "stream",
     "text": [
      "THIS IS PYTHON IN A WEB BROWSER!\n"
     ]
    }
   ],
   "source": [
    "print 'This is python in a web browser!'.upper()"
   ]
  },
  {
   "cell_type": "markdown",
   "metadata": {
    "slideshow": {
     "slide_type": "fragment"
    }
   },
   "source": [
    "Even though Jupyter is running in your web browser, the `python` functionality is backed up by a full-blown `python` interpreter running in the background (aka the 'kernel'). This mean the `python` code you run on Jupyter is *the real thing*, not a limited look-alike!"
   ]
  },
  {
   "cell_type": "markdown",
   "metadata": {},
   "source": [
    "You can write your notes, documentation, etc. in a Markdown cell. This cell uses the popular Markdown formatting and simple $\\LaTeX$, backed by [MathJax](https://www.mathjax.org/).\n",
    "\n",
    "Some simple markdown syntax:\n",
    "```markdown\n",
    "# this is a header (level 1)\n",
    "## this is another header (level 2)\n",
    "### keep adding hashes to make deeper headers ...\n",
    "\n",
    "1. this is a numbered list\n",
    "1. this will be number two (the '1.' just indicates it's part of a numbered list)\n",
    "\n",
    "[links](some.link.address) are created like this! (the link address in parentheses will be hidden)\n",
    "\n",
    "- this is a bullet list\n",
    " - this is a nested bullet list\n",
    "  - you can keep nesting lists with indents\n",
    "   1. you can also nest numbered lists in bullet lists\n",
    "     - and vice versa\n",
    "```\n",
    "The above `Markdown` code will render in a Markdown cell as:"
   ]
  },
  {
   "cell_type": "markdown",
   "metadata": {},
   "source": [
    "# this is a header (level 1)\n",
    "## this is another header (level 2)\n",
    "### keep adding hashes to make deeper headers ...\n",
    "\n",
    "1. this is a numbered list\n",
    "1. this will be number two (the '1.' just indicates it's part of a numbered list)\n",
    "\n",
    "[links](some.link.address) are created like this! (the link address in parentheses will be hidden)\n",
    "\n",
    "- this is a bullet list\n",
    " - this is a nested bullet list\n",
    "  - you can keep nesting lists with indents\n",
    "   1. you can also nest numbered lists in bullet lists\n",
    "     - and vice versa"
   ]
  },
  {
   "cell_type": "markdown",
   "metadata": {},
   "source": [
    "$\\LaTeX$ expressions can be inserted inline between single dollar signs (\\$...\\$), and in a separate block with double-dollar signs (\\$\\$...\\$\\$)"
   ]
  },
  {
   "cell_type": "markdown",
   "metadata": {},
   "source": [
    "This should be enough to get you going with Jupyter, but I highly recommend that you spend some time in the `Help` menu to learn more about what Jupyter can do for you!"
   ]
  },
  {
   "cell_type": "markdown",
   "metadata": {
    "collapsed": false
   },
   "source": [
    "## `pandas`\n",
    "- `pandas` is a `python` library that helps you deal with data\n",
    "- normally, you'd have to install `pandas`, but [Anaconda](https://store.continuum.io/cshop/anaconda/) comes with `pandas` pre-installed, so all you have to do is `import` it in `python`"
   ]
  },
  {
   "cell_type": "code",
   "execution_count": 4,
   "metadata": {
    "collapsed": true
   },
   "outputs": [],
   "source": [
    "import pandas"
   ]
  },
  {
   "cell_type": "markdown",
   "metadata": {},
   "source": [
    "### Bring data into `python` with `pandas`\n",
    "Let's go ahead and load some data.\n",
    "There are a series of `read_*` methods (e.g., `read_excel`) in `pandas`. Usually, you can start reading data by giving the `read_*` method an appropriate file path. For example, if there is a `csv` file named `data.csv` in the same directory as your notebook, you can read it like\n",
    "```python\n",
    "panda.read_csv('./data.csv')\n",
    "```\n",
    "Today, we'll play with the [wine quality dataset][wine_quality] from the UCI machine learning database. You can either download it to your machine from [here][wine_quality], or use the URL (http://archive.ics.uci.edu/ml/machine-learning-databases/wine-quality/winequality-red.csv) directly in the `read_csv()` method to have `pandas` load it from the source.\n",
    "\n",
    "[wine_quality]: http://archive.ics.uci.edu/ml/machine-learning-databases/wine-quality/winequality-red.csv"
   ]
  },
  {
   "cell_type": "code",
   "execution_count": 5,
   "metadata": {
    "collapsed": false
   },
   "outputs": [
    {
     "data": {
      "text/html": [
       "<div style=\"max-height:1000px;max-width:1500px;overflow:auto;\">\n",
       "<table border=\"1\" class=\"dataframe\">\n",
       "  <thead>\n",
       "    <tr style=\"text-align: right;\">\n",
       "      <th></th>\n",
       "      <th>fixed acidity;\"volatile acidity\";\"citric acid\";\"residual sugar\";\"chlorides\";\"free sulfur dioxide\";\"total sulfur dioxide\";\"density\";\"pH\";\"sulphates\";\"alcohol\";\"quality\"</th>\n",
       "    </tr>\n",
       "  </thead>\n",
       "  <tbody>\n",
       "    <tr>\n",
       "      <th>0</th>\n",
       "      <td>  7.4;0.7;0;1.9;0.076;11;34;0.9978;3.51;0.56;9.4;5</td>\n",
       "    </tr>\n",
       "    <tr>\n",
       "      <th>1</th>\n",
       "      <td>  7.8;0.88;0;2.6;0.098;25;67;0.9968;3.2;0.68;9.8;5</td>\n",
       "    </tr>\n",
       "    <tr>\n",
       "      <th>2</th>\n",
       "      <td> 7.8;0.76;0.04;2.3;0.092;15;54;0.997;3.26;0.65;...</td>\n",
       "    </tr>\n",
       "    <tr>\n",
       "      <th>3</th>\n",
       "      <td> 11.2;0.28;0.56;1.9;0.075;17;60;0.998;3.16;0.58...</td>\n",
       "    </tr>\n",
       "    <tr>\n",
       "      <th>4</th>\n",
       "      <td>  7.4;0.7;0;1.9;0.076;11;34;0.9978;3.51;0.56;9.4;5</td>\n",
       "    </tr>\n",
       "  </tbody>\n",
       "</table>\n",
       "</div>"
      ],
      "text/plain": [
       "  fixed acidity;\"volatile acidity\";\"citric acid\";\"residual sugar\";\"chlorides\";\"free sulfur dioxide\";\"total sulfur dioxide\";\"density\";\"pH\";\"sulphates\";\"alcohol\";\"quality\"\n",
       "0   7.4;0.7;0;1.9;0.076;11;34;0.9978;3.51;0.56;9.4;5                                                                                                                     \n",
       "1   7.8;0.88;0;2.6;0.098;25;67;0.9968;3.2;0.68;9.8;5                                                                                                                     \n",
       "2  7.8;0.76;0.04;2.3;0.092;15;54;0.997;3.26;0.65;...                                                                                                                     \n",
       "3  11.2;0.28;0.56;1.9;0.075;17;60;0.998;3.16;0.58...                                                                                                                     \n",
       "4   7.4;0.7;0;1.9;0.076;11;34;0.9978;3.51;0.56;9.4;5                                                                                                                     "
      ]
     },
     "execution_count": 5,
     "metadata": {},
     "output_type": "execute_result"
    }
   ],
   "source": [
    "data_src = 'http://archive.ics.uci.edu/ml/machine-learning-databases/wine-quality/winequality-red.csv'\n",
    "wine_data = pandas.read_csv(data_src)\n",
    "wine_data.head()"
   ]
  },
  {
   "cell_type": "markdown",
   "metadata": {},
   "source": [
    "The first line above saves the address to the data in a variable we name `data_src`. We can also write the link directly in the `read_csv` call, i.e.,\n",
    "```python\n",
    "pandas.read_csv('http://archive.ics.uci.edu/ml/machine-learning-databases/wine-quality/winequality-red.csv')\n",
    "```\n",
    "but saving the address in a separate string is generally good practice (and will make your life easier if you decide to change that address some day).\n",
    "\n",
    "The second line loads the data into a variable we named `wine_data`. \n",
    "The third line tells `pandas` to print the first couple lines (`head`) of `wine_data`."
   ]
  },
  {
   "cell_type": "markdown",
   "metadata": {},
   "source": [
    "Notice from the output above that the data seems to be chunked into a single column. This is probably because we used `read_csv`, which expects the data to be separated by commas(,) - hence the name **c**omma **s**eparated **v**alues- but the data (if you look carefully) is actually separated by semi-colons(;).\n",
    "Instead of bloating the library with a `read_semi_colon_separated_value` method, the `read_csv` method in `pandas` let's you specify what the separating charater is, if not the expected comma. The syntax for that looks like\n",
    "```python\n",
    "pandas.read_csv(path_to_data, sep=';')\n",
    "```\n",
    "(`read_csv` actually has a whole lot more options. Read the docs with <kbd>Shift</kbd>+<kbd>Tab</kbd> - a nice feature of Jupyter)"
   ]
  },
  {
   "cell_type": "code",
   "execution_count": 6,
   "metadata": {
    "collapsed": false
   },
   "outputs": [
    {
     "data": {
      "text/html": [
       "<div style=\"max-height:1000px;max-width:1500px;overflow:auto;\">\n",
       "<table border=\"1\" class=\"dataframe\">\n",
       "  <thead>\n",
       "    <tr style=\"text-align: right;\">\n",
       "      <th></th>\n",
       "      <th>fixed acidity</th>\n",
       "      <th>volatile acidity</th>\n",
       "      <th>citric acid</th>\n",
       "      <th>residual sugar</th>\n",
       "      <th>chlorides</th>\n",
       "      <th>free sulfur dioxide</th>\n",
       "      <th>total sulfur dioxide</th>\n",
       "      <th>density</th>\n",
       "      <th>pH</th>\n",
       "      <th>sulphates</th>\n",
       "      <th>alcohol</th>\n",
       "      <th>quality</th>\n",
       "    </tr>\n",
       "  </thead>\n",
       "  <tbody>\n",
       "    <tr>\n",
       "      <th>0</th>\n",
       "      <td>  7.4</td>\n",
       "      <td> 0.70</td>\n",
       "      <td> 0.00</td>\n",
       "      <td> 1.9</td>\n",
       "      <td> 0.076</td>\n",
       "      <td> 11</td>\n",
       "      <td> 34</td>\n",
       "      <td> 0.9978</td>\n",
       "      <td> 3.51</td>\n",
       "      <td> 0.56</td>\n",
       "      <td> 9.4</td>\n",
       "      <td> 5</td>\n",
       "    </tr>\n",
       "    <tr>\n",
       "      <th>1</th>\n",
       "      <td>  7.8</td>\n",
       "      <td> 0.88</td>\n",
       "      <td> 0.00</td>\n",
       "      <td> 2.6</td>\n",
       "      <td> 0.098</td>\n",
       "      <td> 25</td>\n",
       "      <td> 67</td>\n",
       "      <td> 0.9968</td>\n",
       "      <td> 3.20</td>\n",
       "      <td> 0.68</td>\n",
       "      <td> 9.8</td>\n",
       "      <td> 5</td>\n",
       "    </tr>\n",
       "    <tr>\n",
       "      <th>2</th>\n",
       "      <td>  7.8</td>\n",
       "      <td> 0.76</td>\n",
       "      <td> 0.04</td>\n",
       "      <td> 2.3</td>\n",
       "      <td> 0.092</td>\n",
       "      <td> 15</td>\n",
       "      <td> 54</td>\n",
       "      <td> 0.9970</td>\n",
       "      <td> 3.26</td>\n",
       "      <td> 0.65</td>\n",
       "      <td> 9.8</td>\n",
       "      <td> 5</td>\n",
       "    </tr>\n",
       "    <tr>\n",
       "      <th>3</th>\n",
       "      <td> 11.2</td>\n",
       "      <td> 0.28</td>\n",
       "      <td> 0.56</td>\n",
       "      <td> 1.9</td>\n",
       "      <td> 0.075</td>\n",
       "      <td> 17</td>\n",
       "      <td> 60</td>\n",
       "      <td> 0.9980</td>\n",
       "      <td> 3.16</td>\n",
       "      <td> 0.58</td>\n",
       "      <td> 9.8</td>\n",
       "      <td> 6</td>\n",
       "    </tr>\n",
       "    <tr>\n",
       "      <th>4</th>\n",
       "      <td>  7.4</td>\n",
       "      <td> 0.70</td>\n",
       "      <td> 0.00</td>\n",
       "      <td> 1.9</td>\n",
       "      <td> 0.076</td>\n",
       "      <td> 11</td>\n",
       "      <td> 34</td>\n",
       "      <td> 0.9978</td>\n",
       "      <td> 3.51</td>\n",
       "      <td> 0.56</td>\n",
       "      <td> 9.4</td>\n",
       "      <td> 5</td>\n",
       "    </tr>\n",
       "  </tbody>\n",
       "</table>\n",
       "</div>"
      ],
      "text/plain": [
       "   fixed acidity  volatile acidity  citric acid  residual sugar  chlorides  \\\n",
       "0            7.4              0.70         0.00             1.9      0.076   \n",
       "1            7.8              0.88         0.00             2.6      0.098   \n",
       "2            7.8              0.76         0.04             2.3      0.092   \n",
       "3           11.2              0.28         0.56             1.9      0.075   \n",
       "4            7.4              0.70         0.00             1.9      0.076   \n",
       "\n",
       "   free sulfur dioxide  total sulfur dioxide  density    pH  sulphates  \\\n",
       "0                   11                    34   0.9978  3.51       0.56   \n",
       "1                   25                    67   0.9968  3.20       0.68   \n",
       "2                   15                    54   0.9970  3.26       0.65   \n",
       "3                   17                    60   0.9980  3.16       0.58   \n",
       "4                   11                    34   0.9978  3.51       0.56   \n",
       "\n",
       "   alcohol  quality  \n",
       "0      9.4        5  \n",
       "1      9.8        5  \n",
       "2      9.8        5  \n",
       "3      9.8        6  \n",
       "4      9.4        5  "
      ]
     },
     "execution_count": 6,
     "metadata": {},
     "output_type": "execute_result"
    }
   ],
   "source": [
    "wine_data = pandas.read_csv(data_src, sep=';')\n",
    "wine_data.head()"
   ]
  },
  {
   "cell_type": "markdown",
   "metadata": {},
   "source": [
    "That looks much better. Now that we've loaded a proper `pandas` [`DataFrame`](http://pandas.pydata.org/pandas-docs/stable/generated/pandas.DataFrame.html#pandas.DataFrame) we can use methods provided with `pandas` to take a closer look at things. We've already seen `head()`, but we can also see `tail()`. "
   ]
  },
  {
   "cell_type": "code",
   "execution_count": 7,
   "metadata": {
    "collapsed": false,
    "scrolled": false
   },
   "outputs": [
    {
     "data": {
      "text/html": [
       "<div style=\"max-height:1000px;max-width:1500px;overflow:auto;\">\n",
       "<table border=\"1\" class=\"dataframe\">\n",
       "  <thead>\n",
       "    <tr style=\"text-align: right;\">\n",
       "      <th></th>\n",
       "      <th>fixed acidity</th>\n",
       "      <th>volatile acidity</th>\n",
       "      <th>citric acid</th>\n",
       "      <th>residual sugar</th>\n",
       "      <th>chlorides</th>\n",
       "      <th>free sulfur dioxide</th>\n",
       "      <th>total sulfur dioxide</th>\n",
       "      <th>density</th>\n",
       "      <th>pH</th>\n",
       "      <th>sulphates</th>\n",
       "      <th>alcohol</th>\n",
       "      <th>quality</th>\n",
       "    </tr>\n",
       "  </thead>\n",
       "  <tbody>\n",
       "    <tr>\n",
       "      <th>1594</th>\n",
       "      <td> 6.2</td>\n",
       "      <td> 0.600</td>\n",
       "      <td> 0.08</td>\n",
       "      <td> 2.0</td>\n",
       "      <td> 0.090</td>\n",
       "      <td> 32</td>\n",
       "      <td> 44</td>\n",
       "      <td> 0.99490</td>\n",
       "      <td> 3.45</td>\n",
       "      <td> 0.58</td>\n",
       "      <td> 10.5</td>\n",
       "      <td> 5</td>\n",
       "    </tr>\n",
       "    <tr>\n",
       "      <th>1595</th>\n",
       "      <td> 5.9</td>\n",
       "      <td> 0.550</td>\n",
       "      <td> 0.10</td>\n",
       "      <td> 2.2</td>\n",
       "      <td> 0.062</td>\n",
       "      <td> 39</td>\n",
       "      <td> 51</td>\n",
       "      <td> 0.99512</td>\n",
       "      <td> 3.52</td>\n",
       "      <td> 0.76</td>\n",
       "      <td> 11.2</td>\n",
       "      <td> 6</td>\n",
       "    </tr>\n",
       "    <tr>\n",
       "      <th>1596</th>\n",
       "      <td> 6.3</td>\n",
       "      <td> 0.510</td>\n",
       "      <td> 0.13</td>\n",
       "      <td> 2.3</td>\n",
       "      <td> 0.076</td>\n",
       "      <td> 29</td>\n",
       "      <td> 40</td>\n",
       "      <td> 0.99574</td>\n",
       "      <td> 3.42</td>\n",
       "      <td> 0.75</td>\n",
       "      <td> 11.0</td>\n",
       "      <td> 6</td>\n",
       "    </tr>\n",
       "    <tr>\n",
       "      <th>1597</th>\n",
       "      <td> 5.9</td>\n",
       "      <td> 0.645</td>\n",
       "      <td> 0.12</td>\n",
       "      <td> 2.0</td>\n",
       "      <td> 0.075</td>\n",
       "      <td> 32</td>\n",
       "      <td> 44</td>\n",
       "      <td> 0.99547</td>\n",
       "      <td> 3.57</td>\n",
       "      <td> 0.71</td>\n",
       "      <td> 10.2</td>\n",
       "      <td> 5</td>\n",
       "    </tr>\n",
       "    <tr>\n",
       "      <th>1598</th>\n",
       "      <td> 6.0</td>\n",
       "      <td> 0.310</td>\n",
       "      <td> 0.47</td>\n",
       "      <td> 3.6</td>\n",
       "      <td> 0.067</td>\n",
       "      <td> 18</td>\n",
       "      <td> 42</td>\n",
       "      <td> 0.99549</td>\n",
       "      <td> 3.39</td>\n",
       "      <td> 0.66</td>\n",
       "      <td> 11.0</td>\n",
       "      <td> 6</td>\n",
       "    </tr>\n",
       "  </tbody>\n",
       "</table>\n",
       "</div>"
      ],
      "text/plain": [
       "      fixed acidity  volatile acidity  citric acid  residual sugar  chlorides  \\\n",
       "1594            6.2             0.600         0.08             2.0      0.090   \n",
       "1595            5.9             0.550         0.10             2.2      0.062   \n",
       "1596            6.3             0.510         0.13             2.3      0.076   \n",
       "1597            5.9             0.645         0.12             2.0      0.075   \n",
       "1598            6.0             0.310         0.47             3.6      0.067   \n",
       "\n",
       "      free sulfur dioxide  total sulfur dioxide  density    pH  sulphates  \\\n",
       "1594                   32                    44  0.99490  3.45       0.58   \n",
       "1595                   39                    51  0.99512  3.52       0.76   \n",
       "1596                   29                    40  0.99574  3.42       0.75   \n",
       "1597                   32                    44  0.99547  3.57       0.71   \n",
       "1598                   18                    42  0.99549  3.39       0.66   \n",
       "\n",
       "      alcohol  quality  \n",
       "1594     10.5        5  \n",
       "1595     11.2        6  \n",
       "1596     11.0        6  \n",
       "1597     10.2        5  \n",
       "1598     11.0        6  "
      ]
     },
     "execution_count": 7,
     "metadata": {},
     "output_type": "execute_result"
    }
   ],
   "source": [
    "wine_data.tail()"
   ]
  },
  {
   "cell_type": "markdown",
   "metadata": {},
   "source": [
    "Get a quick summary with `describe()`"
   ]
  },
  {
   "cell_type": "code",
   "execution_count": 8,
   "metadata": {
    "collapsed": false
   },
   "outputs": [
    {
     "data": {
      "text/html": [
       "<div style=\"max-height:1000px;max-width:1500px;overflow:auto;\">\n",
       "<table border=\"1\" class=\"dataframe\">\n",
       "  <thead>\n",
       "    <tr style=\"text-align: right;\">\n",
       "      <th></th>\n",
       "      <th>fixed acidity</th>\n",
       "      <th>volatile acidity</th>\n",
       "      <th>citric acid</th>\n",
       "      <th>residual sugar</th>\n",
       "      <th>chlorides</th>\n",
       "      <th>free sulfur dioxide</th>\n",
       "      <th>total sulfur dioxide</th>\n",
       "      <th>density</th>\n",
       "      <th>pH</th>\n",
       "      <th>sulphates</th>\n",
       "      <th>alcohol</th>\n",
       "      <th>quality</th>\n",
       "    </tr>\n",
       "  </thead>\n",
       "  <tbody>\n",
       "    <tr>\n",
       "      <th>count</th>\n",
       "      <td> 1599.000000</td>\n",
       "      <td> 1599.000000</td>\n",
       "      <td> 1599.000000</td>\n",
       "      <td> 1599.000000</td>\n",
       "      <td> 1599.000000</td>\n",
       "      <td> 1599.000000</td>\n",
       "      <td> 1599.000000</td>\n",
       "      <td> 1599.000000</td>\n",
       "      <td> 1599.000000</td>\n",
       "      <td> 1599.000000</td>\n",
       "      <td> 1599.000000</td>\n",
       "      <td> 1599.000000</td>\n",
       "    </tr>\n",
       "    <tr>\n",
       "      <th>mean</th>\n",
       "      <td>    8.319637</td>\n",
       "      <td>    0.527821</td>\n",
       "      <td>    0.270976</td>\n",
       "      <td>    2.538806</td>\n",
       "      <td>    0.087467</td>\n",
       "      <td>   15.874922</td>\n",
       "      <td>   46.467792</td>\n",
       "      <td>    0.996747</td>\n",
       "      <td>    3.311113</td>\n",
       "      <td>    0.658149</td>\n",
       "      <td>   10.422983</td>\n",
       "      <td>    5.636023</td>\n",
       "    </tr>\n",
       "    <tr>\n",
       "      <th>std</th>\n",
       "      <td>    1.741096</td>\n",
       "      <td>    0.179060</td>\n",
       "      <td>    0.194801</td>\n",
       "      <td>    1.409928</td>\n",
       "      <td>    0.047065</td>\n",
       "      <td>   10.460157</td>\n",
       "      <td>   32.895324</td>\n",
       "      <td>    0.001887</td>\n",
       "      <td>    0.154386</td>\n",
       "      <td>    0.169507</td>\n",
       "      <td>    1.065668</td>\n",
       "      <td>    0.807569</td>\n",
       "    </tr>\n",
       "    <tr>\n",
       "      <th>min</th>\n",
       "      <td>    4.600000</td>\n",
       "      <td>    0.120000</td>\n",
       "      <td>    0.000000</td>\n",
       "      <td>    0.900000</td>\n",
       "      <td>    0.012000</td>\n",
       "      <td>    1.000000</td>\n",
       "      <td>    6.000000</td>\n",
       "      <td>    0.990070</td>\n",
       "      <td>    2.740000</td>\n",
       "      <td>    0.330000</td>\n",
       "      <td>    8.400000</td>\n",
       "      <td>    3.000000</td>\n",
       "    </tr>\n",
       "    <tr>\n",
       "      <th>25%</th>\n",
       "      <td>    7.100000</td>\n",
       "      <td>    0.390000</td>\n",
       "      <td>    0.090000</td>\n",
       "      <td>    1.900000</td>\n",
       "      <td>    0.070000</td>\n",
       "      <td>    7.000000</td>\n",
       "      <td>   22.000000</td>\n",
       "      <td>    0.995600</td>\n",
       "      <td>    3.210000</td>\n",
       "      <td>    0.550000</td>\n",
       "      <td>    9.500000</td>\n",
       "      <td>    5.000000</td>\n",
       "    </tr>\n",
       "    <tr>\n",
       "      <th>50%</th>\n",
       "      <td>    7.900000</td>\n",
       "      <td>    0.520000</td>\n",
       "      <td>    0.260000</td>\n",
       "      <td>    2.200000</td>\n",
       "      <td>    0.079000</td>\n",
       "      <td>   14.000000</td>\n",
       "      <td>   38.000000</td>\n",
       "      <td>    0.996750</td>\n",
       "      <td>    3.310000</td>\n",
       "      <td>    0.620000</td>\n",
       "      <td>   10.200000</td>\n",
       "      <td>    6.000000</td>\n",
       "    </tr>\n",
       "    <tr>\n",
       "      <th>75%</th>\n",
       "      <td>    9.200000</td>\n",
       "      <td>    0.640000</td>\n",
       "      <td>    0.420000</td>\n",
       "      <td>    2.600000</td>\n",
       "      <td>    0.090000</td>\n",
       "      <td>   21.000000</td>\n",
       "      <td>   62.000000</td>\n",
       "      <td>    0.997835</td>\n",
       "      <td>    3.400000</td>\n",
       "      <td>    0.730000</td>\n",
       "      <td>   11.100000</td>\n",
       "      <td>    6.000000</td>\n",
       "    </tr>\n",
       "    <tr>\n",
       "      <th>max</th>\n",
       "      <td>   15.900000</td>\n",
       "      <td>    1.580000</td>\n",
       "      <td>    1.000000</td>\n",
       "      <td>   15.500000</td>\n",
       "      <td>    0.611000</td>\n",
       "      <td>   72.000000</td>\n",
       "      <td>  289.000000</td>\n",
       "      <td>    1.003690</td>\n",
       "      <td>    4.010000</td>\n",
       "      <td>    2.000000</td>\n",
       "      <td>   14.900000</td>\n",
       "      <td>    8.000000</td>\n",
       "    </tr>\n",
       "  </tbody>\n",
       "</table>\n",
       "</div>"
      ],
      "text/plain": [
       "       fixed acidity  volatile acidity  citric acid  residual sugar  \\\n",
       "count    1599.000000       1599.000000  1599.000000     1599.000000   \n",
       "mean        8.319637          0.527821     0.270976        2.538806   \n",
       "std         1.741096          0.179060     0.194801        1.409928   \n",
       "min         4.600000          0.120000     0.000000        0.900000   \n",
       "25%         7.100000          0.390000     0.090000        1.900000   \n",
       "50%         7.900000          0.520000     0.260000        2.200000   \n",
       "75%         9.200000          0.640000     0.420000        2.600000   \n",
       "max        15.900000          1.580000     1.000000       15.500000   \n",
       "\n",
       "         chlorides  free sulfur dioxide  total sulfur dioxide      density  \\\n",
       "count  1599.000000          1599.000000           1599.000000  1599.000000   \n",
       "mean      0.087467            15.874922             46.467792     0.996747   \n",
       "std       0.047065            10.460157             32.895324     0.001887   \n",
       "min       0.012000             1.000000              6.000000     0.990070   \n",
       "25%       0.070000             7.000000             22.000000     0.995600   \n",
       "50%       0.079000            14.000000             38.000000     0.996750   \n",
       "75%       0.090000            21.000000             62.000000     0.997835   \n",
       "max       0.611000            72.000000            289.000000     1.003690   \n",
       "\n",
       "                pH    sulphates      alcohol      quality  \n",
       "count  1599.000000  1599.000000  1599.000000  1599.000000  \n",
       "mean      3.311113     0.658149    10.422983     5.636023  \n",
       "std       0.154386     0.169507     1.065668     0.807569  \n",
       "min       2.740000     0.330000     8.400000     3.000000  \n",
       "25%       3.210000     0.550000     9.500000     5.000000  \n",
       "50%       3.310000     0.620000    10.200000     6.000000  \n",
       "75%       3.400000     0.730000    11.100000     6.000000  \n",
       "max       4.010000     2.000000    14.900000     8.000000  "
      ]
     },
     "execution_count": 8,
     "metadata": {},
     "output_type": "execute_result"
    }
   ],
   "source": [
    "wine_data.describe()"
   ]
  },
  {
   "cell_type": "markdown",
   "metadata": {},
   "source": [
    "Or take a look at the column names (more useful if you have a whole lot of columns):"
   ]
  },
  {
   "cell_type": "code",
   "execution_count": 9,
   "metadata": {
    "collapsed": false,
    "scrolled": true
   },
   "outputs": [
    {
     "name": "stdout",
     "output_type": "stream",
     "text": [
      "Index([u'fixed acidity', u'volatile acidity', u'citric acid', u'residual sugar', u'chlorides', u'free sulfur dioxide', u'total sulfur dioxide', u'density', u'pH', u'sulphates', u'alcohol', u'quality'], dtype='object')\n"
     ]
    }
   ],
   "source": [
    "cols = wine_data.columns\n",
    "print cols"
   ]
  },
  {
   "cell_type": "markdown",
   "metadata": {},
   "source": [
    "You probably notice that `columns` returned a list-like sequence. Hence, we can use the convenient `len()` function to count the number of columns in our data:"
   ]
  },
  {
   "cell_type": "code",
   "execution_count": 10,
   "metadata": {
    "collapsed": false
   },
   "outputs": [
    {
     "name": "stdout",
     "output_type": "stream",
     "text": [
      "12\n"
     ]
    }
   ],
   "source": [
    "print len(cols)  # the length of column names, i.e., number of columns"
   ]
  },
  {
   "cell_type": "markdown",
   "metadata": {},
   "source": [
    "### Manipulating data\n",
    "Most of your data manipulating needs can be categorized into the following five categories:\n",
    "1. **select**: select a subset of *rows* or *columns* according to certain conditions\n",
    "2. **transform**: add *new columns* to the data (usually as a function of existing columns)\n",
    "3. **sort**: reorder the rows of the data in a specific order\n",
    "4. **summarize**: aggregate values to representative *statistics* (sum, mean, median, etc.)"
   ]
  },
  {
   "cell_type": "markdown",
   "metadata": {},
   "source": [
    "#### 1. select\n",
    "Use the `loc[row_index, col_index]` attribute to select subsets of data. The `row/column_index` can be \n",
    "- a single label (e.g., 'quality')\n",
    "- a `list` or `array` of labels (e.g., ['density', 'pH', 'quality']\n",
    "- slice with **labels** (e.g., 'density':'quality', in this case the slice is *inclusive* on each end)\n",
    "- array of boolean conditions\n",
    "\n",
    "Put a single `:` as an index if you want all rows/columns. For example,\n",
    "```python\n",
    "wine_data.loc[:, 'quality']\n",
    "```\n",
    "will return the entire 'quality' column."
   ]
  },
  {
   "cell_type": "code",
   "execution_count": 12,
   "metadata": {
    "collapsed": false
   },
   "outputs": [
    {
     "data": {
      "text/plain": [
       "0    5\n",
       "1    5\n",
       "2    5\n",
       "3    6\n",
       "4    5\n",
       "5    5\n",
       "Name: quality, dtype: int64"
      ]
     },
     "execution_count": 12,
     "metadata": {},
     "output_type": "execute_result"
    }
   ],
   "source": [
    "wine_data.loc[0:5, 'quality']  # get rows 0:5 and column 'quality'"
   ]
  },
  {
   "cell_type": "code",
   "execution_count": 13,
   "metadata": {
    "collapsed": false
   },
   "outputs": [
    {
     "data": {
      "text/html": [
       "<div style=\"max-height:1000px;max-width:1500px;overflow:auto;\">\n",
       "<table border=\"1\" class=\"dataframe\">\n",
       "  <thead>\n",
       "    <tr style=\"text-align: right;\">\n",
       "      <th></th>\n",
       "      <th>density</th>\n",
       "      <th>quality</th>\n",
       "      <th>pH</th>\n",
       "    </tr>\n",
       "  </thead>\n",
       "  <tbody>\n",
       "    <tr>\n",
       "      <th>495</th>\n",
       "      <td> 0.9972</td>\n",
       "      <td> 8</td>\n",
       "      <td> 3.15</td>\n",
       "    </tr>\n",
       "    <tr>\n",
       "      <th>496</th>\n",
       "      <td> 0.9984</td>\n",
       "      <td> 6</td>\n",
       "      <td> 3.43</td>\n",
       "    </tr>\n",
       "    <tr>\n",
       "      <th>497</th>\n",
       "      <td> 0.9966</td>\n",
       "      <td> 5</td>\n",
       "      <td> 3.32</td>\n",
       "    </tr>\n",
       "    <tr>\n",
       "      <th>498</th>\n",
       "      <td> 0.9972</td>\n",
       "      <td> 8</td>\n",
       "      <td> 3.15</td>\n",
       "    </tr>\n",
       "    <tr>\n",
       "      <th>499</th>\n",
       "      <td> 1.0002</td>\n",
       "      <td> 6</td>\n",
       "      <td> 3.48</td>\n",
       "    </tr>\n",
       "    <tr>\n",
       "      <th>500</th>\n",
       "      <td> 0.9984</td>\n",
       "      <td> 6</td>\n",
       "      <td> 3.43</td>\n",
       "    </tr>\n",
       "  </tbody>\n",
       "</table>\n",
       "</div>"
      ],
      "text/plain": [
       "     density  quality    pH\n",
       "495   0.9972        8  3.15\n",
       "496   0.9984        6  3.43\n",
       "497   0.9966        5  3.32\n",
       "498   0.9972        8  3.15\n",
       "499   1.0002        6  3.48\n",
       "500   0.9984        6  3.43"
      ]
     },
     "execution_count": 13,
     "metadata": {},
     "output_type": "execute_result"
    }
   ],
   "source": [
    "wine_data.loc[ 495:500 , ['density', 'quality', 'pH'] ]  # get rows 495:500 and the three specified columns"
   ]
  },
  {
   "cell_type": "code",
   "execution_count": 14,
   "metadata": {
    "collapsed": false
   },
   "outputs": [
    {
     "data": {
      "text/html": [
       "<div style=\"max-height:1000px;max-width:1500px;overflow:auto;\">\n",
       "<table border=\"1\" class=\"dataframe\">\n",
       "  <thead>\n",
       "    <tr style=\"text-align: right;\">\n",
       "      <th></th>\n",
       "      <th>density</th>\n",
       "      <th>pH</th>\n",
       "      <th>sulphates</th>\n",
       "      <th>alcohol</th>\n",
       "      <th>quality</th>\n",
       "    </tr>\n",
       "  </thead>\n",
       "  <tbody>\n",
       "    <tr>\n",
       "      <th>495</th>\n",
       "      <td> 0.9972</td>\n",
       "      <td> 3.15</td>\n",
       "      <td> 0.65</td>\n",
       "      <td> 11.0</td>\n",
       "      <td> 8</td>\n",
       "    </tr>\n",
       "    <tr>\n",
       "      <th>496</th>\n",
       "      <td> 0.9984</td>\n",
       "      <td> 3.43</td>\n",
       "      <td> 0.65</td>\n",
       "      <td>  9.0</td>\n",
       "      <td> 6</td>\n",
       "    </tr>\n",
       "    <tr>\n",
       "      <th>497</th>\n",
       "      <td> 0.9966</td>\n",
       "      <td> 3.32</td>\n",
       "      <td> 0.79</td>\n",
       "      <td> 11.1</td>\n",
       "      <td> 5</td>\n",
       "    </tr>\n",
       "    <tr>\n",
       "      <th>498</th>\n",
       "      <td> 0.9972</td>\n",
       "      <td> 3.15</td>\n",
       "      <td> 0.65</td>\n",
       "      <td> 11.0</td>\n",
       "      <td> 8</td>\n",
       "    </tr>\n",
       "    <tr>\n",
       "      <th>499</th>\n",
       "      <td> 1.0002</td>\n",
       "      <td> 3.48</td>\n",
       "      <td> 0.74</td>\n",
       "      <td> 11.6</td>\n",
       "      <td> 6</td>\n",
       "    </tr>\n",
       "    <tr>\n",
       "      <th>500</th>\n",
       "      <td> 0.9984</td>\n",
       "      <td> 3.43</td>\n",
       "      <td> 0.65</td>\n",
       "      <td>  9.0</td>\n",
       "      <td> 6</td>\n",
       "    </tr>\n",
       "  </tbody>\n",
       "</table>\n",
       "</div>"
      ],
      "text/plain": [
       "     density    pH  sulphates  alcohol  quality\n",
       "495   0.9972  3.15       0.65     11.0        8\n",
       "496   0.9984  3.43       0.65      9.0        6\n",
       "497   0.9966  3.32       0.79     11.1        5\n",
       "498   0.9972  3.15       0.65     11.0        8\n",
       "499   1.0002  3.48       0.74     11.6        6\n",
       "500   0.9984  3.43       0.65      9.0        6"
      ]
     },
     "execution_count": 14,
     "metadata": {},
     "output_type": "execute_result"
    }
   ],
   "source": [
    "wine_data.loc[ 495:500, 'density':'quality' ]  # get rows 495:500 and all columns between 'density' and 'quality' (inclusive)"
   ]
  },
  {
   "cell_type": "code",
   "execution_count": 15,
   "metadata": {
    "collapsed": false
   },
   "outputs": [
    {
     "data": {
      "text/html": [
       "<div style=\"max-height:1000px;max-width:1500px;overflow:auto;\">\n",
       "<table border=\"1\" class=\"dataframe\">\n",
       "  <thead>\n",
       "    <tr style=\"text-align: right;\">\n",
       "      <th></th>\n",
       "      <th>fixed acidity</th>\n",
       "      <th>volatile acidity</th>\n",
       "      <th>citric acid</th>\n",
       "      <th>residual sugar</th>\n",
       "      <th>chlorides</th>\n",
       "      <th>free sulfur dioxide</th>\n",
       "      <th>total sulfur dioxide</th>\n",
       "      <th>density</th>\n",
       "      <th>pH</th>\n",
       "      <th>sulphates</th>\n",
       "      <th>alcohol</th>\n",
       "      <th>quality</th>\n",
       "    </tr>\n",
       "  </thead>\n",
       "  <tbody>\n",
       "    <tr>\n",
       "      <th>267</th>\n",
       "      <td>  7.9</td>\n",
       "      <td> 0.35</td>\n",
       "      <td> 0.46</td>\n",
       "      <td> 3.6</td>\n",
       "      <td> 0.078</td>\n",
       "      <td> 15</td>\n",
       "      <td> 37</td>\n",
       "      <td> 0.9973</td>\n",
       "      <td> 3.35</td>\n",
       "      <td> 0.86</td>\n",
       "      <td> 12.8</td>\n",
       "      <td> 8</td>\n",
       "    </tr>\n",
       "    <tr>\n",
       "      <th>278</th>\n",
       "      <td> 10.3</td>\n",
       "      <td> 0.32</td>\n",
       "      <td> 0.45</td>\n",
       "      <td> 6.4</td>\n",
       "      <td> 0.073</td>\n",
       "      <td>  5</td>\n",
       "      <td> 13</td>\n",
       "      <td> 0.9976</td>\n",
       "      <td> 3.23</td>\n",
       "      <td> 0.82</td>\n",
       "      <td> 12.6</td>\n",
       "      <td> 8</td>\n",
       "    </tr>\n",
       "    <tr>\n",
       "      <th>390</th>\n",
       "      <td>  5.6</td>\n",
       "      <td> 0.85</td>\n",
       "      <td> 0.05</td>\n",
       "      <td> 1.4</td>\n",
       "      <td> 0.045</td>\n",
       "      <td> 12</td>\n",
       "      <td> 88</td>\n",
       "      <td> 0.9924</td>\n",
       "      <td> 3.56</td>\n",
       "      <td> 0.82</td>\n",
       "      <td> 12.9</td>\n",
       "      <td> 8</td>\n",
       "    </tr>\n",
       "    <tr>\n",
       "      <th>440</th>\n",
       "      <td> 12.6</td>\n",
       "      <td> 0.31</td>\n",
       "      <td> 0.72</td>\n",
       "      <td> 2.2</td>\n",
       "      <td> 0.072</td>\n",
       "      <td>  6</td>\n",
       "      <td> 29</td>\n",
       "      <td> 0.9987</td>\n",
       "      <td> 2.88</td>\n",
       "      <td> 0.82</td>\n",
       "      <td>  9.8</td>\n",
       "      <td> 8</td>\n",
       "    </tr>\n",
       "    <tr>\n",
       "      <th>455</th>\n",
       "      <td> 11.3</td>\n",
       "      <td> 0.62</td>\n",
       "      <td> 0.67</td>\n",
       "      <td> 5.2</td>\n",
       "      <td> 0.086</td>\n",
       "      <td>  6</td>\n",
       "      <td> 19</td>\n",
       "      <td> 0.9988</td>\n",
       "      <td> 3.22</td>\n",
       "      <td> 0.69</td>\n",
       "      <td> 13.4</td>\n",
       "      <td> 8</td>\n",
       "    </tr>\n",
       "  </tbody>\n",
       "</table>\n",
       "</div>"
      ],
      "text/plain": [
       "     fixed acidity  volatile acidity  citric acid  residual sugar  chlorides  \\\n",
       "267            7.9              0.35         0.46             3.6      0.078   \n",
       "278           10.3              0.32         0.45             6.4      0.073   \n",
       "390            5.6              0.85         0.05             1.4      0.045   \n",
       "440           12.6              0.31         0.72             2.2      0.072   \n",
       "455           11.3              0.62         0.67             5.2      0.086   \n",
       "\n",
       "     free sulfur dioxide  total sulfur dioxide  density    pH  sulphates  \\\n",
       "267                   15                    37   0.9973  3.35       0.86   \n",
       "278                    5                    13   0.9976  3.23       0.82   \n",
       "390                   12                    88   0.9924  3.56       0.82   \n",
       "440                    6                    29   0.9987  2.88       0.82   \n",
       "455                    6                    19   0.9988  3.22       0.69   \n",
       "\n",
       "     alcohol  quality  \n",
       "267     12.8        8  \n",
       "278     12.6        8  \n",
       "390     12.9        8  \n",
       "440      9.8        8  \n",
       "455     13.4        8  "
      ]
     },
     "execution_count": 15,
     "metadata": {},
     "output_type": "execute_result"
    }
   ],
   "source": [
    "wine_data.loc[ wine_data.loc[:, 'quality'] == 8, : ].head()  # rows with quality 8"
   ]
  },
  {
   "cell_type": "markdown",
   "metadata": {},
   "source": [
    "That last one might look tricky, but it's actually quite simple.\n",
    "```python\n",
    "wine_data.loc[:, 'quality'] == 8\n",
    "```\n",
    "will give a boolean array that is `True` where the `quality` is 8, and `False` otherwise.\n",
    "Using this boolean array as the `row_index` of the outer `loc[]` we effectively select all rows where quality is 8. \n",
    "\n",
    "Similar conditions can be built using other comparison operators such as `!=`, `>=`, `<=`."
   ]
  },
  {
   "cell_type": "markdown",
   "metadata": {},
   "source": [
    "Use `iloc[row_index, col_index]` if you want to specify the subset by integer position. In this case, slices are treated as regular `python` slices (start inclusive and end exclusive)."
   ]
  },
  {
   "cell_type": "code",
   "execution_count": 16,
   "metadata": {
    "collapsed": false
   },
   "outputs": [
    {
     "data": {
      "text/html": [
       "<div style=\"max-height:1000px;max-width:1500px;overflow:auto;\">\n",
       "<table border=\"1\" class=\"dataframe\">\n",
       "  <thead>\n",
       "    <tr style=\"text-align: right;\">\n",
       "      <th></th>\n",
       "      <th>fixed acidity</th>\n",
       "      <th>volatile acidity</th>\n",
       "      <th>citric acid</th>\n",
       "    </tr>\n",
       "  </thead>\n",
       "  <tbody>\n",
       "    <tr>\n",
       "      <th>0</th>\n",
       "      <td>  7.4</td>\n",
       "      <td> 0.70</td>\n",
       "      <td> 0.00</td>\n",
       "    </tr>\n",
       "    <tr>\n",
       "      <th>1</th>\n",
       "      <td>  7.8</td>\n",
       "      <td> 0.88</td>\n",
       "      <td> 0.00</td>\n",
       "    </tr>\n",
       "    <tr>\n",
       "      <th>2</th>\n",
       "      <td>  7.8</td>\n",
       "      <td> 0.76</td>\n",
       "      <td> 0.04</td>\n",
       "    </tr>\n",
       "    <tr>\n",
       "      <th>3</th>\n",
       "      <td> 11.2</td>\n",
       "      <td> 0.28</td>\n",
       "      <td> 0.56</td>\n",
       "    </tr>\n",
       "    <tr>\n",
       "      <th>4</th>\n",
       "      <td>  7.4</td>\n",
       "      <td> 0.70</td>\n",
       "      <td> 0.00</td>\n",
       "    </tr>\n",
       "  </tbody>\n",
       "</table>\n",
       "</div>"
      ],
      "text/plain": [
       "   fixed acidity  volatile acidity  citric acid\n",
       "0            7.4              0.70         0.00\n",
       "1            7.8              0.88         0.00\n",
       "2            7.8              0.76         0.04\n",
       "3           11.2              0.28         0.56\n",
       "4            7.4              0.70         0.00"
      ]
     },
     "execution_count": 16,
     "metadata": {},
     "output_type": "execute_result"
    }
   ],
   "source": [
    "wine_data.iloc[ 0:5, 0:3 ]"
   ]
  },
  {
   "cell_type": "markdown",
   "metadata": {},
   "source": [
    "Using `iloc[]` with labels will result in a `ValueError`"
   ]
  },
  {
   "cell_type": "code",
   "execution_count": 32,
   "metadata": {
    "collapsed": false
   },
   "outputs": [
    {
     "ename": "ValueError",
     "evalue": "Location based indexing can only have [integer, integer slice (START point is INCLUDED, END point is EXCLUDED), listlike of integers, boolean array] types",
     "output_type": "error",
     "traceback": [
      "\u001b[1;31m---------------------------------------------------------------------------\u001b[0m",
      "\u001b[1;31mValueError\u001b[0m                                Traceback (most recent call last)",
      "\u001b[1;32m<ipython-input-32-a393f445c44b>\u001b[0m in \u001b[0;36m<module>\u001b[1;34m()\u001b[0m\n\u001b[1;32m----> 1\u001b[1;33m \u001b[0mwine_data\u001b[0m\u001b[1;33m.\u001b[0m\u001b[0miloc\u001b[0m\u001b[1;33m[\u001b[0m\u001b[1;33m:\u001b[0m\u001b[1;33m,\u001b[0m \u001b[1;34m'quality'\u001b[0m\u001b[1;33m]\u001b[0m\u001b[1;33m\u001b[0m\u001b[0m\n\u001b[0m",
      "\u001b[1;32mC:\\Users\\Jongbin\\Anaconda\\lib\\site-packages\\pandas\\core\\indexing.pyc\u001b[0m in \u001b[0;36m__getitem__\u001b[1;34m(self, key)\u001b[0m\n\u001b[0;32m   1140\u001b[0m     \u001b[1;32mdef\u001b[0m \u001b[0m__getitem__\u001b[0m\u001b[1;33m(\u001b[0m\u001b[0mself\u001b[0m\u001b[1;33m,\u001b[0m \u001b[0mkey\u001b[0m\u001b[1;33m)\u001b[0m\u001b[1;33m:\u001b[0m\u001b[1;33m\u001b[0m\u001b[0m\n\u001b[0;32m   1141\u001b[0m         \u001b[1;32mif\u001b[0m \u001b[0mtype\u001b[0m\u001b[1;33m(\u001b[0m\u001b[0mkey\u001b[0m\u001b[1;33m)\u001b[0m \u001b[1;32mis\u001b[0m \u001b[0mtuple\u001b[0m\u001b[1;33m:\u001b[0m\u001b[1;33m\u001b[0m\u001b[0m\n\u001b[1;32m-> 1142\u001b[1;33m             \u001b[1;32mreturn\u001b[0m \u001b[0mself\u001b[0m\u001b[1;33m.\u001b[0m\u001b[0m_getitem_tuple\u001b[0m\u001b[1;33m(\u001b[0m\u001b[0mkey\u001b[0m\u001b[1;33m)\u001b[0m\u001b[1;33m\u001b[0m\u001b[0m\n\u001b[0m\u001b[0;32m   1143\u001b[0m         \u001b[1;32melse\u001b[0m\u001b[1;33m:\u001b[0m\u001b[1;33m\u001b[0m\u001b[0m\n\u001b[0;32m   1144\u001b[0m             \u001b[1;32mreturn\u001b[0m \u001b[0mself\u001b[0m\u001b[1;33m.\u001b[0m\u001b[0m_getitem_axis\u001b[0m\u001b[1;33m(\u001b[0m\u001b[0mkey\u001b[0m\u001b[1;33m,\u001b[0m \u001b[0maxis\u001b[0m\u001b[1;33m=\u001b[0m\u001b[1;36m0\u001b[0m\u001b[1;33m)\u001b[0m\u001b[1;33m\u001b[0m\u001b[0m\n",
      "\u001b[1;32mC:\\Users\\Jongbin\\Anaconda\\lib\\site-packages\\pandas\\core\\indexing.pyc\u001b[0m in \u001b[0;36m_getitem_tuple\u001b[1;34m(self, tup)\u001b[0m\n\u001b[0;32m   1345\u001b[0m     \u001b[1;32mdef\u001b[0m \u001b[0m_getitem_tuple\u001b[0m\u001b[1;33m(\u001b[0m\u001b[0mself\u001b[0m\u001b[1;33m,\u001b[0m \u001b[0mtup\u001b[0m\u001b[1;33m)\u001b[0m\u001b[1;33m:\u001b[0m\u001b[1;33m\u001b[0m\u001b[0m\n\u001b[0;32m   1346\u001b[0m \u001b[1;33m\u001b[0m\u001b[0m\n\u001b[1;32m-> 1347\u001b[1;33m         \u001b[0mself\u001b[0m\u001b[1;33m.\u001b[0m\u001b[0m_has_valid_tuple\u001b[0m\u001b[1;33m(\u001b[0m\u001b[0mtup\u001b[0m\u001b[1;33m)\u001b[0m\u001b[1;33m\u001b[0m\u001b[0m\n\u001b[0m\u001b[0;32m   1348\u001b[0m         \u001b[1;32mtry\u001b[0m\u001b[1;33m:\u001b[0m\u001b[1;33m\u001b[0m\u001b[0m\n\u001b[0;32m   1349\u001b[0m             \u001b[1;32mreturn\u001b[0m \u001b[0mself\u001b[0m\u001b[1;33m.\u001b[0m\u001b[0m_getitem_lowerdim\u001b[0m\u001b[1;33m(\u001b[0m\u001b[0mtup\u001b[0m\u001b[1;33m)\u001b[0m\u001b[1;33m\u001b[0m\u001b[0m\n",
      "\u001b[1;32mC:\\Users\\Jongbin\\Anaconda\\lib\\site-packages\\pandas\\core\\indexing.pyc\u001b[0m in \u001b[0;36m_has_valid_tuple\u001b[1;34m(self, key)\u001b[0m\n\u001b[0;32m    130\u001b[0m             \u001b[1;32mif\u001b[0m \u001b[1;32mnot\u001b[0m \u001b[0mself\u001b[0m\u001b[1;33m.\u001b[0m\u001b[0m_has_valid_type\u001b[0m\u001b[1;33m(\u001b[0m\u001b[0mk\u001b[0m\u001b[1;33m,\u001b[0m \u001b[0mi\u001b[0m\u001b[1;33m)\u001b[0m\u001b[1;33m:\u001b[0m\u001b[1;33m\u001b[0m\u001b[0m\n\u001b[0;32m    131\u001b[0m                 raise ValueError(\"Location based indexing can only have [%s] \"\n\u001b[1;32m--> 132\u001b[1;33m                                  \"types\" % self._valid_types)\n\u001b[0m\u001b[0;32m    133\u001b[0m \u001b[1;33m\u001b[0m\u001b[0m\n\u001b[0;32m    134\u001b[0m     \u001b[1;32mdef\u001b[0m \u001b[0m_is_nested_tuple_indexer\u001b[0m\u001b[1;33m(\u001b[0m\u001b[0mself\u001b[0m\u001b[1;33m,\u001b[0m \u001b[0mtup\u001b[0m\u001b[1;33m)\u001b[0m\u001b[1;33m:\u001b[0m\u001b[1;33m\u001b[0m\u001b[0m\n",
      "\u001b[1;31mValueError\u001b[0m: Location based indexing can only have [integer, integer slice (START point is INCLUDED, END point is EXCLUDED), listlike of integers, boolean array] types"
     ]
    }
   ],
   "source": [
    "wine_data.iloc[:, 'quality']"
   ]
  },
  {
   "cell_type": "markdown",
   "metadata": {},
   "source": [
    "#### 2. transform\n",
    "Setting a new column will automatically align the data by the indices."
   ]
  },
  {
   "cell_type": "code",
   "execution_count": 18,
   "metadata": {
    "collapsed": false
   },
   "outputs": [
    {
     "data": {
      "text/html": [
       "<div style=\"max-height:1000px;max-width:1500px;overflow:auto;\">\n",
       "<table border=\"1\" class=\"dataframe\">\n",
       "  <thead>\n",
       "    <tr style=\"text-align: right;\">\n",
       "      <th></th>\n",
       "      <th>fixed acidity</th>\n",
       "      <th>volatile acidity</th>\n",
       "      <th>citric acid</th>\n",
       "      <th>residual sugar</th>\n",
       "      <th>chlorides</th>\n",
       "      <th>free sulfur dioxide</th>\n",
       "      <th>total sulfur dioxide</th>\n",
       "      <th>density</th>\n",
       "      <th>pH</th>\n",
       "      <th>sulphates</th>\n",
       "      <th>alcohol</th>\n",
       "      <th>quality</th>\n",
       "      <th>new_column</th>\n",
       "    </tr>\n",
       "  </thead>\n",
       "  <tbody>\n",
       "    <tr>\n",
       "      <th>0</th>\n",
       "      <td>  7.4</td>\n",
       "      <td> 0.70</td>\n",
       "      <td> 0.00</td>\n",
       "      <td> 1.9</td>\n",
       "      <td> 0.076</td>\n",
       "      <td> 11</td>\n",
       "      <td> 34</td>\n",
       "      <td> 0.9978</td>\n",
       "      <td> 3.51</td>\n",
       "      <td> 0.56</td>\n",
       "      <td> 9.4</td>\n",
       "      <td> 5</td>\n",
       "      <td>NaN</td>\n",
       "    </tr>\n",
       "    <tr>\n",
       "      <th>1</th>\n",
       "      <td>  7.8</td>\n",
       "      <td> 0.88</td>\n",
       "      <td> 0.00</td>\n",
       "      <td> 2.6</td>\n",
       "      <td> 0.098</td>\n",
       "      <td> 25</td>\n",
       "      <td> 67</td>\n",
       "      <td> 0.9968</td>\n",
       "      <td> 3.20</td>\n",
       "      <td> 0.68</td>\n",
       "      <td> 9.8</td>\n",
       "      <td> 5</td>\n",
       "      <td>NaN</td>\n",
       "    </tr>\n",
       "    <tr>\n",
       "      <th>2</th>\n",
       "      <td>  7.8</td>\n",
       "      <td> 0.76</td>\n",
       "      <td> 0.04</td>\n",
       "      <td> 2.3</td>\n",
       "      <td> 0.092</td>\n",
       "      <td> 15</td>\n",
       "      <td> 54</td>\n",
       "      <td> 0.9970</td>\n",
       "      <td> 3.26</td>\n",
       "      <td> 0.65</td>\n",
       "      <td> 9.8</td>\n",
       "      <td> 5</td>\n",
       "      <td>NaN</td>\n",
       "    </tr>\n",
       "    <tr>\n",
       "      <th>3</th>\n",
       "      <td> 11.2</td>\n",
       "      <td> 0.28</td>\n",
       "      <td> 0.56</td>\n",
       "      <td> 1.9</td>\n",
       "      <td> 0.075</td>\n",
       "      <td> 17</td>\n",
       "      <td> 60</td>\n",
       "      <td> 0.9980</td>\n",
       "      <td> 3.16</td>\n",
       "      <td> 0.58</td>\n",
       "      <td> 9.8</td>\n",
       "      <td> 6</td>\n",
       "      <td>NaN</td>\n",
       "    </tr>\n",
       "    <tr>\n",
       "      <th>4</th>\n",
       "      <td>  7.4</td>\n",
       "      <td> 0.70</td>\n",
       "      <td> 0.00</td>\n",
       "      <td> 1.9</td>\n",
       "      <td> 0.076</td>\n",
       "      <td> 11</td>\n",
       "      <td> 34</td>\n",
       "      <td> 0.9978</td>\n",
       "      <td> 3.51</td>\n",
       "      <td> 0.56</td>\n",
       "      <td> 9.4</td>\n",
       "      <td> 5</td>\n",
       "      <td>NaN</td>\n",
       "    </tr>\n",
       "  </tbody>\n",
       "</table>\n",
       "</div>"
      ],
      "text/plain": [
       "   fixed acidity  volatile acidity  citric acid  residual sugar  chlorides  \\\n",
       "0            7.4              0.70         0.00             1.9      0.076   \n",
       "1            7.8              0.88         0.00             2.6      0.098   \n",
       "2            7.8              0.76         0.04             2.3      0.092   \n",
       "3           11.2              0.28         0.56             1.9      0.075   \n",
       "4            7.4              0.70         0.00             1.9      0.076   \n",
       "\n",
       "   free sulfur dioxide  total sulfur dioxide  density    pH  sulphates  \\\n",
       "0                   11                    34   0.9978  3.51       0.56   \n",
       "1                   25                    67   0.9968  3.20       0.68   \n",
       "2                   15                    54   0.9970  3.26       0.65   \n",
       "3                   17                    60   0.9980  3.16       0.58   \n",
       "4                   11                    34   0.9978  3.51       0.56   \n",
       "\n",
       "   alcohol  quality  new_column  \n",
       "0      9.4        5         NaN  \n",
       "1      9.8        5         NaN  \n",
       "2      9.8        5         NaN  \n",
       "3      9.8        6         NaN  \n",
       "4      9.4        5         NaN  "
      ]
     },
     "execution_count": 18,
     "metadata": {},
     "output_type": "execute_result"
    }
   ],
   "source": [
    "import numpy as np\n",
    "wine_data['new_column'] = np.nan\n",
    "wine_data.head()"
   ]
  },
  {
   "cell_type": "markdown",
   "metadata": {},
   "source": [
    "The `nan` object from the library `numpy` is used by `pandas` to specify missing values. Note that we've imported `numpy` using a slightly different syntax, namely\n",
    "\n",
    "Note that by assigning a single `np.nan` value to a new column (named `new_column`), we've created a column full of `NaN`s. This illustrates the point, but isn't too useful. Let's remove this new column with the `drop(label, axis)` method. The `axis` argument in `drop()` specifies which axis (0 = row, 1 = column) to drop. In this case, we're dropping the entire column, so we specify `axis=1`."
   ]
  },
  {
   "cell_type": "code",
   "execution_count": 27,
   "metadata": {
    "collapsed": false
   },
   "outputs": [
    {
     "data": {
      "text/html": [
       "<div style=\"max-height:1000px;max-width:1500px;overflow:auto;\">\n",
       "<table border=\"1\" class=\"dataframe\">\n",
       "  <thead>\n",
       "    <tr style=\"text-align: right;\">\n",
       "      <th></th>\n",
       "      <th>fixed acidity</th>\n",
       "      <th>volatile acidity</th>\n",
       "      <th>citric acid</th>\n",
       "      <th>residual sugar</th>\n",
       "      <th>chlorides</th>\n",
       "      <th>free sulfur dioxide</th>\n",
       "      <th>total sulfur dioxide</th>\n",
       "      <th>density</th>\n",
       "      <th>pH</th>\n",
       "      <th>sulphates</th>\n",
       "      <th>alcohol</th>\n",
       "      <th>quality</th>\n",
       "      <th>quality_str</th>\n",
       "    </tr>\n",
       "  </thead>\n",
       "  <tbody>\n",
       "    <tr>\n",
       "      <th>0</th>\n",
       "      <td>  7.4</td>\n",
       "      <td> 0.70</td>\n",
       "      <td> 0.00</td>\n",
       "      <td> 1.9</td>\n",
       "      <td> 0.076</td>\n",
       "      <td> 11</td>\n",
       "      <td> 34</td>\n",
       "      <td> 0.9978</td>\n",
       "      <td> 3.51</td>\n",
       "      <td> 0.56</td>\n",
       "      <td> 9.4</td>\n",
       "      <td> 5</td>\n",
       "      <td> not bad</td>\n",
       "    </tr>\n",
       "    <tr>\n",
       "      <th>1</th>\n",
       "      <td>  7.8</td>\n",
       "      <td> 0.88</td>\n",
       "      <td> 0.00</td>\n",
       "      <td> 2.6</td>\n",
       "      <td> 0.098</td>\n",
       "      <td> 25</td>\n",
       "      <td> 67</td>\n",
       "      <td> 0.9968</td>\n",
       "      <td> 3.20</td>\n",
       "      <td> 0.68</td>\n",
       "      <td> 9.8</td>\n",
       "      <td> 5</td>\n",
       "      <td> not bad</td>\n",
       "    </tr>\n",
       "    <tr>\n",
       "      <th>2</th>\n",
       "      <td>  7.8</td>\n",
       "      <td> 0.76</td>\n",
       "      <td> 0.04</td>\n",
       "      <td> 2.3</td>\n",
       "      <td> 0.092</td>\n",
       "      <td> 15</td>\n",
       "      <td> 54</td>\n",
       "      <td> 0.9970</td>\n",
       "      <td> 3.26</td>\n",
       "      <td> 0.65</td>\n",
       "      <td> 9.8</td>\n",
       "      <td> 5</td>\n",
       "      <td> not bad</td>\n",
       "    </tr>\n",
       "    <tr>\n",
       "      <th>3</th>\n",
       "      <td> 11.2</td>\n",
       "      <td> 0.28</td>\n",
       "      <td> 0.56</td>\n",
       "      <td> 1.9</td>\n",
       "      <td> 0.075</td>\n",
       "      <td> 17</td>\n",
       "      <td> 60</td>\n",
       "      <td> 0.9980</td>\n",
       "      <td> 3.16</td>\n",
       "      <td> 0.58</td>\n",
       "      <td> 9.8</td>\n",
       "      <td> 6</td>\n",
       "      <td>    good</td>\n",
       "    </tr>\n",
       "    <tr>\n",
       "      <th>4</th>\n",
       "      <td>  7.4</td>\n",
       "      <td> 0.70</td>\n",
       "      <td> 0.00</td>\n",
       "      <td> 1.9</td>\n",
       "      <td> 0.076</td>\n",
       "      <td> 11</td>\n",
       "      <td> 34</td>\n",
       "      <td> 0.9978</td>\n",
       "      <td> 3.51</td>\n",
       "      <td> 0.56</td>\n",
       "      <td> 9.4</td>\n",
       "      <td> 5</td>\n",
       "      <td> not bad</td>\n",
       "    </tr>\n",
       "  </tbody>\n",
       "</table>\n",
       "</div>"
      ],
      "text/plain": [
       "   fixed acidity  volatile acidity  citric acid  residual sugar  chlorides  \\\n",
       "0            7.4              0.70         0.00             1.9      0.076   \n",
       "1            7.8              0.88         0.00             2.6      0.098   \n",
       "2            7.8              0.76         0.04             2.3      0.092   \n",
       "3           11.2              0.28         0.56             1.9      0.075   \n",
       "4            7.4              0.70         0.00             1.9      0.076   \n",
       "\n",
       "   free sulfur dioxide  total sulfur dioxide  density    pH  sulphates  \\\n",
       "0                   11                    34   0.9978  3.51       0.56   \n",
       "1                   25                    67   0.9968  3.20       0.68   \n",
       "2                   15                    54   0.9970  3.26       0.65   \n",
       "3                   17                    60   0.9980  3.16       0.58   \n",
       "4                   11                    34   0.9978  3.51       0.56   \n",
       "\n",
       "   alcohol  quality quality_str  \n",
       "0      9.4        5     not bad  \n",
       "1      9.8        5     not bad  \n",
       "2      9.8        5     not bad  \n",
       "3      9.8        6        good  \n",
       "4      9.4        5     not bad  "
      ]
     },
     "execution_count": 27,
     "metadata": {},
     "output_type": "execute_result"
    }
   ],
   "source": [
    "wine_data = wine_data.drop('new_column', axis=1)\n",
    "wine_data.head()"
   ]
  },
  {
   "cell_type": "markdown",
   "metadata": {},
   "source": [
    "Let's try something more useful. We want to change the numeric 'quality' column into a string where values greater than 7 are labeled 'good', greater than 4 are labeled 'not bad', and less than or equal to 4 are labeled 'bad'.\n",
    "\n",
    "To do that, we first define a function that will take an integer and return either 'good', 'not bad', or 'bad' depending on its value. Then, we `apply` this function to each element of the column 'quaity' using the [`apply()`](http://pandas.pydata.org/pandas-docs/stable/generated/pandas.DataFrame.apply.html) method, which is directly assigned to a new column in `wine_data` labelled 'quality_str'."
   ]
  },
  {
   "cell_type": "code",
   "execution_count": 67,
   "metadata": {
    "collapsed": false
   },
   "outputs": [
    {
     "data": {
      "text/html": [
       "<div style=\"max-height:1000px;max-width:1500px;overflow:auto;\">\n",
       "<table border=\"1\" class=\"dataframe\">\n",
       "  <thead>\n",
       "    <tr style=\"text-align: right;\">\n",
       "      <th></th>\n",
       "      <th>fixed acidity</th>\n",
       "      <th>volatile acidity</th>\n",
       "      <th>citric acid</th>\n",
       "      <th>residual sugar</th>\n",
       "      <th>chlorides</th>\n",
       "      <th>free sulfur dioxide</th>\n",
       "      <th>total sulfur dioxide</th>\n",
       "      <th>density</th>\n",
       "      <th>pH</th>\n",
       "      <th>sulphates</th>\n",
       "      <th>alcohol</th>\n",
       "      <th>quality</th>\n",
       "      <th>quality_str</th>\n",
       "      <th>sulfur difference</th>\n",
       "    </tr>\n",
       "  </thead>\n",
       "  <tbody>\n",
       "    <tr>\n",
       "      <th>0</th>\n",
       "      <td>  7.4</td>\n",
       "      <td> 0.70</td>\n",
       "      <td> 0.00</td>\n",
       "      <td> 1.9</td>\n",
       "      <td> 0.076</td>\n",
       "      <td> 11</td>\n",
       "      <td> 34</td>\n",
       "      <td> 0.9978</td>\n",
       "      <td> 3.51</td>\n",
       "      <td> 0.56</td>\n",
       "      <td> 9.4</td>\n",
       "      <td> 5</td>\n",
       "      <td> not bad</td>\n",
       "      <td> 23</td>\n",
       "    </tr>\n",
       "    <tr>\n",
       "      <th>1</th>\n",
       "      <td>  7.8</td>\n",
       "      <td> 0.88</td>\n",
       "      <td> 0.00</td>\n",
       "      <td> 2.6</td>\n",
       "      <td> 0.098</td>\n",
       "      <td> 25</td>\n",
       "      <td> 67</td>\n",
       "      <td> 0.9968</td>\n",
       "      <td> 3.20</td>\n",
       "      <td> 0.68</td>\n",
       "      <td> 9.8</td>\n",
       "      <td> 5</td>\n",
       "      <td> not bad</td>\n",
       "      <td> 42</td>\n",
       "    </tr>\n",
       "    <tr>\n",
       "      <th>2</th>\n",
       "      <td>  7.8</td>\n",
       "      <td> 0.76</td>\n",
       "      <td> 0.04</td>\n",
       "      <td> 2.3</td>\n",
       "      <td> 0.092</td>\n",
       "      <td> 15</td>\n",
       "      <td> 54</td>\n",
       "      <td> 0.9970</td>\n",
       "      <td> 3.26</td>\n",
       "      <td> 0.65</td>\n",
       "      <td> 9.8</td>\n",
       "      <td> 5</td>\n",
       "      <td> not bad</td>\n",
       "      <td> 39</td>\n",
       "    </tr>\n",
       "    <tr>\n",
       "      <th>3</th>\n",
       "      <td> 11.2</td>\n",
       "      <td> 0.28</td>\n",
       "      <td> 0.56</td>\n",
       "      <td> 1.9</td>\n",
       "      <td> 0.075</td>\n",
       "      <td> 17</td>\n",
       "      <td> 60</td>\n",
       "      <td> 0.9980</td>\n",
       "      <td> 3.16</td>\n",
       "      <td> 0.58</td>\n",
       "      <td> 9.8</td>\n",
       "      <td> 6</td>\n",
       "      <td> not bad</td>\n",
       "      <td> 43</td>\n",
       "    </tr>\n",
       "    <tr>\n",
       "      <th>4</th>\n",
       "      <td>  7.4</td>\n",
       "      <td> 0.70</td>\n",
       "      <td> 0.00</td>\n",
       "      <td> 1.9</td>\n",
       "      <td> 0.076</td>\n",
       "      <td> 11</td>\n",
       "      <td> 34</td>\n",
       "      <td> 0.9978</td>\n",
       "      <td> 3.51</td>\n",
       "      <td> 0.56</td>\n",
       "      <td> 9.4</td>\n",
       "      <td> 5</td>\n",
       "      <td> not bad</td>\n",
       "      <td> 23</td>\n",
       "    </tr>\n",
       "  </tbody>\n",
       "</table>\n",
       "</div>"
      ],
      "text/plain": [
       "   fixed acidity  volatile acidity  citric acid  residual sugar  chlorides  \\\n",
       "0            7.4              0.70         0.00             1.9      0.076   \n",
       "1            7.8              0.88         0.00             2.6      0.098   \n",
       "2            7.8              0.76         0.04             2.3      0.092   \n",
       "3           11.2              0.28         0.56             1.9      0.075   \n",
       "4            7.4              0.70         0.00             1.9      0.076   \n",
       "\n",
       "   free sulfur dioxide  total sulfur dioxide  density    pH  sulphates  \\\n",
       "0                   11                    34   0.9978  3.51       0.56   \n",
       "1                   25                    67   0.9968  3.20       0.68   \n",
       "2                   15                    54   0.9970  3.26       0.65   \n",
       "3                   17                    60   0.9980  3.16       0.58   \n",
       "4                   11                    34   0.9978  3.51       0.56   \n",
       "\n",
       "   alcohol  quality quality_str  sulfur difference  \n",
       "0      9.4        5     not bad                 23  \n",
       "1      9.8        5     not bad                 42  \n",
       "2      9.8        5     not bad                 39  \n",
       "3      9.8        6     not bad                 43  \n",
       "4      9.4        5     not bad                 23  "
      ]
     },
     "execution_count": 67,
     "metadata": {},
     "output_type": "execute_result"
    }
   ],
   "source": [
    "def quality_to_str(qual):\n",
    "    if qual > 7:\n",
    "        return 'good'\n",
    "    elif qual > 4:\n",
    "        return 'not bad'\n",
    "    else:\n",
    "        return 'bad'\n",
    "    \n",
    "wine_data['quality_str'] = wine_data.loc[:, 'quality'].apply(quality_to_str)\n",
    "wine_data.head()"
   ]
  },
  {
   "cell_type": "markdown",
   "metadata": {},
   "source": [
    "With this workflow, you can write functions to transform data in any way you need. This isn't necessarily convenient, but keep in mind that `pandas` is still under (relatively active) development, so we might get more functionality in this aspect, soon!"
   ]
  },
  {
   "cell_type": "markdown",
   "metadata": {},
   "source": [
    "#### 3. sort\n",
    "This is easily achieved using the `sort()` method."
   ]
  },
  {
   "cell_type": "code",
   "execution_count": 33,
   "metadata": {
    "collapsed": false
   },
   "outputs": [
    {
     "data": {
      "text/html": [
       "<div style=\"max-height:1000px;max-width:1500px;overflow:auto;\">\n",
       "<table border=\"1\" class=\"dataframe\">\n",
       "  <thead>\n",
       "    <tr style=\"text-align: right;\">\n",
       "      <th></th>\n",
       "      <th>fixed acidity</th>\n",
       "      <th>volatile acidity</th>\n",
       "      <th>citric acid</th>\n",
       "      <th>residual sugar</th>\n",
       "      <th>chlorides</th>\n",
       "      <th>free sulfur dioxide</th>\n",
       "      <th>total sulfur dioxide</th>\n",
       "      <th>density</th>\n",
       "      <th>pH</th>\n",
       "      <th>sulphates</th>\n",
       "      <th>alcohol</th>\n",
       "      <th>quality</th>\n",
       "      <th>quality_str</th>\n",
       "    </tr>\n",
       "  </thead>\n",
       "  <tbody>\n",
       "    <tr>\n",
       "      <th>1478</th>\n",
       "      <td>  7.1</td>\n",
       "      <td> 0.875</td>\n",
       "      <td> 0.05</td>\n",
       "      <td> 5.7</td>\n",
       "      <td> 0.082</td>\n",
       "      <td>  3</td>\n",
       "      <td> 14</td>\n",
       "      <td> 0.99808</td>\n",
       "      <td> 3.40</td>\n",
       "      <td> 0.52</td>\n",
       "      <td> 10.2</td>\n",
       "      <td> 3</td>\n",
       "      <td> not bad</td>\n",
       "    </tr>\n",
       "    <tr>\n",
       "      <th>832 </th>\n",
       "      <td> 10.4</td>\n",
       "      <td> 0.440</td>\n",
       "      <td> 0.42</td>\n",
       "      <td> 1.5</td>\n",
       "      <td> 0.145</td>\n",
       "      <td> 34</td>\n",
       "      <td> 48</td>\n",
       "      <td> 0.99832</td>\n",
       "      <td> 3.38</td>\n",
       "      <td> 0.86</td>\n",
       "      <td>  9.9</td>\n",
       "      <td> 3</td>\n",
       "      <td> not bad</td>\n",
       "    </tr>\n",
       "    <tr>\n",
       "      <th>899 </th>\n",
       "      <td>  8.3</td>\n",
       "      <td> 1.020</td>\n",
       "      <td> 0.02</td>\n",
       "      <td> 3.4</td>\n",
       "      <td> 0.084</td>\n",
       "      <td>  6</td>\n",
       "      <td> 11</td>\n",
       "      <td> 0.99892</td>\n",
       "      <td> 3.48</td>\n",
       "      <td> 0.49</td>\n",
       "      <td> 11.0</td>\n",
       "      <td> 3</td>\n",
       "      <td> not bad</td>\n",
       "    </tr>\n",
       "    <tr>\n",
       "      <th>1374</th>\n",
       "      <td>  6.8</td>\n",
       "      <td> 0.815</td>\n",
       "      <td> 0.00</td>\n",
       "      <td> 1.2</td>\n",
       "      <td> 0.267</td>\n",
       "      <td> 16</td>\n",
       "      <td> 29</td>\n",
       "      <td> 0.99471</td>\n",
       "      <td> 3.32</td>\n",
       "      <td> 0.51</td>\n",
       "      <td>  9.8</td>\n",
       "      <td> 3</td>\n",
       "      <td> not bad</td>\n",
       "    </tr>\n",
       "    <tr>\n",
       "      <th>459 </th>\n",
       "      <td> 11.6</td>\n",
       "      <td> 0.580</td>\n",
       "      <td> 0.66</td>\n",
       "      <td> 2.2</td>\n",
       "      <td> 0.074</td>\n",
       "      <td> 10</td>\n",
       "      <td> 47</td>\n",
       "      <td> 1.00080</td>\n",
       "      <td> 3.25</td>\n",
       "      <td> 0.57</td>\n",
       "      <td>  9.0</td>\n",
       "      <td> 3</td>\n",
       "      <td> not bad</td>\n",
       "    </tr>\n",
       "  </tbody>\n",
       "</table>\n",
       "</div>"
      ],
      "text/plain": [
       "      fixed acidity  volatile acidity  citric acid  residual sugar  chlorides  \\\n",
       "1478            7.1             0.875         0.05             5.7      0.082   \n",
       "832            10.4             0.440         0.42             1.5      0.145   \n",
       "899             8.3             1.020         0.02             3.4      0.084   \n",
       "1374            6.8             0.815         0.00             1.2      0.267   \n",
       "459            11.6             0.580         0.66             2.2      0.074   \n",
       "\n",
       "      free sulfur dioxide  total sulfur dioxide  density    pH  sulphates  \\\n",
       "1478                    3                    14  0.99808  3.40       0.52   \n",
       "832                    34                    48  0.99832  3.38       0.86   \n",
       "899                     6                    11  0.99892  3.48       0.49   \n",
       "1374                   16                    29  0.99471  3.32       0.51   \n",
       "459                    10                    47  1.00080  3.25       0.57   \n",
       "\n",
       "      alcohol  quality quality_str  \n",
       "1478     10.2        3     not bad  \n",
       "832       9.9        3     not bad  \n",
       "899      11.0        3     not bad  \n",
       "1374      9.8        3     not bad  \n",
       "459       9.0        3     not bad  "
      ]
     },
     "execution_count": 33,
     "metadata": {},
     "output_type": "execute_result"
    }
   ],
   "source": [
    "wine_data.sort(columns='quality').head()  # the default is to sort in ascending order"
   ]
  },
  {
   "cell_type": "code",
   "execution_count": 35,
   "metadata": {
    "collapsed": false
   },
   "outputs": [
    {
     "data": {
      "text/html": [
       "<div style=\"max-height:1000px;max-width:1500px;overflow:auto;\">\n",
       "<table border=\"1\" class=\"dataframe\">\n",
       "  <thead>\n",
       "    <tr style=\"text-align: right;\">\n",
       "      <th></th>\n",
       "      <th>fixed acidity</th>\n",
       "      <th>volatile acidity</th>\n",
       "      <th>citric acid</th>\n",
       "      <th>residual sugar</th>\n",
       "      <th>chlorides</th>\n",
       "      <th>free sulfur dioxide</th>\n",
       "      <th>total sulfur dioxide</th>\n",
       "      <th>density</th>\n",
       "      <th>pH</th>\n",
       "      <th>sulphates</th>\n",
       "      <th>alcohol</th>\n",
       "      <th>quality</th>\n",
       "      <th>quality_str</th>\n",
       "    </tr>\n",
       "  </thead>\n",
       "  <tbody>\n",
       "    <tr>\n",
       "      <th>495 </th>\n",
       "      <td> 10.7</td>\n",
       "      <td> 0.35</td>\n",
       "      <td> 0.53</td>\n",
       "      <td> 2.6</td>\n",
       "      <td> 0.070</td>\n",
       "      <td>  5</td>\n",
       "      <td> 16</td>\n",
       "      <td> 0.99720</td>\n",
       "      <td> 3.15</td>\n",
       "      <td> 0.65</td>\n",
       "      <td> 11.0</td>\n",
       "      <td> 8</td>\n",
       "      <td> good</td>\n",
       "    </tr>\n",
       "    <tr>\n",
       "      <th>1403</th>\n",
       "      <td>  7.2</td>\n",
       "      <td> 0.33</td>\n",
       "      <td> 0.33</td>\n",
       "      <td> 1.7</td>\n",
       "      <td> 0.061</td>\n",
       "      <td>  3</td>\n",
       "      <td> 13</td>\n",
       "      <td> 0.99600</td>\n",
       "      <td> 3.23</td>\n",
       "      <td> 1.10</td>\n",
       "      <td> 10.0</td>\n",
       "      <td> 8</td>\n",
       "      <td> good</td>\n",
       "    </tr>\n",
       "    <tr>\n",
       "      <th>390 </th>\n",
       "      <td>  5.6</td>\n",
       "      <td> 0.85</td>\n",
       "      <td> 0.05</td>\n",
       "      <td> 1.4</td>\n",
       "      <td> 0.045</td>\n",
       "      <td> 12</td>\n",
       "      <td> 88</td>\n",
       "      <td> 0.99240</td>\n",
       "      <td> 3.56</td>\n",
       "      <td> 0.82</td>\n",
       "      <td> 12.9</td>\n",
       "      <td> 8</td>\n",
       "      <td> good</td>\n",
       "    </tr>\n",
       "    <tr>\n",
       "      <th>1061</th>\n",
       "      <td>  9.1</td>\n",
       "      <td> 0.40</td>\n",
       "      <td> 0.50</td>\n",
       "      <td> 1.8</td>\n",
       "      <td> 0.071</td>\n",
       "      <td>  7</td>\n",
       "      <td> 16</td>\n",
       "      <td> 0.99462</td>\n",
       "      <td> 3.21</td>\n",
       "      <td> 0.69</td>\n",
       "      <td> 12.5</td>\n",
       "      <td> 8</td>\n",
       "      <td> good</td>\n",
       "    </tr>\n",
       "    <tr>\n",
       "      <th>1202</th>\n",
       "      <td>  8.6</td>\n",
       "      <td> 0.42</td>\n",
       "      <td> 0.39</td>\n",
       "      <td> 1.8</td>\n",
       "      <td> 0.068</td>\n",
       "      <td>  6</td>\n",
       "      <td> 12</td>\n",
       "      <td> 0.99516</td>\n",
       "      <td> 3.35</td>\n",
       "      <td> 0.69</td>\n",
       "      <td> 11.7</td>\n",
       "      <td> 8</td>\n",
       "      <td> good</td>\n",
       "    </tr>\n",
       "  </tbody>\n",
       "</table>\n",
       "</div>"
      ],
      "text/plain": [
       "      fixed acidity  volatile acidity  citric acid  residual sugar  chlorides  \\\n",
       "495            10.7              0.35         0.53             2.6      0.070   \n",
       "1403            7.2              0.33         0.33             1.7      0.061   \n",
       "390             5.6              0.85         0.05             1.4      0.045   \n",
       "1061            9.1              0.40         0.50             1.8      0.071   \n",
       "1202            8.6              0.42         0.39             1.8      0.068   \n",
       "\n",
       "      free sulfur dioxide  total sulfur dioxide  density    pH  sulphates  \\\n",
       "495                     5                    16  0.99720  3.15       0.65   \n",
       "1403                    3                    13  0.99600  3.23       1.10   \n",
       "390                    12                    88  0.99240  3.56       0.82   \n",
       "1061                    7                    16  0.99462  3.21       0.69   \n",
       "1202                    6                    12  0.99516  3.35       0.69   \n",
       "\n",
       "      alcohol  quality quality_str  \n",
       "495      11.0        8        good  \n",
       "1403     10.0        8        good  \n",
       "390      12.9        8        good  \n",
       "1061     12.5        8        good  \n",
       "1202     11.7        8        good  "
      ]
     },
     "execution_count": 35,
     "metadata": {},
     "output_type": "execute_result"
    }
   ],
   "source": [
    "wine_data.sort(columns='quality', ascending=False).head()  # specify ascending=False to sort in descending order"
   ]
  },
  {
   "cell_type": "code",
   "execution_count": 47,
   "metadata": {
    "collapsed": false
   },
   "outputs": [
    {
     "data": {
      "text/html": [
       "<div style=\"max-height:1000px;max-width:1500px;overflow:auto;\">\n",
       "<table border=\"1\" class=\"dataframe\">\n",
       "  <thead>\n",
       "    <tr style=\"text-align: right;\">\n",
       "      <th></th>\n",
       "      <th>fixed acidity</th>\n",
       "      <th>volatile acidity</th>\n",
       "      <th>citric acid</th>\n",
       "      <th>residual sugar</th>\n",
       "      <th>chlorides</th>\n",
       "      <th>free sulfur dioxide</th>\n",
       "      <th>total sulfur dioxide</th>\n",
       "      <th>density</th>\n",
       "      <th>pH</th>\n",
       "      <th>sulphates</th>\n",
       "      <th>alcohol</th>\n",
       "      <th>quality</th>\n",
       "      <th>quality_str</th>\n",
       "    </tr>\n",
       "  </thead>\n",
       "  <tbody>\n",
       "    <tr>\n",
       "      <th>652</th>\n",
       "      <td> 15.9</td>\n",
       "      <td> 0.36</td>\n",
       "      <td> 0.65</td>\n",
       "      <td> 7.5</td>\n",
       "      <td> 0.096</td>\n",
       "      <td> 22</td>\n",
       "      <td> 71</td>\n",
       "      <td> 0.9976</td>\n",
       "      <td> 2.98</td>\n",
       "      <td> 0.84</td>\n",
       "      <td> 14.9</td>\n",
       "      <td> 5</td>\n",
       "      <td> not bad</td>\n",
       "    </tr>\n",
       "    <tr>\n",
       "      <th>588</th>\n",
       "      <td>  5.0</td>\n",
       "      <td> 0.42</td>\n",
       "      <td> 0.24</td>\n",
       "      <td> 2.0</td>\n",
       "      <td> 0.060</td>\n",
       "      <td> 19</td>\n",
       "      <td> 50</td>\n",
       "      <td> 0.9917</td>\n",
       "      <td> 3.72</td>\n",
       "      <td> 0.74</td>\n",
       "      <td> 14.0</td>\n",
       "      <td> 8</td>\n",
       "      <td>    good</td>\n",
       "    </tr>\n",
       "  </tbody>\n",
       "</table>\n",
       "</div>"
      ],
      "text/plain": [
       "     fixed acidity  volatile acidity  citric acid  residual sugar  chlorides  \\\n",
       "652           15.9              0.36         0.65             7.5      0.096   \n",
       "588            5.0              0.42         0.24             2.0      0.060   \n",
       "\n",
       "     free sulfur dioxide  total sulfur dioxide  density    pH  sulphates  \\\n",
       "652                   22                    71   0.9976  2.98       0.84   \n",
       "588                   19                    50   0.9917  3.72       0.74   \n",
       "\n",
       "     alcohol  quality quality_str  \n",
       "652     14.9        5     not bad  \n",
       "588     14.0        8        good  "
      ]
     },
     "execution_count": 47,
     "metadata": {},
     "output_type": "execute_result"
    }
   ],
   "source": [
    "wine_data.sort(columns='alcohol', ascending=False).iloc[0:2, :]  # chain with iloc to get top-n entries"
   ]
  },
  {
   "cell_type": "markdown",
   "metadata": {},
   "source": [
    "#### 4. summarize\n",
    "`pandas` has a few summary functions that will meet most of your needs:"
   ]
  },
  {
   "cell_type": "code",
   "execution_count": 52,
   "metadata": {
    "collapsed": false
   },
   "outputs": [
    {
     "data": {
      "text/plain": [
       "fixed acidity                                                     13303.1\n",
       "volatile acidity                                                  843.985\n",
       "citric acid                                                        433.29\n",
       "residual sugar                                                    4059.55\n",
       "chlorides                                                         139.859\n",
       "free sulfur dioxide                                                 25384\n",
       "total sulfur dioxide                                                74302\n",
       "density                                                          1593.798\n",
       "pH                                                                5294.47\n",
       "sulphates                                                         1052.38\n",
       "alcohol                                                          16666.35\n",
       "quality                                                              9012\n",
       "quality_str             not badnot badnot badgoodnot badnot badnot bad...\n",
       "dtype: object"
      ]
     },
     "execution_count": 52,
     "metadata": {},
     "output_type": "execute_result"
    }
   ],
   "source": [
    "wine_data.sum()  # return the sum of each column"
   ]
  },
  {
   "cell_type": "code",
   "execution_count": 51,
   "metadata": {
    "collapsed": false
   },
   "outputs": [
    {
     "data": {
      "text/plain": [
       "fixed acidity            8.319637\n",
       "volatile acidity         0.527821\n",
       "citric acid              0.270976\n",
       "residual sugar           2.538806\n",
       "chlorides                0.087467\n",
       "free sulfur dioxide     15.874922\n",
       "total sulfur dioxide    46.467792\n",
       "density                  0.996747\n",
       "pH                       3.311113\n",
       "sulphates                0.658149\n",
       "alcohol                 10.422983\n",
       "quality                  5.636023\n",
       "dtype: float64"
      ]
     },
     "execution_count": 51,
     "metadata": {},
     "output_type": "execute_result"
    }
   ],
   "source": [
    "wine_data.mean()  # the mean of each column (where applicable)"
   ]
  },
  {
   "cell_type": "code",
   "execution_count": 53,
   "metadata": {
    "collapsed": false
   },
   "outputs": [
    {
     "data": {
      "text/plain": [
       "fixed acidity            7.90000\n",
       "volatile acidity         0.52000\n",
       "citric acid              0.26000\n",
       "residual sugar           2.20000\n",
       "chlorides                0.07900\n",
       "free sulfur dioxide     14.00000\n",
       "total sulfur dioxide    38.00000\n",
       "density                  0.99675\n",
       "pH                       3.31000\n",
       "sulphates                0.62000\n",
       "alcohol                 10.20000\n",
       "quality                  6.00000\n",
       "dtype: float64"
      ]
     },
     "execution_count": 53,
     "metadata": {},
     "output_type": "execute_result"
    }
   ],
   "source": [
    "wine_data.median()  # median"
   ]
  },
  {
   "cell_type": "markdown",
   "metadata": {},
   "source": [
    "Or as shown earlier, the `describe()` method gives you a quick summary of each column:"
   ]
  },
  {
   "cell_type": "code",
   "execution_count": 55,
   "metadata": {
    "collapsed": false
   },
   "outputs": [
    {
     "data": {
      "text/html": [
       "<div style=\"max-height:1000px;max-width:1500px;overflow:auto;\">\n",
       "<table border=\"1\" class=\"dataframe\">\n",
       "  <thead>\n",
       "    <tr style=\"text-align: right;\">\n",
       "      <th></th>\n",
       "      <th>fixed acidity</th>\n",
       "      <th>volatile acidity</th>\n",
       "      <th>citric acid</th>\n",
       "      <th>residual sugar</th>\n",
       "      <th>chlorides</th>\n",
       "      <th>free sulfur dioxide</th>\n",
       "      <th>total sulfur dioxide</th>\n",
       "      <th>density</th>\n",
       "      <th>pH</th>\n",
       "      <th>sulphates</th>\n",
       "      <th>alcohol</th>\n",
       "      <th>quality</th>\n",
       "    </tr>\n",
       "  </thead>\n",
       "  <tbody>\n",
       "    <tr>\n",
       "      <th>count</th>\n",
       "      <td> 1599.000000</td>\n",
       "      <td> 1599.000000</td>\n",
       "      <td> 1599.000000</td>\n",
       "      <td> 1599.000000</td>\n",
       "      <td> 1599.000000</td>\n",
       "      <td> 1599.000000</td>\n",
       "      <td> 1599.000000</td>\n",
       "      <td> 1599.000000</td>\n",
       "      <td> 1599.000000</td>\n",
       "      <td> 1599.000000</td>\n",
       "      <td> 1599.000000</td>\n",
       "      <td> 1599.000000</td>\n",
       "    </tr>\n",
       "    <tr>\n",
       "      <th>mean</th>\n",
       "      <td>    8.319637</td>\n",
       "      <td>    0.527821</td>\n",
       "      <td>    0.270976</td>\n",
       "      <td>    2.538806</td>\n",
       "      <td>    0.087467</td>\n",
       "      <td>   15.874922</td>\n",
       "      <td>   46.467792</td>\n",
       "      <td>    0.996747</td>\n",
       "      <td>    3.311113</td>\n",
       "      <td>    0.658149</td>\n",
       "      <td>   10.422983</td>\n",
       "      <td>    5.636023</td>\n",
       "    </tr>\n",
       "    <tr>\n",
       "      <th>std</th>\n",
       "      <td>    1.741096</td>\n",
       "      <td>    0.179060</td>\n",
       "      <td>    0.194801</td>\n",
       "      <td>    1.409928</td>\n",
       "      <td>    0.047065</td>\n",
       "      <td>   10.460157</td>\n",
       "      <td>   32.895324</td>\n",
       "      <td>    0.001887</td>\n",
       "      <td>    0.154386</td>\n",
       "      <td>    0.169507</td>\n",
       "      <td>    1.065668</td>\n",
       "      <td>    0.807569</td>\n",
       "    </tr>\n",
       "    <tr>\n",
       "      <th>min</th>\n",
       "      <td>    4.600000</td>\n",
       "      <td>    0.120000</td>\n",
       "      <td>    0.000000</td>\n",
       "      <td>    0.900000</td>\n",
       "      <td>    0.012000</td>\n",
       "      <td>    1.000000</td>\n",
       "      <td>    6.000000</td>\n",
       "      <td>    0.990070</td>\n",
       "      <td>    2.740000</td>\n",
       "      <td>    0.330000</td>\n",
       "      <td>    8.400000</td>\n",
       "      <td>    3.000000</td>\n",
       "    </tr>\n",
       "    <tr>\n",
       "      <th>25%</th>\n",
       "      <td>    7.100000</td>\n",
       "      <td>    0.390000</td>\n",
       "      <td>    0.090000</td>\n",
       "      <td>    1.900000</td>\n",
       "      <td>    0.070000</td>\n",
       "      <td>    7.000000</td>\n",
       "      <td>   22.000000</td>\n",
       "      <td>    0.995600</td>\n",
       "      <td>    3.210000</td>\n",
       "      <td>    0.550000</td>\n",
       "      <td>    9.500000</td>\n",
       "      <td>    5.000000</td>\n",
       "    </tr>\n",
       "    <tr>\n",
       "      <th>50%</th>\n",
       "      <td>    7.900000</td>\n",
       "      <td>    0.520000</td>\n",
       "      <td>    0.260000</td>\n",
       "      <td>    2.200000</td>\n",
       "      <td>    0.079000</td>\n",
       "      <td>   14.000000</td>\n",
       "      <td>   38.000000</td>\n",
       "      <td>    0.996750</td>\n",
       "      <td>    3.310000</td>\n",
       "      <td>    0.620000</td>\n",
       "      <td>   10.200000</td>\n",
       "      <td>    6.000000</td>\n",
       "    </tr>\n",
       "    <tr>\n",
       "      <th>75%</th>\n",
       "      <td>    9.200000</td>\n",
       "      <td>    0.640000</td>\n",
       "      <td>    0.420000</td>\n",
       "      <td>    2.600000</td>\n",
       "      <td>    0.090000</td>\n",
       "      <td>   21.000000</td>\n",
       "      <td>   62.000000</td>\n",
       "      <td>    0.997835</td>\n",
       "      <td>    3.400000</td>\n",
       "      <td>    0.730000</td>\n",
       "      <td>   11.100000</td>\n",
       "      <td>    6.000000</td>\n",
       "    </tr>\n",
       "    <tr>\n",
       "      <th>max</th>\n",
       "      <td>   15.900000</td>\n",
       "      <td>    1.580000</td>\n",
       "      <td>    1.000000</td>\n",
       "      <td>   15.500000</td>\n",
       "      <td>    0.611000</td>\n",
       "      <td>   72.000000</td>\n",
       "      <td>  289.000000</td>\n",
       "      <td>    1.003690</td>\n",
       "      <td>    4.010000</td>\n",
       "      <td>    2.000000</td>\n",
       "      <td>   14.900000</td>\n",
       "      <td>    8.000000</td>\n",
       "    </tr>\n",
       "  </tbody>\n",
       "</table>\n",
       "</div>"
      ],
      "text/plain": [
       "       fixed acidity  volatile acidity  citric acid  residual sugar  \\\n",
       "count    1599.000000       1599.000000  1599.000000     1599.000000   \n",
       "mean        8.319637          0.527821     0.270976        2.538806   \n",
       "std         1.741096          0.179060     0.194801        1.409928   \n",
       "min         4.600000          0.120000     0.000000        0.900000   \n",
       "25%         7.100000          0.390000     0.090000        1.900000   \n",
       "50%         7.900000          0.520000     0.260000        2.200000   \n",
       "75%         9.200000          0.640000     0.420000        2.600000   \n",
       "max        15.900000          1.580000     1.000000       15.500000   \n",
       "\n",
       "         chlorides  free sulfur dioxide  total sulfur dioxide      density  \\\n",
       "count  1599.000000          1599.000000           1599.000000  1599.000000   \n",
       "mean      0.087467            15.874922             46.467792     0.996747   \n",
       "std       0.047065            10.460157             32.895324     0.001887   \n",
       "min       0.012000             1.000000              6.000000     0.990070   \n",
       "25%       0.070000             7.000000             22.000000     0.995600   \n",
       "50%       0.079000            14.000000             38.000000     0.996750   \n",
       "75%       0.090000            21.000000             62.000000     0.997835   \n",
       "max       0.611000            72.000000            289.000000     1.003690   \n",
       "\n",
       "                pH    sulphates      alcohol      quality  \n",
       "count  1599.000000  1599.000000  1599.000000  1599.000000  \n",
       "mean      3.311113     0.658149    10.422983     5.636023  \n",
       "std       0.154386     0.169507     1.065668     0.807569  \n",
       "min       2.740000     0.330000     8.400000     3.000000  \n",
       "25%       3.210000     0.550000     9.500000     5.000000  \n",
       "50%       3.310000     0.620000    10.200000     6.000000  \n",
       "75%       3.400000     0.730000    11.100000     6.000000  \n",
       "max       4.010000     2.000000    14.900000     8.000000  "
      ]
     },
     "execution_count": 55,
     "metadata": {},
     "output_type": "execute_result"
    }
   ],
   "source": [
    "wine_data.describe()"
   ]
  },
  {
   "cell_type": "markdown",
   "metadata": {},
   "source": [
    "Usually, summaries are more useful when combined with `groupby` operations. A `groupby` operation lets you group the data be its value in one or more column, then you can generate summaries per group:"
   ]
  },
  {
   "cell_type": "code",
   "execution_count": 62,
   "metadata": {
    "collapsed": false
   },
   "outputs": [
    {
     "data": {
      "text/html": [
       "<div style=\"max-height:1000px;max-width:1500px;overflow:auto;\">\n",
       "<table border=\"1\" class=\"dataframe\">\n",
       "  <thead>\n",
       "    <tr style=\"text-align: right;\">\n",
       "      <th></th>\n",
       "      <th>fixed acidity</th>\n",
       "      <th>volatile acidity</th>\n",
       "      <th>citric acid</th>\n",
       "      <th>residual sugar</th>\n",
       "      <th>chlorides</th>\n",
       "      <th>free sulfur dioxide</th>\n",
       "      <th>total sulfur dioxide</th>\n",
       "      <th>density</th>\n",
       "      <th>pH</th>\n",
       "      <th>sulphates</th>\n",
       "      <th>alcohol</th>\n",
       "      <th>quality</th>\n",
       "    </tr>\n",
       "    <tr>\n",
       "      <th>quality_str</th>\n",
       "      <th></th>\n",
       "      <th></th>\n",
       "      <th></th>\n",
       "      <th></th>\n",
       "      <th></th>\n",
       "      <th></th>\n",
       "      <th></th>\n",
       "      <th></th>\n",
       "      <th></th>\n",
       "      <th></th>\n",
       "      <th></th>\n",
       "      <th></th>\n",
       "    </tr>\n",
       "  </thead>\n",
       "  <tbody>\n",
       "    <tr>\n",
       "      <th>bad</th>\n",
       "      <td> 8.142204</td>\n",
       "      <td> 0.589503</td>\n",
       "      <td> 0.237755</td>\n",
       "      <td> 2.542070</td>\n",
       "      <td> 0.092989</td>\n",
       "      <td> 16.567204</td>\n",
       "      <td> 54.645161</td>\n",
       "      <td> 0.997068</td>\n",
       "      <td> 3.311653</td>\n",
       "      <td> 0.618535</td>\n",
       "      <td>  9.926478</td>\n",
       "      <td> 4.901882</td>\n",
       "    </tr>\n",
       "    <tr>\n",
       "      <th>good</th>\n",
       "      <td> 8.566667</td>\n",
       "      <td> 0.423333</td>\n",
       "      <td> 0.391111</td>\n",
       "      <td> 2.577778</td>\n",
       "      <td> 0.068444</td>\n",
       "      <td> 13.277778</td>\n",
       "      <td> 33.444444</td>\n",
       "      <td> 0.995212</td>\n",
       "      <td> 3.267222</td>\n",
       "      <td> 0.767778</td>\n",
       "      <td> 12.094444</td>\n",
       "      <td> 8.000000</td>\n",
       "    </tr>\n",
       "    <tr>\n",
       "      <th>not bad</th>\n",
       "      <td> 8.472043</td>\n",
       "      <td> 0.475239</td>\n",
       "      <td> 0.297921</td>\n",
       "      <td> 2.535066</td>\n",
       "      <td> 0.082967</td>\n",
       "      <td> 15.315412</td>\n",
       "      <td> 39.479092</td>\n",
       "      <td> 0.996494</td>\n",
       "      <td> 3.311577</td>\n",
       "      <td> 0.691004</td>\n",
       "      <td> 10.828375</td>\n",
       "      <td> 6.237754</td>\n",
       "    </tr>\n",
       "  </tbody>\n",
       "</table>\n",
       "</div>"
      ],
      "text/plain": [
       "             fixed acidity  volatile acidity  citric acid  residual sugar  \\\n",
       "quality_str                                                                 \n",
       "bad               8.142204          0.589503     0.237755        2.542070   \n",
       "good              8.566667          0.423333     0.391111        2.577778   \n",
       "not bad           8.472043          0.475239     0.297921        2.535066   \n",
       "\n",
       "             chlorides  free sulfur dioxide  total sulfur dioxide   density  \\\n",
       "quality_str                                                                   \n",
       "bad           0.092989            16.567204             54.645161  0.997068   \n",
       "good          0.068444            13.277778             33.444444  0.995212   \n",
       "not bad       0.082967            15.315412             39.479092  0.996494   \n",
       "\n",
       "                   pH  sulphates    alcohol   quality  \n",
       "quality_str                                            \n",
       "bad          3.311653   0.618535   9.926478  4.901882  \n",
       "good         3.267222   0.767778  12.094444  8.000000  \n",
       "not bad      3.311577   0.691004  10.828375  6.237754  "
      ]
     },
     "execution_count": 62,
     "metadata": {},
     "output_type": "execute_result"
    }
   ],
   "source": [
    "wine_data.groupby('quality_str').mean()"
   ]
  },
  {
   "cell_type": "markdown",
   "metadata": {},
   "source": [
    "### Recap - Data Manipulation\n",
    "To reiterate, most of your data manipulation needs can be fulfilled with the following four functions\n",
    "1. **select**: select a subset of *rows* or *columns* according to certain conditions\n",
    "2. **transform**: add *new columns* to the data (usually as a function of existing columns)\n",
    "3. **sort**: reorder the rows of the data in a specific order\n",
    "4. **summarize**: aggregate values to representative *statistics* (sum, mean, median, etc.)"
   ]
  },
  {
   "cell_type": "markdown",
   "metadata": {},
   "source": [
    "## Exercise 5.\n",
    "1. Add a new column to the `wine_data` labelled '`sulfur difference`', with values defined as `\"total sulfur dioxide\" - \"free sulfur dioxide\"'.\n",
    "1. Find the top 10 entries with highest `sulfur difference`.\n",
    "1. Find the mean `sulfur difference` for each (numeric) quality level"
   ]
  },
  {
   "cell_type": "markdown",
   "metadata": {},
   "source": [
    "## Plotting (with `matplotlib`)\n",
    "Much of your basic plotting needs can be satisfied with the `plot()` method if `pandas` `DataFrame`s. The `plot()` method uses the `matplotlib` module (also included with Anaconda), so we need to import that first:"
   ]
  },
  {
   "cell_type": "code",
   "execution_count": 151,
   "metadata": {
    "collapsed": false
   },
   "outputs": [],
   "source": [
    "# ipython command to show plots in an ipython notebook\n",
    "%matplotlib inline  \n",
    "\n",
    "import matplotlib\n",
    "import matplotlib.pyplot as plt"
   ]
  },
  {
   "cell_type": "markdown",
   "metadata": {},
   "source": [
    "Most basic plots can be achieved by specifying `x`, `y` (when appropriate), and the `kind` of plot as arguments of the `plot()` method. Available `kind`s are:\n",
    "- line : line plot\n",
    "- bar : vertical bar plot\n",
    "- barh : horizontal bar plot\n",
    "- kde/density : Kernel Density Estimation plot\n",
    "- area : area plot\n",
    "- scatter : scatter plot\n",
    "- hexbin : hexbin plot\n",
    "\n",
    "`x` and `y` can be specified by column label. For example, ploting the residual sugar ($x$) against alcohol ($y$) as a scatter plot is as simple as:"
   ]
  },
  {
   "cell_type": "code",
   "execution_count": 152,
   "metadata": {
    "collapsed": false,
    "scrolled": true
   },
   "outputs": [
    {
     "data": {
      "image/png": "[encoded data removed]",
      "text/plain": [
       "<matplotlib.figure.Figure at 0xc9d8c88>"
      ]
     },
     "metadata": {},
     "output_type": "display_data"
    }
   ],
   "source": [
    "plot = wine_data.plot(x='residual sugar', y='alcohol', kind='scatter', title='Test Scatter Plot')"
   ]
  },
  {
   "cell_type": "markdown",
   "metadata": {
    "collapsed": false
   },
   "source": [
    "Use summarized `DataFrame`s to plot summaries."
   ]
  },
  {
   "cell_type": "code",
   "execution_count": 153,
   "metadata": {
    "collapsed": false
   },
   "outputs": [
    {
     "data": {
      "image/png": "[encoded data removed]",
      "text/plain": [
       "<matplotlib.figure.Figure at 0xd20dcf8>"
      ]
     },
     "metadata": {},
     "output_type": "display_data"
    }
   ],
   "source": [
    "plot = wine_data.groupby('quality').mean().loc[:, 'residual sugar'].plot(kind='bar', title='Mean Residual Sugar')"
   ]
  },
  {
   "cell_type": "markdown",
   "metadata": {},
   "source": [
    "## Machine learning tools (with `scikit-learn`)\n",
    "[`scikit-learn`](http://scikit-learn.org) is another useful package that provides a whole suite of machine learning algorithms to use with your data.\n",
    "\n",
    "The module name is `sklearn`, but you'll want to `import` just the submodules you intend to use, since `scikit-learn` provides so many models/methods. Today, we'll build a simple example using `RandomForestClassifier`s. (But the process for using other models is quite similar.)"
   ]
  },
  {
   "cell_type": "code",
   "execution_count": 160,
   "metadata": {
    "collapsed": true
   },
   "outputs": [],
   "source": [
    "# import the modules we intend to use\n",
    "from sklearn.ensemble import RandomForestClassifier"
   ]
  },
  {
   "cell_type": "markdown",
   "metadata": {
    "collapsed": true
   },
   "source": [
    "Lets randomly split our `wine_data` 50:50. We'll use the first 50% of data to train a `RandomForestClassifier`, and use that classifier to predict the quality of the remaining 50%. This can be done using `numpy`'s random number generator:"
   ]
  },
  {
   "cell_type": "code",
   "execution_count": 164,
   "metadata": {
    "collapsed": false
   },
   "outputs": [],
   "source": [
    "# generate a list of random numbers, as many as the length of wine_data, to use as a mask\n",
    "msk = np.random.rand(len(wine_data))\n",
    "\n",
    "# convert the msk to a list of True or False, where 80% of the list will be True\n",
    "msk = msk < 0.5\n",
    "\n",
    "# the columns of wine_data that match the True values of msk are assigned to the training set\n",
    "train_data = wine_data.loc[msk]\n",
    "test_data = wine_data.loc[~msk]"
   ]
  }
 ],
 "metadata": {
  "kernelspec": {
   "display_name": "Python 2",
   "language": "python",
   "name": "python2"
  },
  "language_info": {
   "codemirror_mode": {
    "name": "ipython",
    "version": 2
   },
   "file_extension": ".py",
   "mimetype": "text/x-python",
   "name": "python",
   "nbconvert_exporter": "python",
   "pygments_lexer": "ipython2",
   "version": "2.7.8"
  }
 },
 "nbformat": 4,
 "nbformat_minor": 0
}
